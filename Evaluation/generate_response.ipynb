{
 "cells": [
  {
   "cell_type": "code",
   "execution_count": 1,
   "metadata": {},
   "outputs": [
    {
     "name": "stderr",
     "output_type": "stream",
     "text": [
      "/Users/muhammadarham/Drive/TraversaalCode/QAMCode/venv/lib/python3.10/site-packages/tqdm/auto.py:21: TqdmWarning: IProgress not found. Please update jupyter and ipywidgets. See https://ipywidgets.readthedocs.io/en/stable/user_install.html\n",
      "  from .autonotebook import tqdm as notebook_tqdm\n"
     ]
    },
    {
     "name": "stdout",
     "output_type": "stream",
     "text": [
      "----- Complete loading inputs -----\n",
      "['hornby', 'funkybuys', 'ccf', 'generic', 'chuggington', 'kato (usa)', 'bachmann', 'kato', 'power trains', 'preiser', 'takara tomy', 'roco', 'fisher-price', 'gaugemaster', 'faller', 'topro', 'dapol', 'ratio', 'arsuk', 'trix', 'railway - bachmann', 'busch', 'piko', 'corgi', 'sohni-wicke', 'train tech', 'cato', 'power city trains', 'train', 'sales la', 'märklin my world', 'mattel', 'graham farish', 'carousel', 'peptim scenics', 'learning curve', 'walthers trainline', 'woodland scenics', 'peco', 'fisher price', 'jouef', 'thomas & friends', 'plan toys', 'bandai', 'atlas', 'nmit', 'viessmann', 'tommy tech', 'model power', 'micki leksaker', 'lelin', 'bachmann n gauge', 'märklin', 'tomytec', 'bigjigs rail', 'trains', 'tomy', 'smasha-ballz', 'moomins', 'paddington bear', 'charlie bears', 'yoohoo & friends', 'monchhichi', 'aurora', 'the puppet company', 'ty', 'henry hugglemonster', 'melissa & doug', 'animal babies', 'olympic mascots', 'suma collection', 'whitehouse leisure', 'me to you', 'creative toys', 'marvel', 'squishable', 'roadkill toys', 'talking friends', 'unknown', \"l'atitude\", 'mbnf', 'teddy mountain', 'ty~beanie bears', 'pokemon center', 'webkinz', 'banpresto', 'wild republic', 'ty uk ltd', 'enesco', 'steiff', 'star wars', 'theworks', 'living nature', 'golden bear', 'disney', 'ben & holly', 'paw patrol', 'teddy hermann', 'cepia', \"claire's\", 'vivid imaginations', 'ukgiftstoreonline', 'white lab mouse', 'lil kinz', 'hansa', 'ty~beanies animals', 'warmhearts fully microwavable', 'shopzeus', 'keel toys', 'beanie boos', 'doodle jump', 'pokémon', 'bluw', 'my blue nose friends', 'kingcootech', 'ty beanie', 'little buddy', 'ravensden', 'ibtt', 'yoo hoo', 'cuddlekins', 'ty~country exclusives', 'build your bears wardrobe', 'thinkgeek', 'sanei', 'minnie mouse, mad about minnie', 'plants vs zombies', 'london teddy bears', 'pts', 'ty~beanies cats', 'dowman', 'be my bear', 'titan merchandise', 'beanie babies', 'ty~beanies dogs', 'zigamazoo', 'manhattan toy', 'sun arrow', 'minions', 'beanies', 'miyoni', 'jazwares', 'harrods', 'pillow pet 1 direction pink puppy 18\"', 'ge entertainment', 'angry birds', 'personalised bears and rag dolls', 'yao', 'jelly cat', 'funko', 'snoopy', 'aurora my little pony', 'ty~baby range including pluffies', 'gund', 'dempsey designs minicraft', 'mickey mouse', 'jet creations', 'pluto', 'dear zoo', 'ty~halloween beanies', 'great eastern entertainment', 'mcdonalds happy meal toy', 'soft toy', 'apc', 'glitzy jewels', 'tben', 'latitude enfant', 'apples to pears', 'animagic', 'ganz usa llc', 'huggle buddies', 'yao design', \"andy's\", 'ty~beanies birds', 'nici', 'beanie buddies', 'amscan', 'hasbro', 'schmidt', 'how to train your dragon', 'dc comics', 'ayumi', 'pintoy', 'poly dice sets', 'q-workshop', 'forlorn hope games', 'lcr', 'chavet, chavet', 'the dice place', 'oblivion', 'privateer press', 'bigcherry', 'chessex', 'dice world', 'jaques of london', 'wizkids', 'smartdealspro', 'ultra pro', 'cracker kit fillers', 'bicycle', 'smart shopping', 'gamewright', 'jesters', 'asmodée', '8', 'hutter trade gmbh + co kg', 'kent & cleal', 'pocketgames', 'learning resources', 'witzigs', 'traditional games', 'dice', 'bigjigs toys', \"rory's story cubes\", 'whatwears', 'pocket dice games', 'my', 'unbeatable games', 'drumond park', 'the creativity hub', 'royaltyroute', 'backspindle games', 'steve jackson games', \"graham's games\", 'opaque', 'left center right', 'front porch', 'patch products inc.', 'crossword', 'tarquin group', 'bristol novelties', 'galt toys', 'rio grande games', 'days of wonder', 'koplow games', 'tgo', 'david westnedge games', 'rory story cubes', 'bulk dice', 'evil hat productions', 'kitsch', 'a to z', 'boggle', 'cultzilla', 'backspindle games limited', 'shalinindia', 'dude dice', 'university games', 'renegade game studios', 'base', 're:creation group plc', 'tarquin', 'west5products', 'david westnedge', 'queen games', 'tenzi', 'think fun', 'polyhedral', 'george', 'kmc', 'masters', 'rockets toys', 'brimtoy', 'slammer', 'creative fingers', 'paul lamond games', 'motion sand', 'legler', 'playmobil', 'coppenrath verlag', 'c.p.m.', 'baker ross', 'disney frozen', 'clikkabox', 'christmas @ thumpers', 'lego', 'kinetic sand', 'fuzzy felt', 'william sinclairs', 'caltime', 'magic sand', 'christmas and decorations', 'vstoy', 'ty-p2c', 'schleich', 'coppenrath', 'caltime click!', 'namesakes', 'advent gift boxes', 'craftplay', 'my little pony', 'simba toys', 'cra-z-sand', 'muppets', 'advent calendars', 'mega bloks', 'barbie', 'alison gardiner', 'polly pocket', 'henry glass fabrics', 'chi chi love', 'woodmansterne', 'shopondo', 'class gifts', 'luxury applique sack', 'amz', 'magical minerals', 'green board games', 'national gallery company', 'tizaro', 'kidoloop', 'imaginext', 'paint and play today', 'wizard', 'brian clegg', 'chelsea f.c.', 'just4baby', 'john adams', 'fdc', 'caltime plus', 'great gizmos', 'mts', 'premier decorations', 'misha', 'markwins international', 'spin master', 'advanced printing', 'djeco', 'cil', 'moshi monsters', 'creativ co ltd', 'wishtime', 'givenchy', 'kandytoys', 'character options', 'personaliseurgift', 'footprintdirect.co.uk', 'tobar', 'hot wheels', 'amt', 'ixo', 'forces of valor', 'oxford diecast', 'universal hobbies', 'autoart', 'minichamps', 'tri-ang', 'universal hobby', 'morris & co', 'bburago', 'hennessey', 'smer', 'american muscle - ertl collectibles', 'ford', 'greenlight', 'maisto', 'siku', 'vktech', 'new ray', 'hasegawa', 'unbekannt', 'coca-cola', 'oxford', 'britains big farm', 'chevrolet', 'riley', 'aston martin', 'tamiya', 'tayo', 'classix', 'set', 'teamsterz', 'alpine', 'aoshima', 'collectable diecast', 'grids', 'audi', 'captain scarlet', 'm & d international', 'brio', 'sonic', 'kyosho', 'airfix', 'miniart', 'aprilia', 'thunderbird', 'fast and furious', 'lambretta', 'cararama', 'aivtalk', 'welly', 'opel', 'honda', 'revell-monogram', 'joe bar', 'sieper gmbh', 'supreme models online', 'autosculpt miniatures', 'lamborghini', 'bao core', 'matchbox 1-75', 'fujimi', 'transformers', 'dr who', 'diamond select', 'games workshop', 'nickelodeon', 'kaiyodo', 'pop! vinyl', 'astro boy', 'harley quinn', 'teenage mutant ninja turtles', 'turtles', 'wing', 'thinkway toys', 'thinkway', 'neca', 'dc super friends', 'toy story', 'aliens and predators', 'slugterra toys, games & dart mini action figures', 'star images', 'final fantasy', 'mcfarlane', 'hot toys', 'good smile company', 'playmates', 'first 4 figure', 'bakugan', 'thundercats', 'eye on asia', 'ben 10', 'ickee stickeez', 'sun toys', 'sega', 'dc universe classics', 'medicos', 'fabrikations', 'star trek', 'freeing', 'art asylum', 'moshi: rox tin', 'super wings', 'missing', 'toy zany', 'get retro', 'the walking dead', 'plastoy', 'vivid', 'green lantern', 'spider-man', 'star cutouts ltd', 'trade mark collections', 'octonauts', 'wacky wobbler', 'sideshow collectibles', 'the hobbit', 'living dead dolls', 'bullyland', 'iron man 3- marvel', 'harry potter', 'transformers prime beast hunters', 'master replicas', 'kotobukiya', 'playskool heroes', 'warhammer', 'goodsforu', 'aimee shine', 'halo', 'x-wing miniatures game', 'the adventures of batman & robin', 'heart art collection', 'men in black', 'fantasy flight games', 'just for fun', 'big chief', 'master replicas llc.', 'k2-accessories alphabet letter beads', 'k2-accessories seed beads', 'mystyle', 'alex', \"lyndie's craft\", 'colour changing products', 'ethahe', 'sodial(r)', 'toygalaxy', 'majorcrafts', 'markylis', 'k2-accessories jewellery findings', 'just say beads', 'hama', 'hasah', 'daisy loom', 'k2-accessories acrylic plastic beads', 'fashion lights', 'tinkertonk', 'hama beads', 'riga', 'ksg', 'k2-accessories charm pendants', 'loom', 'k2-accessories alloy metal spacer beads', 'btc', 'jacks', 'rainbow loom', 'perler', 'hape international', 'k2-accessories craft', 'loomastic bands', 'toyland', 'amazing child montessori', 'viskey', 'k2-accessories', 'indigo', 'grafix', 'se', 'ateamart', 'bead-boutique', 'ses creative', 'diamant', 'jeweltailor', 'dan import', 'k2-accessories chip beads', 'viga', \"beado's\", 'k2-accessories organza ribbon', 'sequin art hello kitty gothic design', 'efashionsquare', 'crafty capers', 'sequin art style karoake', 'zap - z', 'crystals & gems uk', nan, 'flair', 'hengsong', 'kids create', '4m crafty kids', 'playhouse fun craft', 'h grossman', 'beads4crafts', 'make it with beads', 'playbox', 'dkl', 'crayola', 'orien', 'guidecraft', 'the orb factory', 'sequin art', 'treasuretrove toys', 'k2-accessories ready necklace & bracelet', 'k2-accessories organza bags', 'loom bands', 'pinflair', 'k2-accessories beading thread wire', 'fashion angels', 'millhouse', 'gogo', 'tidlo', 'friendship loom', 'ark', 'creativity international', 'be creative', 'batman', 'past times quilling', 'craft planet', 'peaceable kingdom', 'trend enterprises inc.', \"moon's outlet\", 'schipper', 'craftime', 'made4u', 'anker', 'paper projects', 'icon', 'pinzhi', 'alligator', 'colour talk', 'anthony peters', 'sticker4u', 'the original glowstars', 'npw', 'disney princess', 'animewild', 'abystyle', 'cake supplies', 'craft', 'crafty bitz', 'huntgold', 'monster high', 'peterkin', 'starform', 'decopatch', \"anita's\", 'reeves', 'rcl toys', 'yeesam art diy', 'crazy grans', 'kawaii', 'woodware craft collection ltd', 'minilabel', 'jinx', 'kids b crafty', 'sizzix', 'fun express', 'scoot', 'fun stickers', 'gregory crafts & gifts', 'vilac', 'unique party', 'the sticker factory', 'scribbledown', 'little pals', 'studio light', 'crafters companion', 'stickers', 'hardley dangerous', 'purple peach', '4m', 'party bag fillers', 'the stickerman', 'yps', 'le toy van', 'indigo worldwide ltd', 'tallon', 'partyrama', 'gelarti', 'sofia the first', 'habico', 'noris spiele', 'sparkle ups', 'me & my big ideas', 'alligator books', 'woodandtots', \"die'sire\", 'just feathers by crazy grans', 'bosskut', 'noris', 'peppa pig', 'mammut', 'stephens', 'xcut', 'gaffney', 'winx club', 'welecom', 'toymaster', 'intex', 'aquaplay', 'scrunch buckets', 'no', 'novelties direct', 'mondo', 'mt creations', 'halsall', 'pams', 'bestway', 'henbrant', 'duplay', 'giochi preziosi', 'kt', 'benross', 'deao', 'bml', \"wet 'n' wild\", 'e-bargains', 'toyrific', 'big', 'swimways', 'pro swim gmbh', 'konfi-store', 'bigmouthinc.', 'logitoys', 'seruna', 'toy brokers', '45\" sunset glow pool', 'theinthing.com', 'guaranteed4less', 'happy hop', 'fineway', 'big toys', 'esto24', 'a b gee', 'smoby', 'downtown', 'boppi', 'edx education', 'aqua noodle', 'wilton bradley', 'konfidence', 'swimming and pool games', 'big mouth toys', 'tapball', 'inspire', 'jilong', 'concession market®', 'dantoy', 'gohner', 'bbtradesales', 'medieval dragon ride-on', 'nerf', 'dotcomgiftshop', 'babymad', 'allkindathings', 'zizzi', 'game', 'splash and play', \"teddyt's\", 'power rangers', 'happy people', 'hanna-barbera', 'pms international', 'great gifts', 'funtime', 'henbrandt', 'rubies', 'widmann', 'impressions', 'ilovefancydress', 'fun shack', 'wicked', 'wicked costumes', 'parties unwrapped', 'fireman sam', 'sancto', 'california costume', 'rubber johnnies tm', 'maboobie', 'aqua beads', 'airsuits', 'stretchy suits', 'emmas wardrobe', \"smiffy's\", 'red star', 'gizzy', 'mcs', 'rubbies france', 'morphsuits', 'green', 'tinsley transfers', 'disguise', 'mega fancy dress', 'rasta imposta', 'widman', 'crazyladies costumes', 'fancy dress accessories', 'king horse', 'akord', 'glitter tattoo stencils', 'stachetats', 'fun and glitter', 'mdl', 'glitter tattoo powder', 'bargained-tatz', 'ipt imports', 'amatola-kei', 'worldwide', 'glitter tattoo starter kits', 'ggsell', 'gb posters', 'body glue- adhesive', 'party bags 2 go', 'dazzle glitter tattoos', 'karizma', 'home fusion company', 'yimei', 'inkwear', 'unique freak tattoos', 'munchiemooskids', 'themed glitter tattoo kits', 'bundle monster', 'glitter tattoo kits', 'anker international', 'kressies', 'rms international', 'body art desire', 'tmp', 'savvi', 'the harlequin brand', 'playwrite', 'fashion accessory', 'slj party bags', 'snazaroo', 'halloween', 'glitter body art', 'vogue of eden', 'hendbrandt', 'flag tattoos - temporary tattoos 4u', 'the avengers', 'the mortal instruments city of bones', 'fizz creations ltd', 'glitzglam', 'evtech', 'liverpool f.c.', 'girls glitter tattoo kits', 'the glitter tree', 'allaccessories', 'jkr', 'themed tattoos by savvi', 'scalextric', 'orbotix', 'super robot', 'product enterprise', 'zibits', 'sgm', 'xq toys', 'sora', 'taigen', 'china industries ltd t/a wow! stuff', 'carrera', 'micro chargers', 'heng long', 'ninco', 'kidkraft', 'simm', 'brushwood', 'deluxe materials', 'wow wee', 'gameonstuff', 'hti', 'the trash pack', 'flying gadgets', 'tonka chuck & friends', 'micro scalextric', 'tobot', 'trumpeter', 'bsd', 'darda', 'dazzling toys', 'hpi', 'bsp', 'chinatera', 'stadlbauer marketing + vertrieb gmbh', 'pj', 'traxxas', 'bqlzr hobbies', 'carrera rc', 'hsp', 'dickie toys', 'super mario', 'other', 'comtechlogic', \"k'nex\", \"carrera 'go'\", 'niceeshop', 'greenhills garages', 'springrc', 'belle', 'tyco', 'tagamoto', 'take n play', 'nano speed', 'aotop', 'syma', 'global gizmos', 'fq', 'deliawinterfel', 'm:tech', '13', 'anbee', 'wayin', 'parrot', 'buyincoins', 'cheerson', 'hubsan', 'ds styles', 'jamara', 'sl', 'jr propo', 'rockyoo', 'rcmodelpart', 'tenflyer', 'sa', 'eachine', 'familymall', 'iparaailury', 'top race', 'blade', 'coocheer', 'dji', 'skyreat', 'double horse', 'jxd', 'douself', 'express trading', 'yacool ®', 'nollmit', 'tiny direct deal', 'bladez toyz', 'goolrc', 'wow stuff', 'tarot', 'blueskysea_syma', 'xt-xinte', 'afunta', 'dreamflying', 'wltoys', 'ares', 'hobbypower', 'xcsource', 'btg', 'hb homeboat®', 'austar', 'venom', 'tonsee®', 'hpi racing', 'anself', 'walkera', 'jmt', 'thunder tiger', 'sunnytech®', 'uumart', 'mudder', 'rcecho', 'safari drives', 'often', 'hobbytiger', 'electrovision', 'skyq hobbies', 'horizon hobby', 'icolourful', 'secraft', 'spektrum', 'graupner', 'crw', 'sas protection', 'immersionrc / fatshark', 'fayee', 'ketpriz', 'sj r/c', 'teamlosi', 'signstek', 'oem', 'hometalks', 'xstunt', 'bluebeach', 'team losi, inc.', 'dynamite', 'atdoshop', 'power^up', 'vangold', 'hot bodies', 'inspiration bricks toys', 'creator', 'revell', 'insect lore', 'massey ferguson tronico', 'ingenious toys - enlighten brick', 'mic-o-mic', 'meccano', 'bruder', 'zoob', 'character building', 'sluban', 'commotion group', 'p&d', 'tegu', 'plasticant mobilo', 'metal earth', 'nanoblock', 'laser', 'matchmaker', 'copag', 'professor puzzle', 'aedes', 'super9shop', 'maps toys', 'gundam', 'makedo', 'base ace', 'tagamoto enforcer set', 'a plus', 'lite brix', 'warrior single pk ast', 'metcalfe', 'architecture', 'bb toys', 'cobi', 'kawada', 'nicko', 'boyu', 'lite brix moonlight monsters', 'seasonal', 'click-a-brick', 'ingenious toys', 'tinkertoy', 'kre-o', 'built up toys', 'match attax', 'future card buddyfight', 'yu gi oh', 'cardfight', 'inkworks', 'top trumps', 'enter play', 'konami', 'kakapopotcg card storage', 'magic', 'bin weevils trading card game', 'wizards of the coast', 'topps', 'crescent cardboard co', 'yu-gi-oh!', 'magic madhouse', 'bcw', 'grossman', 'magic the gathering', 'twilight saga', 'trading cards', 'upper deck', 'magic box int.', 'hawk wargames', 'bbc', 'panini', 'clubking ltd', 'yu-gi-oh 2013 collectors tin wave 1', 'yu-gi-oh 2013 zexal collectors tin', 'yu gi oh!', 'diverse', 'adrenalyn xl', 'castle maclellan', 'match attax 15/16', \"gogo's crazy bones\", 'slam attax', 'world cup', 'wizards', 'rittenhouse', 'yugioh', 'dragon shield', 'world of warcraft', 'wwe', 'kakapopo tcg card albums & binders', 'cardfight vanguard', 'redakai', 'toymarket', 'toys4u', 'crescent', 'pokemon trading cards', 'adrenalyn', 'pokã©mon', 'ultimate guard', 'upstarts', 'champion sports', 'nestlé', 'bungees', 'arcane tinmen aps', 'force attax', 'mustbebonkers', 'pokémon tcg', \"strathmore artist papers - atc's\", 'magic the gathering 2013 core set intro pack', 'the pokémon company', 'inazuma eleven', 'magic box international', 'nintendo', 'rovio entertainer', 'enterplay', 'ever after high', 'hollywood party', 'partyfest.de', 'foil balloons - hearts', 'modelling balloons', 'party2u', 'qualatex / unique', 'deco party uk', 'belbal', 'talking tables', 'robelli', 'expression', 'fancydresscoz', 'every-occasion-party-supplies', 'happy birthday balloons', 'pam', 'shatchi', 'mickey & minnie mouse', 'number shaped balloons', 'regent', 'inflatable santa', 'b-loony', 'flexmetal', 'black/silver/white balloons & decorations', 'jungle party', 'display', 'pearlised solid colour 11\" latex', 'balloondevil', 'my 1st jcb', 'farmyard party', 'expression factory', 'balloonshop', 'signature balloons', 'zsl', 'unique', 'qualatex', 'pearlised solid colour 5\" latex', 'glitz pack', 'impact graphix', 'bbc worldwide', 'grabo', 'hallmark', 'elope', 'anagram', 'monster parties', 'ginger ray', 'inflatable partyware', 'party destination', 'heaton party', 'notjustballoons', 'princess party', 'esco', 'partyman', 'the balloon printing company', \"mother's day\", 'baby, christening & baby shower', 'karaloon', 'sear', 'anagram/md', 'pst', 'northstar', 'partyallsorts', 'pinkwebshop', 'polka', 'crew', 'zebra boutique', 'dinosaur party', 'anniversary house', 'baby shower host', 'creative', '50th birthday', 'noel tatt', 'in the night garden', 'despicable me', 'trucks & diggers/under construction party', 'bws', 'oaktree', 'wish list for you', 'mayflower', 'northstar balloons', 'good deals online', 'bride boutique', 'bobofunnco', 'neon balloons', 'ukps', 'simon elvin', 'flex', 'hello kitty', 'jewel finish solid colour 3ft latex', 'dinosaur prehistoric party', 'floral natalie', 'hollywood/movie night', 'maya the bee', 'bgc', 'hollywood/prom - theme event', 'tons of fun balloons ltd', 'christmas', 'cooltechstuff', 'gardeningwill', 'red, white and blue', 'illoom balloons purple - pack of 5', 'ggg', 'funny balloons', 'esscosa', 'am', 'tri-balloons', 'kaleidoscope', 'puffin balloons', 'supercast', 'music/disco/rock & roll theme', 'rcd trading international', 'anniversary', 'animal theme balloons', '1st birthday', 'unique party supplies', 'ballerina tutu much fun party', 'disney junior', 'blue banana', 'discount party warehouse', 'charachter shape balloons', 'party genies', 'fancydrescoz', 'the personalised party co.', 'alphabet art', 'monsters, inc', 'fingerprintedprints cards-n-invites', 'frilly lily', 'personalised party products', 'partner international', 'gruffalo party', 'just cards', 'stagsuits', 'sowest limited', 'party delights ltd', 'female fancy dress', \"rubie's masquerade uk\", \"rubie's masquerade\", 'dream2reality', 'childs fancy dress', 'pin it on', 'star55', 'home & leisure online', 'leg avenue', 'dress up america', 'homeking', 'fancy me', 'mmc', \"honey b's\", 'black star medieval clothing', 'rubies costume co', 'classified', 'find-me-a-gift', 'amscan international', 'angels fancy dress', 'lifewheel', 'christy`s', 'blue planet online', 'pretend to bee', 'merlins medieval closet', 'wrestling masks uk', 'morph costumes', 'immoral clothing', 'budgies fancy dress', 'yummy bee', 'alandra', \"christy's\", 'amav', 'ytm', 'gemz fancy dress', 'dealspanks', 'street fighter', 'fancy dress warehouse', 'rubies uk', 'xs-party', 'yuelai', 'iosss', 'bodysocks', 'headbands', 'fabfancydress', 'menu life', 'ls glamour room', 'uustar®', 'dp', 'farfouil en fête', \"jojo's costumes\", 'party central', 'sailor girl', 'model power (postage stamp planes)', 'burago', 'motormax', 'ambulance', 'sunstar', 'altaya', 'lag3', 'looney tunes', 'alfa romeo', 'britains', 'road signature', 'ferrari', 'italeri', 'vw', 'cat construction', 'dickies', 'mercedes-benz', 'richmond toys, motormax', 'basetoys', 'speed cycles', 'lancia', 'joyride entertainment - james bond', 'meng', 'sgm ®', 'bentley', 'joal', 'yat ming', 'gemini jets', 'omnibus', 'britains farm', 'seben-racing', 'motor mania', 'land rover', 'easymodel', 'spark', 'icm', 'wilesco', 'mirage hobby', 'afv club', 'academy', 'emhar', 'lucky omen', 'dust studio', 'plastic soldier company', 'timberkits', 'in the greenwood laser', 'hobbyboss', 'zvezda', 'takom', 'dickie-tamiya', 'armourfast', 'warlord games', 'dragon', 'fog models', 'del prado', 'bronco', 'bronco models', 'pegasus hobbies', 'mirror models', 'model kasten', 'hlt miniatures', 'asuka model', 'fascinations', 'dragon / aoshima', 'interallied', 'platts', 'fine molds', 'ace authentic', 'special armour', 'noch', 'noname', 'all aboard', 'black butler', 'kibri', 'bojeux', 'mask-arade', 'funny party hats', 'life is good', 'acrobat & buffoonery ltd', 'gleader', 'samantha peach', 'omo', 'unbespielt', 'happyfans', 'tv stars', 'eye masks', 'neo+', 'kids stars', 'toogoo(r)', 'eqd ltd', 'ascrafts', 'greyland mask', 'chinkyboo', 'big party costumes', 'omygod', 'zagone studios', 'widmann s.r.l.', 'was', 'topmei', 'fhs', 'ultrabyeasypeasystore', 'celebrity cutouts', 'ting tang', 'diy celebrity masks', 'bargains-galore', 'creepyparty', 'partiesandgifts', 'ark toys', 'glantop', 'great value multipacks', 'monsters university', 'om', 'blue frog toys', 'lucy locket', 'noble collection', 'internet gift store', 'custom masks', 'curious george', 'best dressed', 'bingwan', 'tinksky', 'fine horse', 'big hero 6', 'the cosplay company', 'coxeer', 'sophzzzz toy shop', 'pop stars', 'foxy facemasks', 'movie stars', 'starepe', 'fdps', 'mask & co', 'babe mall inc', 'palmers', 'ontrad limited', 'posh porschey', 'maskheaven', 'royal family', 'papo', 'peanuts', 'holztiger', 'holtztiger', 'onlinediscountstore', 'safari', 'littlest pet shop', 'breyer', 'toob', 'frogs', 'scificollector', 'papo fantasy', 'aedes ars', 'sf801329tt', 'mike the knight', 'papo knights', 'dragon models', 'calafant', 'idena', 'quay', 'imagingext', 'cards', 'benelic', 'janod', 'dragon defenders of berk', 'oskar & ellen', 'sevi', 'takaratommy', 'budkins', 'saint seiya', 'go mini', 'green hornet', 'pororo', 'born to play', 'motor zone', 'tonka', 'weise-toys', \"marvel regener8'rs\", 'ebbro', 'auto books', 'mattel gmbh', 'funrise', 'eddie stobart', 'pixar cars', 'rollierend', 'premier portfolio int. ltd', 'octane gain', 'jada', 'corgi toys', 'miles', 'green farm', 'real toys', 'matchbox', 'simba - dickie', 'ut', 'wiggles', 'shelby collectibles', 'ice cream', 'construction service series', 'diecast', 'road rippers', 'flight', 'railway', 'max tow truck', 'hobby', 'emek', 'roadbot', 'aviation 72', 'stobart', 'lujii', 'my clippy', \"mcdonald's\", 'universal studios', 'soft toys', 'bravest warriors', 'wild republic birds', 'hong kong phooey', 'wwf', 'mookie', 'puckator', 'heart cell', 'three british trade', 'mini flopsie', 'maileg', 'home impressions inc', 'pokemon pikachu', 'cozy plush(tm)', 'tashuunka-plüschtiere', 'heinrich bauer', 'pms®', 'posh paws international', 'bing', 'birds eye', 'ty - beanie bears', 'fur real friends', 'high street tv', 'tlp', 'tummy stuffers', 'peter rabbit', 'studio ghibli', 'ice age', 'cozy plush premium', 'green horse', 'pokemon flareon', 'ty beanie babies', 'super mario bros', 'just play', 'sigikid', 'hugfun', 'keel soft toy', 'ty~beanies aquatic', 'beanie boo buddies', 'tmnt', 'ty inc.', 'my pillow pets', 'ty inc', 'fiesta toys', 'ty beanie boos', 'precious petzzz', 'ty beanie baby', 'linxinwei', 'cuddles time', 'anime', 'guess how much i love you', 'the bear factory', 'lv017 angeline 1964', 'pms', 'hooty friends(tm)', 'finnegan king of the leprechauns', 'treeline polyester filling', 'universal picture', 'matfield lavender gifts', \"webkinz lil'kinz\", 'furry warmers', 'oddco', 'small foot', 'worry eater', 'miku', 'worms', 'deb darling designs', 'generico', 'a.s.puppets', 'hape beleduc', 'united labels', 'living puppets', 'snuggle pets', 'fiesta', 'mister maker', 'creativity for kids', 'm gordon & sons', 'ew education', 'dowman imports ltd', 'beleduc', 'folkmanis', 'dna toys', 'eqd', 'angels avenue', 'ugglys', 'tellatale', 'ahk hand puppets', 'hacker t. dog', 'fiesta crafts', 'la vogue', 'marias', 'ahk/dowman', 'empire', 'well-goal', 'faithful friends', 'ekind', 'ultra-pro protective card sleeves', 'one direction', 'bushiroad', 'ultra pro deck protectors (small)', 'tangle creations', 'cubicfun', 'max protect', 'ravensburger', 'tangle jr', 'cheatwell games', 'fun toys', 'happy cubes', '4 pocket pro binder black', 'nanostad', 'gormiti', 'tangle junior', 'the training shop kit', 'soccer brain', 'lord of the rings', 'paul lamond', 'blancho', 'fantasy cube', 'kokuyo', 'cubic fun 3d puzzle', 'ultra pro platinum series nine pocket pages', 'dodolive', 'dsn', 'trading card supplies', 'puzzibits', 'kids4ever', 'liberty imports', 'd-toys', 'ultra pro deck protectors (standard)', 'max protection', 'ak sport', 'cityscape maps ltd', 'card concept', 'novelties', 'dbpower', 'cool create', 'card way', 'coiledspring games', 'artbox', 'yifan', 'popular playthings', 'newisland', 'smart games', 'winshare puzzles and games', 'moyu', 'qiyi', 'puzzle with me', 'arturoludwig', 'ultimate metal puzzles', 'foxmind', 'kailimeng', 'oostifun', \"rubik's\", 'gonge', 'hanayama', 'houdini magic boxes', 'hard as nails', 'professor puzzle - uk', 'shengshou', 'great minds', 'gamebrotherz', 'educational insights', 'milton bradley', 'megaminx', 'infinite innovations inc', 'family games', 'puzl', 'fame master', 'stillcool', 'qj', 'sunsout', 'the great minds range', 'novelty gifts', 'arxon', 'l-feng-uk', 'invero®', 'classic dining moments', 'diset', 'fábricas agrupadas de munecas', 'plasmart', 'peers hardy', 'paper jamz', 'perfectly pink', 'party stuff 4u', 'gemma', 'benross group', 'the fancy dress and party store', 'happy birthday', 'b', 'ekual', 'bgc studios', 'creative party', 'fun machine', 'the expressions factory', 'party savvy', 'superstars', 'gift zone', 'fancy pants store', 'heaton', 'football', 'partyallsorts.fba', 'eurowrap', 'pure tone', 'flashflash banners', 'oaktree uk', 'wildgoose education', 'ladybug party', 'card and party store', 'swoosh supplies', 'vivo', 'bontempi igirl', 'my ukulele pack', 'fun house', '80s material girl', 'hollywood star attraction vip bunting - 12ft', 'the flagman', 'beistle', 'olympics/jubilee', 'elizabeth arden', 'doc mcstuffins', 'boland bv', 'club', 'truly madly deeply', 'party discount', 'flags and bunting', 'folat', 'polysgems', 'b&l', '60°', 'theory11', 'trival pursuit', 'magicmakers', 'asmodee editions', 'cockroach poker (german edition)', 'winning moves', 'phase 10 card game', 'deal or no deal', 'greylight limited', 'plaid hat games', 'alderac entertainment group', 'shuffle', 'deckboosters', 'royal magic', 'pok?mon', 'penny arcade', 'sussed?', 'playroom entertainment', 'gibsons games', 'out of the box', 'tactic', 'volkswagen', 'bicycle cards', 'waddingtons', 'pathfinder', 'ce toys', 'specialist', 'surprised stare games', 'a kent & cleal game', 'pokemon tcg xy 2014 spring tin', 'trivial pursuits', 'wild and wolf', 'redtooth poker', 'vanguard', 'greater than games', 'jack daniel', 'piatnik', 'omerta', 'brybelly', 'cartamundi', 'jyw global', 'dover publications', 'playing cards', 'db', 'lion games & gifts europe', 'fantasy flight', 'yu-gi-oh', 'comic maker', 'arcane wonders', 'game of thrones', 'burger boss', 'aquarius', 'caspari', 'looney labs', 'ace trumps', 'old glory', 'trefl', 'z-man games', 'mayday games', 'silkcraft', 'water lane gifts', 'tc digital games', 'game salute', 'the blue crown', 'big potato', 'aoe performance', 'uno', 'karnival', 'blue orange', 'capcom', 'yousave', 'legion supplies', 'thank you', 'hobby games', 'us playing card co.', 'tallon international', 'tasty minstrel games', 'the green board game co.', 'pictionary', 'we games', 'frozen', 'stoneblade entertainment', 'blue exorcist', 'games with names', 'lagoon', 'magicworld', 'uno cards', 'kem', 'ellusionist', 'royaltylane', 'uk party games', 'cartemundai', 'world of tartan', 'sensory trust', 'heritage playing cards', 'little wigwam', 'jack daniels whiskey', 'white wizards games', 'the united states playing card company', 'race for the galaxy: brink of war', 'kakaxi', 'ystari', 'sk japan', 'iello', 'tally-ho', \"marvin's magic\", 'bee', 'albatros international', 'hamleys', 'riverboat gaming', 'the regency chess company', 'trademark', 'master of chess', 'dgt', 'chess', '2-in-1 chess & draughts', 'millenium', 'green toys and games', 'chessebook', 'philos, philos', 'arbe', 'house of marbles', 'sac', 'topixo', 'souvnear', 'studio anne carlton', 'pse', 'english chess company', 'british museum', 'thurston', 'lion chess', 'stonkraft', 'chessbazaar', 'character games ltd', 'toypost', 'texas holdem poker layout cloth', 'prime chess', 'geoffrey parker', 'trademark toys', 'goki', 'sonic the hedgehog', 'national museum, scotland', 'wegiel', 'woodeyland', 'world playground ltd', 'short chess', 'ideal', 'chess and bridge', 'tactic games uk', 'squirrel poker', 'elysium enterprises', 'stirling fox', 'negiel', 'picture favourites', 'kakapopotcg deck box', 'jaffas world ltd', 'pokemon korea', 'skylanders swap force tin', 'cryptozoic ent.', 'heroes legends of the battle disks', 'pokemon / nintendo', 'top gear', 'bandai-namco', 'club penguin', 'pokemon world championship decks', '|mfg', 'ban dai', 'magic the gathering: holiday gift box', 'amigo spiel + freizeit', 'mtg', 'rugby attax', 'modern event deck', 'tt-play', 'neopets', 'pokemon plasma blast boosters', 'return to ravnica booster display', 'magicbox', 'knightwing', 'lado', 'eckon', 'berko', 'microminiatures', 'lionel', 'branching out', 'planes', 'driver dan', 'richmond toys', 'gumpert', 'checker', 'porsche', 'ace', 'troféu', 'mini', 'john deere', 'norev', 'mclaren', 'hobby master', 'starline', 'rolls royce', 'agatsuma', 'hongwell', 'unimax', 'brumm', 't-34/85 1945 diecast model tank', 'aoshima models', 'greenlight/road2racemodels', 'deagostini', 'subaru', 'eqlef®', 'thor', 'max steel', 'forum', 'iron man', 'nfl', 'pop! bobble', 'minecraft', 'hey duggee', 'tnk', 'tom and jerry', 'power rangers megaforce', 'iwako', 'adventure time', 'little live pets', 'collecta', 'hgl', 'dinosaur train', 'kung zhu', 'vtech', 'b&m', 'mighty megasaur', 'tober', 'walking with dinosaurs', 'jurassic world', 'aaa', 'dke', 'quantum mechanix', 'keycraft', 'scola', 'wl', 'national geographic', 'boys toys', 'gookha', 'dinowaurs', 'dino valley', 'action figures', 'bif bang pow', 'blythe', 'chad valley', 'the online workshop', 'bino', 'bontempi', 'smb novelties', 'regent group ltd', 'purity', 'marks and spencer', 'davies', 'leisure', '16th birthday 16th foil banner - 9ft', 'hollywood', 'bof', 'great british street party', 'block party', 'think pink blue 2', 'my planet', 'biestle', 'polka dots', 'personalised party supplies', 'the expression factory', 'the snowman and the snowdog', 'baby stitching blue jointed letter banner', 'moshi', 'toys r us', 'max factory', 'toybiz', 'lucky yeh international, ltd', 'underground toys', 'emce toys', 'playskool', 'megahouse', 'epoch', 'kenner', 'square enix', 'beyblade', 'star wars: episodes i to vi', 'dc collectibles', 'furuta', 'sota toys', 'power rangers samurai', 'chopsticks', 'tree fu tom', 'transformers dark of the moon', 'aquapets', 'vigid imaginations', 'good smile', 'pressman toy', 'transformers prime', 'pulp fiction', 'simba', 'danawares', 'planet of the apes', 'the hulk', 'alien connection ltd', 'channeladvisor', 'wall-e', 'avengers: age of ultron', 'smencils', 'hobby art & crafts', 'c. kreul', 'domire', '50fifty', 'identipen', 'ren art', 'lyra', 'binney & smith', 'gsi creos', 'uni-ball', \"caran d'ache\", 'pip-squeak markers', 'clown', 'unisex party bag fillers', 'the toy jar', 'flames of war', 'sakura', 'ryman', 'colorino', 'party parade', 'little miss', 'colour me mine', 'top model', 'blo pens', 'staedtler', 'fusion', 'fibracolor', 'spongebob squarepants', 'rainbowbrush.co.uk', 'spectrum', 'bruynzeel - sakura bv', 'kahootz', 'carioca arts and crafts', 'weveel 3-donkulous', 'crayola my first crayola', 'giotto', 'new world toys', 'zoobookoo', 'crayola creations', 'bizili', 'leeho', 'the little party shop', 'letraset', 'jake and the neverland pirates', 'little sculptures', 'feature pens', 'k-direct', 'hunter', 'pelikan', 'crafting pens', \"l'univers du cheval\", 'pathways for learning', 'colourland', 'maped', 'new classic toys', 'mjmark', 'the 1 for u', 'urban trendzz', 'moandy', 'bolz', 'funskool', 'wind designs ltd', 'rocky', 'kenzies gifts', 'little tikes', 'the1foru', 'judaica mega mall', 'rolly toys', 'yixin', 'mwz', 'kido', 'ufree', 'chic 2000', 'rsc', 'ab gee', 'jakobs', 'releaserain', 'amdxd', 'fajiabao', 'green toys', 'lakeshore', 'powerplus', 'tangle', 'takara', 'bxt', 'getdigital', 'keetek', 'wooden toys', 'john crane', 'yo yo factory', 'dcolor', 'little people', 'schylling', 'owfeel(tm)', 'voila', 'kcft', 'loz', 'clics', 'penzora', 'wang', 'red toolbox', 'friends', 'firestar toys custom designs', 'eitech', 'third party', 'tube heroes', 'revoltech', 'jakks pacific', 'nba', 'transformers age of extinction', 'clangers', 'kaiyodo jap.', 'predator', 'dragonball z', 'jakks pacific inc.', 'universal monsters', 'dc', 'dc unlimited', 'morbs', 'batman - the dark knight rises', 'juff dunham', 'diamond comic distributors', 'munsters', 'g. i. joe', 'scooby doo', 'carlton', 'kenneth cole reaction', 'abc', 'bowen designs', 'accel world', 'squinkies', 'moose enterprise', 'super hero adventures', 'sota', 'kaiyodo,revoltech', 'jay & silent bob', 'pin -it', 'soccerstarz', 'banzai', 'brookite', 'worlds apart', 'stomp rocket', 'xinte', 'slide', 'ninja', 'buiten speel', 'hq', 'tofern', 'hq kites', 'a-szcxtop', 'sleddy rainbow', 'egt toys et garden', 'brainstorm', 'spirit of air', 'wicked vision limited', 'out of the blue', 'zing air', 'dunster house', 'flexifoil', 'tc', 'polesie wader', 'brainstorm toys', 'eze dope', 'eolo', 'best line', 'l.w.', 'powerlead', 'ardisle', 'twigz', 'gunther', 'hemar', 'i.lifeuk', \"amazona's presentz\", 'gladiator foam', 'science & play', 'tp', 'banbao', 'kbt', 'the big bang rocket', 'scratch', 'lanard', 'miniland', 'happycloud', 'wicked vision ltd', 'throwing stars', 'main sauce production', 'geospace', 'rokit', 'tkc', 'brogamats', 'simba smoby', 'zjchao', 'air storm', 'vectis', 'blast pad', 'vollter', 'vintage model co.', 'kobwa', 'winmau', 'rothbury publishing', 'clementoni', 'signs-unique', 'jumbo games', 'falcon de luxe', 'castorland', 'heye', 'gibsons', 'the house of puzzles', 'educa borras', 'eurographics', 'king international', 'orchard toys', 'king', 'haynes', 'maxim', 'cartoon network', 'james hamilton grovely', 'educa', 'bepuzzled', 'nintendogs', 'j r jigsaws', 'goula', 'express gifts', 'bits and pieces', 'sambro', 'baby celebrations', 'my1stwish', 'crown & andrews', 'john n. hansen', 'jumbo puzzle', 'half moon bay', 'falcon games', 'systemseleven', 'jigthings', 'white mountain puzzles', 'the emporium puzzles', 'westland sea king hc.4', 'skymarks', 'modern trucks', 'lagonda', 'knight rider', 'truescale miniatures', 'solido', 'tb', 'bedford', 'ducati supersport 1000ds hf 2003 bike', 'saico', 'pontiac', 'mondo motors', 'vitesse', 'american classics', 'ducati', 'the hobby company', 'royal mail', 'toyway', 'replicars', 'reliant', 'wiking', 'widdowsons display cases', 'aoshimabunkakyozaisha', 'horch', 'laverda', 'tomy uk ltd', 'toys for play', 'ertl', 'fisher-price thomas', 'conductor carl', 'rc2', 'caterpillar', 'edu science', 'bigjigs road', 'robocar poli', 'iconix', 'dickie-spielzeug', 'tomica', 'innovention toys', 'yiset', 'bob', 'shopkins', 'license 2 play inc', 'talentstar', 'mini chou chou birdies', 'believe you can', 'weenicons', 'powell craft', 'dammit dolls', 'npk', 'little miss muffin', 'imajo', 'the great british teddy bear company', 'think pink', 'mga entertainment', 'north american bear', 'lalaloopsy mini', 'choicefullbargain', 'my doll', 'cabbage patch kids', 'groovy girl', 'kelly toys', 'df soft toys', 'oliver pascal', 'little miss sunshine', 'ias', 'iwaya', 'lily dolls', 'wuschl', 'snuggy buds', 'berenguer', 'eshylala', 'käthe kruse', 'posh paws', 'thorness', 'jc toys', 'sensory toy warehouse', 'psycho', 'action', 'woooow doll', 'plush', 'sochi 2014', 'scream', 'dolly doo', 'lalaloopsy', 'rag dolls', 'cut the rope, zeptolab', 'masingo', 'ey-slimming toys', 'dirty fingers', 'rag doll', 'mooshka', 'my girl studio', 'wonderworld', 'girlie paws', \"the zelf's\", 'collectable minifigures', 'pop! rides', 'medicom toys', 'jun planning', 'rocky horror picture show', 'character', 'aliens', 'postman pat', 'perfect combiner', 'stevenson entertainment', 'comansi', 'slugterra', 'super mario bros.', 'ghostbusters', 'zombie zity', 'power rangers super mega force', 'stresscheck ltd', 'legend of zelda', 'gears of war', 'zomlings series 4', 'mortal kombat', 'bin weevils', 'filmwelt-shop', 'how to train you dragon', 'wild kratts', 'kung zhu hamsters', 'terraria', 'the nightmare before christmas', 'zhu zhu ponies', 'olde scotland yard ltd.', 'casdon', 'howa', 'homgaty', 'santoys', 'polly spielwaren', 'erzi', 'no1gadgetstore', 'early learning centre', 'playteachers', 'pop it up', 'infantastic', 'tanner', 'kids-outlet', 'zuh zhu pets', 'vinsani', 'orbeez', 'kiddyplay', 'moulin roty', 'sooty', 'pilow puppets', 'shelby', 'norscot', 'triumph', 'fiat', 'fresh metal', 'bauer', 'ex mag', 'jensen', 'corgi vanguards', 'the online stores', 'mg', 'jaguar', 'vanguards', 'wonham', 'mytinyworld', \"jackson's miniatures\", 'streets ahead', 'sylvanian families', 'farrow industries', 'town square miniatures', 'houseworks, ltd.', 'falcon', 'melody jane dolls houses', 're-ment', 'lundby', 'carl schmieder', 'muffin lodge', \"sophia's\", 'jeremie', 'sue ryder', 'falcon miniatures', 'vanity fair', 'rb foltz', 'tumdee miniatures', 'the dolls house emporium', 'delph miniatures', 'heidi ott', 'sourcingmap', 'desconocido', 'the wonham collection', 'melody jane', 'dolls house parade', 'e-ting', 'aztec imports, inc.', 'bolt action', 'mutant mania', 'small army', 'kas', 'flames of war vietnam', 'nemesis now', 'bandai hobby', 'ghost recon', 'potc 4', 'micki', 'fish around', \"juliet's kiss\", 'boxset', 'treasure galore', 'wild republic europe aps', 'charter limited', 'estia', 'marvel superhero squad', 'haba', 'sailor moon', 'yamato', 'sideshow collectable', 'polar lights', 'batman dark knight rises', 'kidrobot', 'archer fine transfers', 'toy biz', \"bloom's cosplay\", 'predators (2010 movie)', 'masters of the universe', 'phat company', 'kotobukiya co., ltd.', 'dragons', 'innotab', 'elc / early leanring centre', 'zombinc', 'tnmt', 'tekken', 'godzilla', 'leapfrog', 'dexter', 'power rangers super samurai', 'sideshow', 'sarah jane smith adventures', 'world of warriors', 'the penguins', 'pacific rim', '101', 'spirograph', 'eastsun', 'dj games', \"spear's games\", 'boikido', 'k and c, k and c', 'science4you', 'fatcolor', 'lagoon group', 'creative educational', 'the glowhouse', 'frank educational', 'history heroes', 'domino express', 'storyonics', 'wonder forge', 'hape early explorer', 'traditional garden games', 'temple games', 'chimp & zee', 'letterbox', 'idea', 'diabolical gift people', 'giddy up', 'pocket money toys', 'ashmolean', 'cardinal', 'pressman toy international', 'county engraving', \"jane's games\", 'at', 'cardinal industries', 'accessotech', 'kibbles', 'scrabble', 'gigamic', 'the little experience', 'thames & kosmos', 'kloo', 'scene it', 'lisciani', 'games & puzzles', 'magnetic', 'wildcard games', 'rummikub', 'scribble', 'kingfisher', 'quercetti', '24 game', 'fundex', 'goliath games', 'halilit', 'trend', 'cup cake dice', 'secret scholar', 'dragon-i toys', 'money bingo', 'engino', 'kapow gifts', 'merchandise 24/7', 'elvis presley', \"the name's the game\", 'puzzler media ltd', \"ridley's\", 'music', 'parker', 'north star games', 'linkee 4 little questions. 1 big link.', 'a nightmare on elm street', 'ginger fox', 'bettie page', 'gear 4 games', 'spinning hat', 'people. coffee table trivia', 'wildlife', 'cheatwell', 'marvel comics', \"trivial pursuit 1980's\", 'beavis and butt-head', 'britannia games', 'bv leisure', 'marvel, 20th century fox', 'radica', 'godzila', 'edigital creations party supplies', 'the big bang theory', 'abbey road studios- music trivia', 'scarface', 'deadpool', 'birthday gift ideas', 'goforitgames.com', 'games', 'james bond', 'cd fundraising', 'breaking bad', 'mensa', 'top trivia', 'parker brothers', 'changthai design', 'dc collectables', 'sideshow weta', 'pazapa', 'mega', 'avatar', 'loop & loom', 'mei_star', 'myo friendship bracelet', 'crazygadget', 'creation station', 'funloom', 'royal loom', 'maxi hama', 'kcg trading', 'hama beads dkl', 'rosebeading', 'sculpey', 'jjs direct uk', 'q7s', 'diy', 'mazichands', 'kars', 'ateam', 'pippin', 'wholesale beads & charms', 'wiki', 'interplay', 'strand bands', 'k2-accessories leather cord', 'meadow kids', 'ash', 'concept4u', 'icebox', 'bands', 'ci', 'swash', 'ac.crafts', 'pipkits', 'hongbe', 'peterkin uk ltd', 'housweety', 'silk daisy chain gift box', 'buy craft direct ltd', 'midco toys', 'sequin art funky frame flower', 'girls party bag fillers', 'brimtoy dice games', 'cthulhu', 'warmachine', 'esdevium games', 'cavendish trading', 'paladin', 'triple yahtzee', 'e-raptor', 'volley', \"caley's\", 'fabulous las vegas dice - 5 pack', 'golo', 'm.y', 'ravensburger spieleverlag', 'huch & friends', 'dino dice', 'tricks of the trade, inc.', 'screenlife', 'tantrix', 'uber games', 'goliath', 'cheatwell games.', 'my garden games', 'classic leisure products', 'triominos', 'medias', 'hcm kinzel', 'metal products', 'chabrias', 'tantrix uk ltd', 'square-enix', 'feldherr', 'ggs', 'captain america', 'ironman', 'super heroes']\n"
     ]
    },
    {
     "name": "stderr",
     "output_type": "stream",
     "text": [
      "/Users/muhammadarham/Drive/TraversaalCode/QAMCode/Evaluation/search_methods.py:33: FutureWarning: A value is trying to be set on a copy of a DataFrame or Series through chained assignment using an inplace method.\n",
      "The behavior will change in pandas 3.0. This inplace method will never work because the intermediate object on which we are setting values always behaves as a copy.\n",
      "\n",
      "For example, when doing 'df[col].method(value, inplace=True)', try using 'df.method({col: value}, inplace=True)' or df[col] = df[col].method(value) instead, to perform the operation inplace on the original object.\n",
      "\n",
      "\n",
      "  df.price_in_usd.fillna(df.price_in_usd.mean(), inplace=True)\n",
      "/Users/muhammadarham/Drive/TraversaalCode/QAMCode/Evaluation/search_methods.py:34: FutureWarning: A value is trying to be set on a copy of a DataFrame or Series through chained assignment using an inplace method.\n",
      "The behavior will change in pandas 3.0. This inplace method will never work because the intermediate object on which we are setting values always behaves as a copy.\n",
      "\n",
      "For example, when doing 'df[col].method(value, inplace=True)', try using 'df.method({col: value}, inplace=True)' or df[col] = df[col].method(value) instead, to perform the operation inplace on the original object.\n",
      "\n",
      "\n",
      "  df.preferred_age.fillna(df.preferred_age.median(), inplace=True)\n"
     ]
    }
   ],
   "source": [
    "from search_methods import *\n",
    "from openai import AzureOpenAI "
   ]
  },
  {
   "cell_type": "code",
   "execution_count": 2,
   "metadata": {},
   "outputs": [
    {
     "name": "stderr",
     "output_type": "stream",
     "text": [
      "/Users/muhammadarham/Drive/TraversaalCode/QAMCode/Evaluation/search_methods.py:33: FutureWarning: A value is trying to be set on a copy of a DataFrame or Series through chained assignment using an inplace method.\n",
      "The behavior will change in pandas 3.0. This inplace method will never work because the intermediate object on which we are setting values always behaves as a copy.\n",
      "\n",
      "For example, when doing 'df[col].method(value, inplace=True)', try using 'df.method({col: value}, inplace=True)' or df[col] = df[col].method(value) instead, to perform the operation inplace on the original object.\n",
      "\n",
      "\n",
      "  df.price_in_usd.fillna(df.price_in_usd.mean(), inplace=True)\n",
      "/Users/muhammadarham/Drive/TraversaalCode/QAMCode/Evaluation/search_methods.py:34: FutureWarning: A value is trying to be set on a copy of a DataFrame or Series through chained assignment using an inplace method.\n",
      "The behavior will change in pandas 3.0. This inplace method will never work because the intermediate object on which we are setting values always behaves as a copy.\n",
      "\n",
      "For example, when doing 'df[col].method(value, inplace=True)', try using 'df.method({col: value}, inplace=True)' or df[col] = df[col].method(value) instead, to perform the operation inplace on the original object.\n",
      "\n",
      "\n",
      "  df.preferred_age.fillna(df.preferred_age.median(), inplace=True)\n",
      "/Users/muhammadarham/.cache/huggingface/modules/transformers_modules/nomic-ai/nomic-bert-2048/40b98394640e630d5276807046089b233113aa87/modeling_hf_nomic_bert.py:108: FutureWarning: You are using `torch.load` with `weights_only=False` (the current default value), which uses the default pickle module implicitly. It is possible to construct malicious pickle data which will execute arbitrary code during unpickling (See https://github.com/pytorch/pytorch/blob/main/SECURITY.md#untrusted-models for more details). In a future release, the default value for `weights_only` will be flipped to `True`. This limits the functions that could be executed during unpickling. Arbitrary objects will no longer be allowed to be loaded via this mode unless they are explicitly allowlisted by the user via `torch.serialization.add_safe_globals`. We recommend you start setting `weights_only=True` for any use case where you don't have full control of the loaded file. Please open an issue on GitHub for any issues related to this experimental feature.\n",
      "  state_dict = loader(resolved_archive_file)\n",
      "<All keys matched successfully>\n"
     ]
    }
   ],
   "source": [
    "df, corpus, corpus_embeddings_dict, corpus_processed = load_inputs(\n",
    "    df_filepath='../Data/Toydata_w_new_att_final.xlsx', embedding_filepath='../Model/corpus_embeddings.pkl', processed_corpus_filepath='../Model/corpus_processed.pkl')\n",
    "\n",
    "embedder, cross_encoder = load_models()\n",
    "\n",
    "llm_client = AzureOpenAI(\n",
    "    api_key=\"\",\n",
    "    api_version=\"2024-02-15-preview\",\n",
    "    azure_endpoint=\"\",\n",
    "    azure_deployment=\"gpt-4o-large\"\n",
    ")\n"
   ]
  },
  {
   "cell_type": "code",
   "execution_count": 3,
   "metadata": {},
   "outputs": [
    {
     "name": "stdout",
     "output_type": "stream",
     "text": [
      "SentenceTransformer(\n",
      "  (0): Transformer({'max_seq_length': 8192, 'do_lower_case': False}) with Transformer model: NomicBertModel \n",
      "  (1): Pooling({'word_embedding_dimension': 768, 'pooling_mode_cls_token': False, 'pooling_mode_mean_tokens': True, 'pooling_mode_max_tokens': False, 'pooling_mode_mean_sqrt_len_tokens': False, 'pooling_mode_weightedmean_tokens': False, 'pooling_mode_lasttoken': False, 'include_prompt': True})\n",
      "  (2): Normalize()\n",
      ")\n"
     ]
    }
   ],
   "source": [
    "print(embedder)"
   ]
  },
  {
   "cell_type": "code",
   "execution_count": 4,
   "metadata": {},
   "outputs": [],
   "source": [
    "import json\n",
    "\n",
    "with open('matched_queries.json', 'r') as f:\n",
    "    queries = json.load(f)\n",
    "\n",
    "queries = [query.lower() for query in queries]"
   ]
  },
  {
   "cell_type": "code",
   "execution_count": 5,
   "metadata": {},
   "outputs": [
    {
     "data": {
      "text/plain": [
       "[\"what's a good gift for a 16-year-old that's highly rated?\",\n",
       " \"looking for a 5-star rated item suitable for someone who's almost 16.\",\n",
       " 'looking for a cat construction toy priced at $12 with a rating of 4.7.',\n",
       " 'can i find papo products with a rating of 4.7?',\n",
       " 'looking for a highly-rated product by spektrum, any suggestions?',\n",
       " 'looking for highly rated products by stevenson entertainment, any suggestions?',\n",
       " 'where can i find toys4u products with a 5-star rating?',\n",
       " 'looking for a kaleidoscope toy for my 3-year-old, priced around $12.',\n",
       " \"how well-rated is the accessotech product that's been on the market for a couple of years?\",\n",
       " 'are there any reviews for the classified product priced at $16.0?',\n",
       " 'are there any lifewheel items that have a 4.5-star rating?',\n",
       " 'are there any reviews for k2-accessories alphabet letter beads with a 4.2 rating?',\n",
       " 'looking for a rolly toys product with a rating of 4.0.',\n",
       " 'are there any highly-rated advent gift boxes available for teenagers?',\n",
       " 'is there a wildgoose education product for around $7 suitable for a 14-year-old?',\n",
       " 'best animewild products with a rating above 4 stars?',\n",
       " 'are there any schmidt products available for around $5.0 with a rating of at least 4.5?',\n",
       " 'looking for a bigmouthinc. product priced at $5 with top reviews.',\n",
       " 'are there any affordable amdxd products with excellent reviews?',\n",
       " 'is there a wacky wobbler toy that costs $14 and is rated 4.3?',\n",
       " 'what are the best-rated bigmouthinc. products under $10?',\n",
       " 'looking for highly-rated pst items for a 5-year-old, any suggestions?',\n",
       " 'which wacky wobbler products have the highest ratings?',\n",
       " 'can i find a chess set for someone aged 24 with a 4.5-star rating?',\n",
       " 'where can i buy illoom balloons purple - pack of 5 for $3.0?',\n",
       " 'where can i find ultra-pro protective card sleeves for around $12?',\n",
       " 'looking for highly-rated paul lamond items for kids aged 6, any suggestions?',\n",
       " 'is there a faller item available for $14.00 that has a perfect rating?',\n",
       " \"can i find a perler item for around $6 that's highly rated?\",\n",
       " 'can i find a highly-rated micro chargers product?',\n",
       " 'can i get a kakapopotcg deck box with excellent ratings for under $10?',\n",
       " 'any new world toys for an 11-year-old that costs around $3 and has a 5-star rating?',\n",
       " 'which bronco models products have the best ratings?',\n",
       " 'can i find playing cards from the united states playing card company with a 4.5-star rating for $3?',\n",
       " 'looking for affordable playing cards by the united states playing card company with good reviews.',\n",
       " 'show me amdxd items that are highly rated.',\n",
       " 'looking for advent gift boxes with a 5-star rating, any recommendations?',\n",
       " 'can i find top-rated bronco models products on your site?',\n",
       " \"what's the best price for think fun games for kids around age 9?\",\n",
       " \"looking for a ferrari product that's highly rated and affordable.\",\n",
       " 'are there any b-loony items with a 4.8-star rating?',\n",
       " 'where can i find fast and furious products with a 5-star rating?',\n",
       " 'can i find warlord games items for around $14?',\n",
       " 'looking for a 5-star rated smart games product for a 9-year-old.',\n",
       " 'can i find spark items with a perfect 5-star rating?',\n",
       " 'looking for highly-rated dji items, any recommendations?',\n",
       " 'best gears of war gear with top ratings for a few bucks?',\n",
       " 'can i find amdxd products with a 5-star rating?',\n",
       " 'can you find dji products with the highest ratings?',\n",
       " 'looking for a highly rated rittenhouse product, any suggestions?',\n",
       " 'can you show me cuddlekins products that have a 5.0 rating?',\n",
       " 'best kakapopotcg deck box for a teenager with a perfect rating?',\n",
       " 'can i find ultrabyeasypeasystore products with a 4.8 rating?',\n",
       " 'affordable transformers age of extinction items for a 12-year-old?',\n",
       " 'show me toy zany toys that cost $3.00 and have top ratings.',\n",
       " 'are there any reviews for the star wars episodes i to vi collection?',\n",
       " 'can i find a top-rated ice cream for teenagers priced at $14?',\n",
       " 'looking for nano speed products with a rating of 4.1 or higher.',\n",
       " 'which moulin roty products have the best reviews?',\n",
       " 'show me craft items with a perfect rating that are suitable for a 12-year-old and priced at $5.',\n",
       " 'looking for a highly-rated cuddlekins product, any suggestions?',\n",
       " 'best ban dai toy under $10 for a 4-year-old?',\n",
       " 'can i find the star wars episodes i to vi movies for around $36?',\n",
       " 'can i find joe bar items priced around $14?',\n",
       " 'show me lifewheel products that have received a 4.5 rating.',\n",
       " 'are there any highly rated qj products available for $3.00?',\n",
       " 'can i find playteachers items with a rating of at least 4 stars?',\n",
       " 'show me qj items that are nearly 3 years old and cost $3.00.',\n",
       " 'what can i find for around 3 dollars with a 5-star rating on partyfest.de?',\n",
       " \"what's the price of the releaserain product with a perfect 5-star rating?\",\n",
       " 'looking for a highly-rated freeing product for about $12. any recommendations?',\n",
       " 'what are some highly-rated diecast collectibles for teenagers?',\n",
       " 'are there any cat construction toys for around $12 with a rating of 4.7?',\n",
       " 'are there any affordable plaid hat games for children under 10 with a 5-star rating?',\n",
       " 'can i find megahouse items with a 5.0 rating?',\n",
       " 'show me highly-rated unbekannt products, specifically those with a 4.5 rating.',\n",
       " 'show me dji products with a 5-star rating.',\n",
       " 'show me cd fundraising products with a rating above 4 stars.',\n",
       " 'can i find a spektrum item with a 5-star rating?',\n",
       " 'can i find a freeing product priced at $12 with top ratings?',\n",
       " 'what are some good ravensburger spieleverlag games for 8-year-olds with a rating of 4.0?',\n",
       " \"what are the reviews like for andy's products?\",\n",
       " 'can i buy cardfight vanguard cards for around $12 that have good reviews?',\n",
       " 'can i find top-rated b-loony products on this site?',\n",
       " 'how much does the star wars episodes i to vi box set cost?',\n",
       " 'looking for a highly-rated ravensburger spieleverlag game for an 8-year-old, any recommendations?',\n",
       " \"what's the rating for products from ultrabyeasypeasystore?\",\n",
       " 'are there any how to train your dragon products with a rating above 4 stars?',\n",
       " \"what's the rating for cd fundraising products?\",\n",
       " 'are there any huntgold products available for around $3?',\n",
       " \"what's the price of a lion chess set with a 5-star rating?\",\n",
       " 'how much does the illoom balloons purple - pack of 5 cost?',\n",
       " 'are there any affordable puzzles for around $3.0?',\n",
       " 'what freeing items are available for $12 and have a 5.0 rating?',\n",
       " 'affordable kawaii merchandise for young kids with excellent reviews?',\n",
       " 'affordable road rippers products with top ratings?',\n",
       " 'which dji products have the best customer reviews?',\n",
       " 'can i find a huntgold product that costs about $3 and has top reviews?',\n",
       " \"looking for a 5-star rated item from footprintdirect.co.uk that's affordable?\",\n",
       " 'where can i find cardfight vanguard cards with a 5-star rating?',\n",
       " 'can i find a highly-rated toy from team losi, inc. for around $14?',\n",
       " 'what are some top-rated products from top race?',\n",
       " 'is the blast pad toy available for around $5?',\n",
       " 'show me highly-rated huch & friends products.',\n",
       " 'are there any reviews for illoom balloons purple - pack of 5 with a 5.0 rating?',\n",
       " 'what are some highly-rated products from world playground ltd?',\n",
       " 'looking for craft items with a rating of at least 4.3, any recommendations?',\n",
       " 'looking for highly rated cardfight vanguard items, any suggestions?',\n",
       " 'what are the best playing cards from the united states playing card company for around $3?',\n",
       " 'are there any highly-rated road rippers products available?',\n",
       " 'what’s the rating for the star wars episodes i to vi series?',\n",
       " 'what do people think about airsuits with a 4.7 rating?',\n",
       " 'looking for affordable think fun games for kids aged 9 with high ratings.',\n",
       " \"looking for affordable items from andy's, any suggestions?\",\n",
       " 'where can i find heart-shaped foil balloons for under $5?',\n",
       " 'are there any talking tables items with a 5-star rating for around $3.0?',\n",
       " 'are there any highly-rated family games available for just $3?',\n",
       " 'any affordable lagoon group products with great reviews?',\n",
       " 'what ducati items have a perfect 5-star rating?',\n",
       " 'are there any land rovers available for around $14.0?',\n",
       " 'which hsp products are rated 4.5?',\n",
       " 'can i find disney junior products with a 4.5 rating?',\n",
       " 'what sluban items can i find that have a rating of 4.0?',\n",
       " \"is there a nintendogs game that's highly rated and affordable?\",\n",
       " 'what are the best-rated heart foil balloons i can buy online?',\n",
       " \"what's a good card game for preschoolers that costs about $16?\",\n",
       " \"what's the best toy zany toy for under $5.00?\",\n",
       " 'where can i buy a chess set for $3.0 with at least a 4.5 rating?',\n",
       " 'what are the best advent gift boxes for under $5?',\n",
       " 'is the model kasten from the brand available for a 10-year-old?',\n",
       " 'what are people saying about aimee shine products with a rating of 4.5?',\n",
       " 'looking for a chess set within a $3.0 budget and good reviews.',\n",
       " 'can i find illoom balloons purple - pack of 5 with a 5.0 rating on this site?',\n",
       " 'what are some highly-rated products from moulin roty?',\n",
       " 'looking for highly-rated ban dai toys for preschoolers.',\n",
       " 'are there any highly rated party supplies by edigital creations for kids around 7 years old?',\n",
       " 'are there any reviews for accessotech products with a high rating?',\n",
       " 'where can i find a land rover with a rating of 4.7?',\n",
       " 'show me om brand items that are highly recommended and affordable.',\n",
       " 'show me wacky wobbler products under $15.',\n",
       " 'looking for a reeves product with a high rating and affordable price.',\n",
       " 'are there any bigmouthinc. items with a 5-star rating?',\n",
       " 'can i find a nintendogs game for under $10?',\n",
       " 'can i find a highly-rated toy zany toy for about $3.00?',\n",
       " 'are there any toy story toys suitable for a 4-year-old with good ratings?',\n",
       " 'are there any supreme models online with a perfect 5-star rating?',\n",
       " 'are there any traditional garden games available for around $3 with good ratings?',\n",
       " 'looking for b-loony products with excellent reviews.',\n",
       " 'are there any unique brand products available for around $3.0?',\n",
       " \"where can i find jojo's costumes for $4.0?\",\n",
       " 'looking for sonic products with top reviews, any recommendations?',\n",
       " 'show me bronco models items that have excellent reviews.',\n",
       " 'are there any smart games available for kids around 10 years old?',\n",
       " 'are there any highly-rated products for a 10-year-old around $12?',\n",
       " 'show me playteachers products with a rating of 4.3 or higher.',\n",
       " 'are there any products from unbekannt that have received a 4.5-star rating?',\n",
       " \"can i find andy's products with a perfect rating?\",\n",
       " 'are there any gladiator foam products with a 5-star rating?',\n",
       " 'where can i buy k2-accessories alphabet letter beads for around $7?',\n",
       " 'are there any faller items for $14.00 that have received a 5-star rating?',\n",
       " \"what's the price of a corgi vanguards model with excellent reviews?\",\n",
       " 'what cat construction products are available for $12 with a high rating?',\n",
       " \"what's the price of the model kasten for a 10-year-old?\",\n",
       " 'show me mtg products with a 5-star rating.',\n",
       " 'are there any huch & friends products with a perfect 5.0 rating?',\n",
       " 'can i find a ravensburger spieleverlag game for about 8 dollars?',\n",
       " 'where can i find cuddlekins products with a 5-star rating?',\n",
       " 'what are some highly-rated products from bronco models?',\n",
       " 'looking for affordable my little pony toys with high ratings, any suggestions?',\n",
       " 'looking for vivid products under $5 with excellent ratings.',\n",
       " 'can i find widmann items with a rating of at least 4 stars?',\n",
       " 'can i find a thunderbird item with a perfect 5-star rating?',\n",
       " 'looking for qj products with a rating of 4.6 and a price of $3.00.',\n",
       " 'looking for top-rated products by unbekannt, preferably with a 4.5 rating.',\n",
       " 'are there any highly rated items from the expression factory?',\n",
       " \"show me the best-rated andy's products available.\",\n",
       " 'can i find polly pocket toys for around $4?',\n",
       " 'can i find products around $3.00 on this site?',\n",
       " 'what accessotech product has a 4.7 rating and has been around for a while?',\n",
       " 'can i find a chess set from lion chess with a perfect rating?',\n",
       " 'are there any highly-rated decopatch products for young children?',\n",
       " 'show me ice creams with a 5-star rating that cost $14 and are great for a 14-year-old.',\n",
       " 'show me philos products with a 5-star rating.',\n",
       " 'looking for affordable top race products, any suggestions?',\n",
       " 'are there any highly-rated products by theworks for around $5?',\n",
       " 'any affordable paul lamond toys for 6-year-olds with top ratings?',\n",
       " 'can i find a product for a 10-year-old with a 5-star rating?',\n",
       " 'looking for jack daniels whiskey with a 5-star rating, any suggestions?',\n",
       " 'what are the best-rated kaleidoscope toys for toddlers around age 3?',\n",
       " \"what's the price of the nintendogs game for young children?\",\n",
       " 'what are some top-rated precious petzzz items?',\n",
       " 'which toy story toys are recommended for 4-year-olds and have a rating of 4.4 or higher?',\n",
       " \"looking for a classix item for a 5-year-old that's affordable and has good reviews.\",\n",
       " 'can i find a puzzle with a 5-star rating for $3.0?',\n",
       " 'are there any highly-rated heart foil balloons available for purchase?',\n",
       " 'show me rio grande games options that are affordable and have a perfect rating.',\n",
       " 'are there any modern trucks available for around $14.00?',\n",
       " 'looking for affordable products from modern trucks, any suggestions?',\n",
       " 'can i find a ferrari item with a perfect 5-star rating?',\n",
       " 'can i find toy story toys under $5 for my 4-year-old with high ratings?',\n",
       " 'can i find qj products around $3.00 with good ratings?',\n",
       " \"i'm searching for something from schmidt for around $5.0 with a 4.5 rating. what do you recommend?\",\n",
       " 'can you show me heart cell items with a 5-star rating?',\n",
       " 'are there any affordable novelty gifts for kids aged nearly 3 with good reviews?',\n",
       " 'show me top-rated products from world playground ltd that are budget-friendly.',\n",
       " 'looking for affordable moulin roty products, any suggestions?',\n",
       " 'are there any papo brand toys available for around $3?',\n",
       " 'where can i find snoopy products with a 5-star rating?',\n",
       " 'affordable yu-gi-oh merchandise with top ratings?',\n",
       " \"looking for a puzzle with me product that's budget-friendly and well-reviewed.\",\n",
       " 'can i find an om product for around $14 with top ratings?',\n",
       " 'which lifewheel products are rated 4.5 stars by users?',\n",
       " 'do you have any cd fundraising products priced at $10?',\n",
       " 'can i find products from gladiator foam that have excellent reviews?',\n",
       " 'what are customers saying about lifewheel products with a 4.5 rating?',\n",
       " 'show me hsp items with a 4.5 rating.',\n",
       " 'what are the reviews for qj brand products with a rating of 4.6?',\n",
       " 'can i find a corgi vanguards product with a 5-star rating?',\n",
       " 'can i get advent gift boxes suitable for a 17-year-old at a low price?',\n",
       " 'are there any lancia items with a perfect 5-star rating?',\n",
       " 'what are some good reviews on the glowhouse products priced at $3?',\n",
       " 'what are some top-rated novelty gifts for toddlers around 3 years old?',\n",
       " 'best yoo hoo products under $3.00 with excellent ratings?',\n",
       " 'looking for a nintendogs game with a good rating, maybe around 4 stars?',\n",
       " 'are there any ducati products available for around $14?',\n",
       " 'can i get a 5-star rated ban dai toy for my almost 4-year-old?',\n",
       " 'can i get supreme models online that are highly rated and cost $14?',\n",
       " 'where can i buy a $14 ice cream with a 5-star rating for a 14-year-old?',\n",
       " 'are there any scrunch buckets with a 5-star rating available?',\n",
       " 'looking for affordable yousave items, any suggestions?',\n",
       " 'what are some highly rated ravensburger spieleverlag games for children aged 8?',\n",
       " 'are there any top-rated kaleidoscope toys suitable for a 3-year-old?',\n",
       " 'are there any tt-play items with a 5-star rating?']"
      ]
     },
     "execution_count": 5,
     "metadata": {},
     "output_type": "execute_result"
    }
   ],
   "source": [
    "queries"
   ]
  },
  {
   "cell_type": "code",
   "execution_count": 6,
   "metadata": {},
   "outputs": [],
   "source": [
    "def get_results(hits, top_n=5):\n",
    "    results = []\n",
    "    result_dict = {}\n",
    "    for idx in hits.keys():  # loop through hits\n",
    "        product = df['product_name'].loc[(df['review_id'] == idx)].tolist()[0]\n",
    "        review = df['reviews'].loc[(df['review_id'] == idx)].tolist()[0]\n",
    "        if product not in result_dict:\n",
    "            if len(results) < top_n:\n",
    "                result_dict[product] = len(results)\n",
    "                product_df = df.loc[(df['product_name'] == product)]\n",
    "\n",
    "                results.append({\n",
    "                    'product_name': product,\n",
    "                    'manufacturer': product_df['manufacturer'].unique()[0],\n",
    "                    'price': round(product_df['price_in_usd'].mean(), 2),\n",
    "                    'preferred_age': round(product_df['preferred_age'].min(), 0),\n",
    "                    'rating': round(product_df['star_rating'].max(), 1),\n",
    "                    'reviews': [review]\n",
    "                })\n",
    "        else:\n",
    "            results[result_dict[product]]['reviews'].append(review)\n",
    "\n",
    "    return results"
   ]
  },
  {
   "cell_type": "code",
   "execution_count": 7,
   "metadata": {},
   "outputs": [
    {
     "name": "stdout",
     "output_type": "stream",
     "text": [
      "can i find products around $3.00 on this site?\n"
     ]
    }
   ],
   "source": [
    "import random\n",
    "\n",
    "query = random.choice(queries)\n",
    "print(query)"
   ]
  },
  {
   "cell_type": "markdown",
   "metadata": {},
   "source": [
    "## Bi-Encoder Search"
   ]
  },
  {
   "cell_type": "code",
   "execution_count": 8,
   "metadata": {},
   "outputs": [
    {
     "name": "stderr",
     "output_type": "stream",
     "text": [
      "Batches: 100%|██████████| 1/1 [00:00<00:00,  2.83it/s]\n"
     ]
    }
   ],
   "source": [
    "biencoder_hits = search_reviews(query, corpus_embeddings_dict, embedder, 10)\n",
    "res = get_results(biencoder_hits, top_n=30)"
   ]
  },
  {
   "cell_type": "code",
   "execution_count": 9,
   "metadata": {},
   "outputs": [
    {
     "name": "stdout",
     "output_type": "stream",
     "text": [
      "<class 'list'>\n",
      "10\n"
     ]
    }
   ],
   "source": [
    "print(type(res))\n",
    "print(len(res))\n"
   ]
  },
  {
   "cell_type": "code",
   "execution_count": 10,
   "metadata": {},
   "outputs": [
    {
     "name": "stdout",
     "output_type": "stream",
     "text": [
      "{'product_name': 'Le Toy Van London Car Set', 'manufacturer': 'le toy van', 'price': np.float64(18.44), 'preferred_age': np.float64(3.0), 'rating': np.float64(4.3), 'reviews': ['Good toy for a 3 year old, but price found cheaper elsewhere (in a toystore) afterwards.  Lovely set of cars']}\n",
      "----------------------------------------------------------------------------------------------------\n",
      "{'product_name': 'PLAYMOBIL 7451 - 3 ouvriers de chantiers avec accessoires', 'manufacturer': 'playmobil', 'price': np.float64(12.29), 'preferred_age': np.float64(3.0), 'rating': np.float64(5.0), 'reviews': ['£16 ????? what a rip off.I came on Amazon to see if i could get this item for a good price.You can buy this for £8 on the Playmobil site[...]']}\n",
      "----------------------------------------------------------------------------------------------------\n",
      "{'product_name': 'Cars Character Car - Dirt Track McQueen', 'manufacturer': 'disney', 'price': np.float64(13.52), 'preferred_age': np.float64(3.0), 'rating': np.float64(4.3), 'reviews': ['MY SON IS A HUGE FAN OF THE PIXAR CHARACTER CARS I FOUND THIS SITE THE BEST FOR CHOICE, VALUE ,AND AVAILABILITY. THEY OFFER MORE THAN IS AVAILABLE IN THE SHOPS AS THEY HAVE ALOT MORE CHARACTERS ON OFFER AND BELIEVE ME, I HAVE SEARCHED FOR THEM.  Be careful what you wish for']}\n",
      "----------------------------------------------------------------------------------------------------\n",
      "{'product_name': 'Busy Bead Pack of 500 x Ivory Flat Back Pearls 3mm for Nails, Art, Craft, Clothes etc', 'manufacturer': 'majorcrafts', 'price': np.float64(1.84), 'preferred_age': np.float64(3.0), 'rating': np.float64(4.3), 'reviews': ['Just what I needed']}\n",
      "----------------------------------------------------------------------------------------------------\n",
      "{'product_name': 'Childs Police Policeman Fancy Dress Accessory Set', 'manufacturer': 'fancy dress accessories', 'price': np.float64(12.77), 'preferred_age': np.float64(3.0), 'rating': np.float64(4.5), 'reviews': ['Cheap and cheerful  fab']}\n",
      "----------------------------------------------------------------------------------------------------\n",
      "{'product_name': 'LEGO¨ Superheroesª - Iron Man 3 - Mk 17 Armour Minifigure', 'manufacturer': 'lego', 'price': np.float64(24.54), 'preferred_age': np.float64(3.0), 'rating': np.float64(4.0), 'reviews': [\"Bought this for my son, going mad for anything Lego at the minute! I did however have to visit Toys R Us on Christmas Eve and discovered a small set that contained this figure for slightly less than what I paid for the one figure. If your looking for individual figures look at the sets first of all.  Addition to grandson's collection\"]}\n",
      "----------------------------------------------------------------------------------------------------\n",
      "{'product_name': 'Casdon 519 Toy Pick & Mix Sweet Shop', 'manufacturer': 'casdon', 'price': np.float64(8.94), 'preferred_age': np.float64(3.0), 'rating': np.float64(4.4), 'reviews': ['The product information and the reviews lead you to believe that sweets and lollipops are included. They no longer are.  great price']}\n",
      "----------------------------------------------------------------------------------------------------\n",
      "{'product_name': 'Offical Disney Star Wars The Force Awakens 3.75\" General Hux Action Figure & Accessory', 'manufacturer': 'star wars', 'price': np.float64(18.07), 'preferred_age': np.float64(4.0), 'rating': np.float64(5.0), 'reviews': ['Became rather difficult to locate, great find and decent value  Five Stars']}\n",
      "----------------------------------------------------------------------------------------------------\n",
      "{'product_name': 'My Pirate Party Music CD', 'manufacturer': 'unknown', 'price': np.float64(6.14), 'preferred_age': np.float64(3.0), 'rating': np.float64(4.0), 'reviews': [\"Okay but that's all\"]}\n",
      "----------------------------------------------------------------------------------------------------\n",
      "{'product_name': 'Little Tikes Al the Musicalligator', 'manufacturer': 'little tikes', 'price': np.float64(22.43), 'preferred_age': np.float64(3.0), 'rating': np.float64(5.0), 'reviews': ['Very versatile']}\n",
      "----------------------------------------------------------------------------------------------------\n"
     ]
    }
   ],
   "source": [
    "for hit in res:\n",
    "    print(hit)\n",
    "    # print(res[hit])\n",
    "    print(\"-\"*100)"
   ]
  },
  {
   "cell_type": "markdown",
   "metadata": {},
   "source": [
    "## Cross Encoder Search"
   ]
  },
  {
   "cell_type": "code",
   "execution_count": 11,
   "metadata": {},
   "outputs": [
    {
     "name": "stderr",
     "output_type": "stream",
     "text": [
      "Batches: 100%|██████████| 1/1 [00:00<00:00, 31.11it/s]\n",
      "Asking to truncate to max_length but no maximum length is provided and the model has no predefined maximum length. Default to no truncation.\n"
     ]
    }
   ],
   "source": [
    "cross_encoder_hits = cross_encoder_search(query, corpus_embeddings_dict, embedder, cross_encoder, top_k=10, top_n=10)\n",
    "res = get_results(cross_encoder_hits, top_n=10)"
   ]
  },
  {
   "cell_type": "code",
   "execution_count": 12,
   "metadata": {},
   "outputs": [
    {
     "name": "stdout",
     "output_type": "stream",
     "text": [
      "{32655: np.float32(0.0987966), 16002: np.float32(0.0032346717), 31930: np.float32(0.0011469306), 4547: np.float32(0.0003140491), 34362: np.float32(0.00029673183), 28902: np.float32(0.00019542727), 16406: np.float32(0.00015687014), 7320: np.float32(0.00014724505), 32802: np.float32(0.0001416004), 26483: np.float32(0.00010534998)}\n"
     ]
    }
   ],
   "source": [
    "print(cross_encoder_hits)"
   ]
  },
  {
   "cell_type": "code",
   "execution_count": 13,
   "metadata": {},
   "outputs": [
    {
     "name": "stdout",
     "output_type": "stream",
     "text": [
      "{'product_name': 'PLAYMOBIL 7451 - 3 ouvriers de chantiers avec accessoires', 'manufacturer': 'playmobil', 'price': np.float64(12.29), 'preferred_age': np.float64(3.0), 'rating': np.float64(5.0), 'reviews': ['£16 ????? what a rip off.I came on Amazon to see if i could get this item for a good price.You can buy this for £8 on the Playmobil site[...]']}\n",
      "----------------------------------------------------------------------------------------------------\n",
      "{'product_name': 'Cars Character Car - Dirt Track McQueen', 'manufacturer': 'disney', 'price': np.float64(13.52), 'preferred_age': np.float64(3.0), 'rating': np.float64(4.3), 'reviews': ['MY SON IS A HUGE FAN OF THE PIXAR CHARACTER CARS I FOUND THIS SITE THE BEST FOR CHOICE, VALUE ,AND AVAILABILITY. THEY OFFER MORE THAN IS AVAILABLE IN THE SHOPS AS THEY HAVE ALOT MORE CHARACTERS ON OFFER AND BELIEVE ME, I HAVE SEARCHED FOR THEM.  Be careful what you wish for']}\n",
      "----------------------------------------------------------------------------------------------------\n",
      "{'product_name': 'LEGO¨ Superheroesª - Iron Man 3 - Mk 17 Armour Minifigure', 'manufacturer': 'lego', 'price': np.float64(24.54), 'preferred_age': np.float64(3.0), 'rating': np.float64(4.0), 'reviews': [\"Bought this for my son, going mad for anything Lego at the minute! I did however have to visit Toys R Us on Christmas Eve and discovered a small set that contained this figure for slightly less than what I paid for the one figure. If your looking for individual figures look at the sets first of all.  Addition to grandson's collection\"]}\n",
      "----------------------------------------------------------------------------------------------------\n",
      "{'product_name': 'Busy Bead Pack of 500 x Ivory Flat Back Pearls 3mm for Nails, Art, Craft, Clothes etc', 'manufacturer': 'majorcrafts', 'price': np.float64(1.84), 'preferred_age': np.float64(3.0), 'rating': np.float64(4.3), 'reviews': ['Just what I needed']}\n",
      "----------------------------------------------------------------------------------------------------\n",
      "{'product_name': 'My Pirate Party Music CD', 'manufacturer': 'unknown', 'price': np.float64(6.14), 'preferred_age': np.float64(3.0), 'rating': np.float64(4.0), 'reviews': [\"Okay but that's all\"]}\n",
      "----------------------------------------------------------------------------------------------------\n",
      "{'product_name': 'Offical Disney Star Wars The Force Awakens 3.75\" General Hux Action Figure & Accessory', 'manufacturer': 'star wars', 'price': np.float64(18.07), 'preferred_age': np.float64(4.0), 'rating': np.float64(5.0), 'reviews': ['Became rather difficult to locate, great find and decent value  Five Stars']}\n",
      "----------------------------------------------------------------------------------------------------\n",
      "{'product_name': 'Le Toy Van London Car Set', 'manufacturer': 'le toy van', 'price': np.float64(18.44), 'preferred_age': np.float64(3.0), 'rating': np.float64(4.3), 'reviews': ['Good toy for a 3 year old, but price found cheaper elsewhere (in a toystore) afterwards.  Lovely set of cars']}\n",
      "----------------------------------------------------------------------------------------------------\n",
      "{'product_name': 'Childs Police Policeman Fancy Dress Accessory Set', 'manufacturer': 'fancy dress accessories', 'price': np.float64(12.77), 'preferred_age': np.float64(3.0), 'rating': np.float64(4.5), 'reviews': ['Cheap and cheerful  fab']}\n",
      "----------------------------------------------------------------------------------------------------\n",
      "{'product_name': 'Casdon 519 Toy Pick & Mix Sweet Shop', 'manufacturer': 'casdon', 'price': np.float64(8.94), 'preferred_age': np.float64(3.0), 'rating': np.float64(4.4), 'reviews': ['The product information and the reviews lead you to believe that sweets and lollipops are included. They no longer are.  great price']}\n",
      "----------------------------------------------------------------------------------------------------\n",
      "{'product_name': 'Little Tikes Al the Musicalligator', 'manufacturer': 'little tikes', 'price': np.float64(22.43), 'preferred_age': np.float64(3.0), 'rating': np.float64(5.0), 'reviews': ['Very versatile']}\n",
      "----------------------------------------------------------------------------------------------------\n"
     ]
    }
   ],
   "source": [
    "for hit in res:\n",
    "    print(hit)\n",
    "    print(\"-\"*100)"
   ]
  },
  {
   "cell_type": "markdown",
   "metadata": {},
   "source": [
    "## BM25 Keyword Search"
   ]
  },
  {
   "cell_type": "code",
   "execution_count": 14,
   "metadata": {},
   "outputs": [],
   "source": [
    "keyword_results = bm25_search_reviews(query, corpus_processed, top_n=10)\n",
    "res = get_results(keyword_results, top_n=10)"
   ]
  },
  {
   "cell_type": "code",
   "execution_count": 15,
   "metadata": {},
   "outputs": [
    {
     "name": "stdout",
     "output_type": "stream",
     "text": [
      "{'product_name': 'WREATH HOOK SUCTION CUP', 'manufacturer': 'christmas and decorations', 'price': np.float64(2.45), 'preferred_age': np.float64(3.0), 'rating': np.float64(4.1), 'reviews': ['Just use a little gel around the edges and you will find the hook stays up fine. The gel I have used is not watwerproof ...']}\n",
      "----------------------------------------------------------------------------------------------------\n",
      "{'product_name': 'LEGO Star Wars: Biker Scout Trooper Minifigure with Blaster Rifle', 'manufacturer': 'lego', 'price': np.float64(9.22), 'preferred_age': np.float64(3.0), 'rating': np.float64(5.0), 'reviews': ['Arrived quickly and well packaged in time for christmas. Searched around for sometime to find this particular piece. Will happily use again.  5 out of 5']}\n",
      "----------------------------------------------------------------------------------------------------\n",
      "{'product_name': 'BrainBox - Art', 'manufacturer': 'the green board game co.', 'price': np.float64(7.37), 'preferred_age': np.float64(8.0), 'rating': np.float64(4.4), 'reviews': [\"I bought this as I was very impressed with 'Around the World'. This is much more difficult and my 9 year old won't play it as he finds it too much of a challenge to be fun. Suitable probably for slightly older children.  Great classroom tool\"]}\n",
      "----------------------------------------------------------------------------------------------------\n",
      "{'product_name': 'Intex Sunset Glow Swimming Pool', 'manufacturer': 'intex', 'price': np.float64(13.84), 'preferred_age': np.float64(4.0), 'rating': np.float64(4.0), 'reviews': [\"We bought this last Oct 2012 as it was the tallest pool I could find that was still a paddling pool, around 24 inches high. The rings had a diameter of around 5- inches each. Unfortunately the bottm ring suddenly inexplicably deflated and has a leak. We were using it as a ballpit for our baby and at this height he can not throw himself out. We decided to order a new one. To our annoyance we have found that , despite carrying the same product code the new pool is significantly different and inferior to the last. It hs a total height of 18 inches which is the same as the original with a deflated bottom ring! As we had simply gone to our old order to reorder it we hadn't checked any product specs - not expecting them to so markedly change!The rings are around 4 inches in diameter and the whole pool feels smaller although the diameter is only slightly less.Very annpoyed that we have wasted money on this as baby cannot use it as it is less robust and not high enough for him to stay safely inside.  inflateable pool\"]}\n",
      "----------------------------------------------------------------------------------------------------\n",
      "{'product_name': 'Lanyard With Kermit the Frog Dangle - The Muppets ID Holder', 'manufacturer': 'muppets', 'price': np.float64(11.94), 'preferred_age': np.float64(12.0), 'rating': np.float64(4.9), 'reviews': ['I was looking around for muppet bits and bobs.This is a pass holder but I am using it as a key holder :)Super fun, practical !Everyone takes a second look to see what it is!Kids love it ! And I get to find my keys in my black hole of a hand bag.Very happy me  Fab']}\n",
      "----------------------------------------------------------------------------------------------------\n",
      "{'product_name': 'Intex Summer Fun Swimming Pool Dive Rings - 55501', 'manufacturer': 'intex', 'price': np.float64(4.62), 'preferred_age': np.float64(6.0), 'rating': np.float64(4.5), 'reviews': ['I purchased these rings for my  year old kids to try and get them to be more confident and get used  to swimming under water.Well it certainly did the trick. The kids love them (and adults too). They are quite small around 5-6\" diameter however they are brightly coloured. The red and blue ones are very easy to find in the swimming pool where as the green and yellow are a little more difficult which creates endless fun for the kids to find. They can also be thrown quite far. As they land in the water they slowly sink so they also give you the chance to try and retrieve them before they reach the bottom.I would highly recommend these to others as they are a very good product and well made and create loads of fun. They are also great value for money.  Olympics rings']}\n",
      "----------------------------------------------------------------------------------------------------\n",
      "{'product_name': \"TRIVIAL PURSUIT 1980'S\", 'manufacturer': \"trivial pursuit 1980's\", 'price': np.float64(59.03), 'preferred_age': np.float64(4.0), 'rating': np.float64(4.6), 'reviews': ['Had looked around for this for a while as \"an evening in with friends\" amusement (we are all around 50!) Should be a blast!']}\n",
      "----------------------------------------------------------------------------------------------------\n",
      "{'product_name': 'Hero Mask - Wolverine', 'manufacturer': 'marvel', 'price': np.float64(22.43), 'preferred_age': np.float64(4.0), 'rating': np.float64(4.3), 'reviews': [\"Bought to replace a mask that came with a costume and was stolen. This one isn't as comfortable and almost the same price as the whole costume with claws! Take note that should you just want the mask for a child, buy the whole costume. This one leaves marks and is very tight around a 6 year old head. Even my 3 year old daughter finds it too tight.  A good buy.\"]}\n",
      "----------------------------------------------------------------------------------------------------\n",
      "{'product_name': '50 pieces 8mm Iron Finding Beads - Silver Tone - A6755', 'manufacturer': 'k2-accessories jewellery findings', 'price': np.float64(1.22), 'preferred_age': np.float64(7.0), 'rating': np.float64(5.0), 'reviews': ['These are pretty cool!']}\n",
      "----------------------------------------------------------------------------------------------------\n",
      "{'product_name': 'Fireball XL5 Die-Cast Metal Replica', 'manufacturer': 'product enterprise', 'price': np.float64(315.43), 'preferred_age': np.float64(8.0), 'rating': np.float64(5.0), 'reviews': ['Fly around the living room with Fireball XL5']}\n",
      "----------------------------------------------------------------------------------------------------\n"
     ]
    }
   ],
   "source": [
    "for hit in res:\n",
    "    print(hit)\n",
    "    # print(res[hit])\n",
    "    print(\"-\"*100)"
   ]
  },
  {
   "cell_type": "markdown",
   "metadata": {},
   "source": [
    "## Hybrid Search"
   ]
  },
  {
   "cell_type": "code",
   "execution_count": 16,
   "metadata": {},
   "outputs": [
    {
     "name": "stderr",
     "output_type": "stream",
     "text": [
      "Batches: 100%|██████████| 1/1 [00:00<00:00,  3.25it/s]\n"
     ]
    }
   ],
   "source": [
    "response, matched = hybrid_search(query, df, corpus_embeddings_dict, llm_client=llm_client, embedder=embedder, cross_encoder=cross_encoder, top_k=25, top_n=10)\n",
    "res = get_results(response, top_n=10)"
   ]
  },
  {
   "cell_type": "code",
   "execution_count": 17,
   "metadata": {},
   "outputs": [
    {
     "name": "stdout",
     "output_type": "stream",
     "text": [
      "{'product_name': \"Holographic Self-Adhesive Dots Embellishments for Children's Crafts, Collage, Scrapbooking (Per Pack)\", 'manufacturer': 'baker ross', 'price': np.float64(3.68), 'preferred_age': np.float64(3.0), 'rating': np.float64(4.0), 'reviews': ['Good craft item for children to have around, no need for glue.']}\n",
      "----------------------------------------------------------------------------------------------------\n",
      "{'product_name': 'Disney Princess Birthday Candle Number 3', 'manufacturer': 'disney princess', 'price': np.float64(3.69), 'preferred_age': np.float64(3.0), 'rating': np.float64(4.5), 'reviews': ['The face looked a bit strange but with industrial promotion what can you do. Next time I would go to a shop and choose it myself. In any case makes the job.  Snow White 3 candle']}\n",
      "----------------------------------------------------------------------------------------------------\n",
      "{'product_name': 'Spaceboy Water Pistol', 'manufacturer': 'dotcomgiftshop', 'price': np.float64(2.4), 'preferred_age': np.float64(3.0), 'rating': np.float64(4.0), 'reviews': ['good  Three Stars', 'very small', 'but easy to']}\n",
      "----------------------------------------------------------------------------------------------------\n",
      "{'product_name': 'Dolls House Miniature Accessory Flooring 1:12 Scale White Furry Bear Rug', 'manufacturer': 'melody jane dolls houses', 'price': np.float64(3.68), 'preferred_age': np.float64(14.0), 'rating': np.float64(5.0), 'reviews': ['Lovely, I would recommend it.']}\n",
      "----------------------------------------------------------------------------------------------------\n",
      "{'product_name': 'MyTinyWorld Dolls House Miniature 3 Piece Cloakroom Accessory Set', 'manufacturer': 'mytinyworld', 'price': np.float64(3.47), 'preferred_age': np.float64(10.0), 'rating': np.float64(5.0), 'reviews': ['love it as usual always love there items']}\n",
      "----------------------------------------------------------------------------------------------------\n",
      "{'product_name': 'STICKY EYES/576 STICKERS', 'manufacturer': 'crafty bitz', 'price': np.float64(2.77), 'preferred_age': np.float64(3.0), 'rating': np.float64(4.7), 'reviews': [\"Tiny stickers, 8mm diameter, much smaller than I imagined, but bought in a hurry, so although I looked for a size before I bought, I couldn't find one. Nice item it you need lots of tiny eye stickers, and will be used and appreciated by my 3 year old.  As described\"]}\n",
      "----------------------------------------------------------------------------------------------------\n",
      "{'product_name': '300 Loom Bands Skintone Mix A Cream,Peach,Skin Tone,Mettalic', 'manufacturer': 'loomastic bands', 'price': np.float64(3.68), 'preferred_age': np.float64(3.0), 'rating': np.float64(4.5), 'reviews': [\"It's ok  Five Stars\", 'nice  Four Stars']}\n",
      "----------------------------------------------------------------------------------------------------\n"
     ]
    }
   ],
   "source": [
    "for hit in res:\n",
    "    print(hit)\n",
    "    print(\"-\"*100)"
   ]
  },
  {
   "cell_type": "code",
   "execution_count": null,
   "metadata": {},
   "outputs": [],
   "source": []
  },
  {
   "cell_type": "markdown",
   "metadata": {},
   "source": [
    "## Search Results"
   ]
  },
  {
   "cell_type": "code",
   "execution_count": null,
   "metadata": {},
   "outputs": [],
   "source": []
  },
  {
   "cell_type": "code",
   "execution_count": 18,
   "metadata": {},
   "outputs": [],
   "source": [
    "import json\n",
    "\n",
    "with open('matched_queries.json', 'r') as f:\n",
    "    queries = json.load(f)\n",
    "\n",
    "queries = [query.lower() for query in queries]\n",
    "random.shuffle(queries)"
   ]
  },
  {
   "cell_type": "code",
   "execution_count": null,
   "metadata": {},
   "outputs": [],
   "source": []
  },
  {
   "cell_type": "code",
   "execution_count": 19,
   "metadata": {},
   "outputs": [
    {
     "name": "stderr",
     "output_type": "stream",
     "text": [
      "  0%|          | 0/233 [00:00<?, ?it/s]"
     ]
    },
    {
     "name": "stdout",
     "output_type": "stream",
     "text": [
      "can i get a 5-star rated ban dai toy for my almost 4-year-old?\n"
     ]
    },
    {
     "name": "stderr",
     "output_type": "stream",
     "text": [
      "Batches: 100%|██████████| 1/1 [00:00<00:00,  5.04it/s]\n",
      "Batches: 100%|██████████| 1/1 [00:00<00:00, 25.28it/s]\n",
      "Batches: 100%|██████████| 1/1 [00:00<00:00,  9.33it/s]\n",
      "  0%|          | 1/233 [00:04<15:44,  4.07s/it]"
     ]
    },
    {
     "name": "stdout",
     "output_type": "stream",
     "text": [
      "----------------------------------------------------------------------------------------------------\n",
      "what are some good reviews on the glowhouse products priced at $3?\n"
     ]
    },
    {
     "name": "stderr",
     "output_type": "stream",
     "text": [
      "Batches: 100%|██████████| 1/1 [00:00<00:00, 11.81it/s]\n",
      "Batches: 100%|██████████| 1/1 [00:00<00:00, 29.90it/s]\n"
     ]
    },
    {
     "name": "stdout",
     "output_type": "stream",
     "text": [
      "Sorry, the brand you are looking for is not available!\n"
     ]
    },
    {
     "name": "stderr",
     "output_type": "stream",
     "text": [
      "Batches: 100%|██████████| 1/1 [00:00<00:00,  9.82it/s]\n",
      "  1%|          | 2/233 [00:08<17:12,  4.47s/it]"
     ]
    },
    {
     "name": "stdout",
     "output_type": "stream",
     "text": [
      "----------------------------------------------------------------------------------------------------\n",
      "looking for affordable playing cards by the united states playing card company with good reviews.\n"
     ]
    },
    {
     "name": "stderr",
     "output_type": "stream",
     "text": [
      "Batches: 100%|██████████| 1/1 [00:00<00:00, 11.66it/s]\n",
      "Batches: 100%|██████████| 1/1 [00:00<00:00, 43.42it/s]\n"
     ]
    },
    {
     "name": "stdout",
     "output_type": "stream",
     "text": [
      "Sorry, the brand you are looking for is not available!\n"
     ]
    },
    {
     "name": "stderr",
     "output_type": "stream",
     "text": [
      "Batches: 100%|██████████| 1/1 [00:00<00:00,  2.25it/s]\n",
      "  1%|▏         | 3/233 [00:15<21:29,  5.61s/it]"
     ]
    },
    {
     "name": "stdout",
     "output_type": "stream",
     "text": [
      "----------------------------------------------------------------------------------------------------\n",
      "where can i find heart-shaped foil balloons for under $5?\n"
     ]
    },
    {
     "name": "stderr",
     "output_type": "stream",
     "text": [
      "Batches: 100%|██████████| 1/1 [00:00<00:00,  9.44it/s]\n",
      "Batches: 100%|██████████| 1/1 [00:00<00:00,  4.17it/s]\n",
      "Batches: 100%|██████████| 1/1 [00:00<00:00,  3.16it/s]\n",
      "  2%|▏         | 4/233 [00:21<21:49,  5.72s/it]"
     ]
    },
    {
     "name": "stdout",
     "output_type": "stream",
     "text": [
      "----------------------------------------------------------------------------------------------------\n",
      "are there any reviews for illoom balloons purple - pack of 5 with a 5.0 rating?\n"
     ]
    },
    {
     "name": "stderr",
     "output_type": "stream",
     "text": [
      "Batches: 100%|██████████| 1/1 [00:00<00:00,  5.00it/s]\n",
      "Batches: 100%|██████████| 1/1 [00:00<00:00, 42.91it/s]\n"
     ]
    },
    {
     "name": "stdout",
     "output_type": "stream",
     "text": [
      "Sorry, the brand you are looking for is not available!\n"
     ]
    },
    {
     "name": "stderr",
     "output_type": "stream",
     "text": [
      "Batches: 100%|██████████| 1/1 [00:00<00:00,  2.46it/s]\n",
      "  2%|▏         | 5/233 [00:28<23:00,  6.05s/it]"
     ]
    },
    {
     "name": "stdout",
     "output_type": "stream",
     "text": [
      "----------------------------------------------------------------------------------------------------\n",
      "are there any modern trucks available for around $14.00?\n"
     ]
    },
    {
     "name": "stderr",
     "output_type": "stream",
     "text": [
      "Batches: 100%|██████████| 1/1 [00:00<00:00, 22.49it/s]\n",
      "Batches: 100%|██████████| 1/1 [00:00<00:00, 21.10it/s]\n",
      "Batches: 100%|██████████| 1/1 [00:00<00:00,  2.18it/s]\n",
      "  3%|▎         | 6/233 [00:33<21:57,  5.80s/it]"
     ]
    },
    {
     "name": "stdout",
     "output_type": "stream",
     "text": [
      "----------------------------------------------------------------------------------------------------\n",
      "looking for a cat construction toy priced at $12 with a rating of 4.7.\n"
     ]
    },
    {
     "name": "stderr",
     "output_type": "stream",
     "text": [
      "Batches: 100%|██████████| 1/1 [00:00<00:00,  8.63it/s]\n",
      "Batches: 100%|██████████| 1/1 [00:00<00:00, 37.09it/s]\n"
     ]
    },
    {
     "name": "stdout",
     "output_type": "stream",
     "text": [
      "Sorry, the brand you are looking for is not available!\n"
     ]
    },
    {
     "name": "stderr",
     "output_type": "stream",
     "text": [
      "Batches: 100%|██████████| 1/1 [00:00<00:00,  3.98it/s]\n",
      "  3%|▎         | 7/233 [00:38<20:54,  5.55s/it]"
     ]
    },
    {
     "name": "stdout",
     "output_type": "stream",
     "text": [
      "----------------------------------------------------------------------------------------------------\n",
      "are there any highly-rated products for a 10-year-old around $12?\n"
     ]
    },
    {
     "name": "stderr",
     "output_type": "stream",
     "text": [
      "Batches: 100%|██████████| 1/1 [00:00<00:00, 24.10it/s]\n",
      "Batches: 100%|██████████| 1/1 [00:00<00:00, 39.12it/s]\n",
      "Batches: 100%|██████████| 1/1 [00:00<00:00, 10.34it/s]\n",
      "  3%|▎         | 8/233 [00:42<19:02,  5.08s/it]"
     ]
    },
    {
     "name": "stdout",
     "output_type": "stream",
     "text": [
      "----------------------------------------------------------------------------------------------------\n",
      "what sluban items can i find that have a rating of 4.0?\n"
     ]
    },
    {
     "name": "stderr",
     "output_type": "stream",
     "text": [
      "Batches: 100%|██████████| 1/1 [00:00<00:00,  9.46it/s]\n",
      "Batches: 100%|██████████| 1/1 [00:00<00:00, 46.55it/s]\n",
      "Batches: 100%|██████████| 1/1 [00:00<00:00,  8.45it/s]\n",
      "  4%|▍         | 9/233 [00:47<18:16,  4.89s/it]"
     ]
    },
    {
     "name": "stdout",
     "output_type": "stream",
     "text": [
      "----------------------------------------------------------------------------------------------------\n",
      "what are the reviews like for andy's products?\n"
     ]
    },
    {
     "name": "stderr",
     "output_type": "stream",
     "text": [
      "Batches: 100%|██████████| 1/1 [00:00<00:00,  7.73it/s]\n",
      "Batches: 100%|██████████| 1/1 [00:00<00:00, 29.32it/s]\n"
     ]
    },
    {
     "name": "stdout",
     "output_type": "stream",
     "text": [
      "Sorry, the brand you are looking for is not available!\n"
     ]
    },
    {
     "name": "stderr",
     "output_type": "stream",
     "text": [
      "Batches: 100%|██████████| 1/1 [00:00<00:00,  6.92it/s]\n",
      "  4%|▍         | 10/233 [00:53<19:39,  5.29s/it]"
     ]
    },
    {
     "name": "stdout",
     "output_type": "stream",
     "text": [
      "----------------------------------------------------------------------------------------------------\n",
      "what do people think about airsuits with a 4.7 rating?\n"
     ]
    },
    {
     "name": "stderr",
     "output_type": "stream",
     "text": [
      "Batches: 100%|██████████| 1/1 [00:00<00:00, 15.98it/s]\n",
      "Batches: 100%|██████████| 1/1 [00:00<00:00, 31.73it/s]\n",
      "Batches: 100%|██████████| 1/1 [00:00<00:00,  2.87it/s]\n",
      "  5%|▍         | 11/233 [01:00<21:06,  5.71s/it]"
     ]
    },
    {
     "name": "stdout",
     "output_type": "stream",
     "text": [
      "----------------------------------------------------------------------------------------------------\n",
      "which hsp products are rated 4.5?\n"
     ]
    },
    {
     "name": "stderr",
     "output_type": "stream",
     "text": [
      "Batches: 100%|██████████| 1/1 [00:00<00:00,  7.12it/s]\n",
      "Batches: 100%|██████████| 1/1 [00:00<00:00, 22.67it/s]\n",
      "Batches: 100%|██████████| 1/1 [00:00<00:00, 16.22it/s]\n",
      "  5%|▌         | 12/233 [01:04<19:30,  5.30s/it]"
     ]
    },
    {
     "name": "stdout",
     "output_type": "stream",
     "text": [
      "----------------------------------------------------------------------------------------------------\n",
      "are there any unique brand products available for around $3.0?\n"
     ]
    },
    {
     "name": "stderr",
     "output_type": "stream",
     "text": [
      "Batches: 100%|██████████| 1/1 [00:00<00:00, 24.35it/s]\n",
      "Batches: 100%|██████████| 1/1 [00:00<00:00, 44.44it/s]\n",
      "Batches: 100%|██████████| 1/1 [00:00<00:00, 20.31it/s]\n",
      "  6%|▌         | 13/233 [01:08<18:11,  4.96s/it]"
     ]
    },
    {
     "name": "stdout",
     "output_type": "stream",
     "text": [
      "----------------------------------------------------------------------------------------------------\n",
      "are there any highly-rated family games available for just $3?\n"
     ]
    },
    {
     "name": "stderr",
     "output_type": "stream",
     "text": [
      "Batches: 100%|██████████| 1/1 [00:00<00:00, 36.65it/s]\n",
      "Batches: 100%|██████████| 1/1 [00:00<00:00, 42.67it/s]\n",
      "Batches: 100%|██████████| 1/1 [00:00<00:00, 17.27it/s]\n",
      "  6%|▌         | 14/233 [01:12<17:23,  4.77s/it]"
     ]
    },
    {
     "name": "stdout",
     "output_type": "stream",
     "text": [
      "----------------------------------------------------------------------------------------------------\n",
      "are there any gladiator foam products with a 5-star rating?\n"
     ]
    },
    {
     "name": "stderr",
     "output_type": "stream",
     "text": [
      "Batches: 100%|██████████| 1/1 [00:00<00:00, 39.18it/s]\n",
      "Batches: 100%|██████████| 1/1 [00:00<00:00, 45.09it/s]\n"
     ]
    },
    {
     "name": "stdout",
     "output_type": "stream",
     "text": [
      "Sorry, the brand you are looking for is not available!\n"
     ]
    },
    {
     "name": "stderr",
     "output_type": "stream",
     "text": [
      "Batches: 100%|██████████| 1/1 [00:00<00:00,  8.22it/s]\n",
      "  6%|▋         | 15/233 [01:17<17:17,  4.76s/it]"
     ]
    },
    {
     "name": "stdout",
     "output_type": "stream",
     "text": [
      "----------------------------------------------------------------------------------------------------\n",
      "can i find top-rated b-loony products on this site?\n"
     ]
    },
    {
     "name": "stderr",
     "output_type": "stream",
     "text": [
      "Batches: 100%|██████████| 1/1 [00:00<00:00, 38.11it/s]\n",
      "Batches: 100%|██████████| 1/1 [00:00<00:00, 42.26it/s]\n",
      "Batches: 100%|██████████| 1/1 [00:00<00:00,  3.29it/s]\n",
      "  7%|▋         | 16/233 [01:22<16:58,  4.69s/it]"
     ]
    },
    {
     "name": "stdout",
     "output_type": "stream",
     "text": [
      "----------------------------------------------------------------------------------------------------\n",
      "what are some highly-rated products from world playground ltd?\n"
     ]
    },
    {
     "name": "stderr",
     "output_type": "stream",
     "text": [
      "Batches: 100%|██████████| 1/1 [00:00<00:00, 10.18it/s]\n",
      "Batches: 100%|██████████| 1/1 [00:00<00:00, 47.28it/s]\n",
      "Batches: 100%|██████████| 1/1 [00:00<00:00, 13.94it/s]\n",
      "  7%|▋         | 17/233 [01:26<16:23,  4.55s/it]"
     ]
    },
    {
     "name": "stdout",
     "output_type": "stream",
     "text": [
      "----------------------------------------------------------------------------------------------------\n",
      "how much does the illoom balloons purple - pack of 5 cost?\n"
     ]
    },
    {
     "name": "stderr",
     "output_type": "stream",
     "text": [
      "Batches: 100%|██████████| 1/1 [00:00<00:00, 38.31it/s]\n",
      "Batches: 100%|██████████| 1/1 [00:00<00:00, 47.52it/s]\n"
     ]
    },
    {
     "name": "stdout",
     "output_type": "stream",
     "text": [
      "Sorry, the brand you are looking for is not available!\n"
     ]
    },
    {
     "name": "stderr",
     "output_type": "stream",
     "text": [
      "Batches: 100%|██████████| 1/1 [00:00<00:00, 19.59it/s]\n",
      "  8%|▊         | 18/233 [01:31<16:53,  4.72s/it]"
     ]
    },
    {
     "name": "stdout",
     "output_type": "stream",
     "text": [
      "----------------------------------------------------------------------------------------------------\n",
      "are there any affordable plaid hat games for children under 10 with a 5-star rating?\n"
     ]
    },
    {
     "name": "stderr",
     "output_type": "stream",
     "text": [
      "Batches: 100%|██████████| 1/1 [00:00<00:00, 34.58it/s]\n",
      "Batches: 100%|██████████| 1/1 [00:00<00:00, 48.94it/s]\n",
      "Batches: 100%|██████████| 1/1 [00:00<00:00, 13.04it/s]\n",
      "  8%|▊         | 19/233 [01:36<16:39,  4.67s/it]"
     ]
    },
    {
     "name": "stdout",
     "output_type": "stream",
     "text": [
      "----------------------------------------------------------------------------------------------------\n",
      "what's a good gift for a 16-year-old that's highly rated?\n"
     ]
    },
    {
     "name": "stderr",
     "output_type": "stream",
     "text": [
      "Batches: 100%|██████████| 1/1 [00:00<00:00,  9.23it/s]\n",
      "Batches: 100%|██████████| 1/1 [00:00<00:00, 38.97it/s]\n",
      "Batches: 100%|██████████| 1/1 [00:00<00:00, 19.19it/s]\n",
      "  9%|▊         | 20/233 [01:40<16:01,  4.51s/it]"
     ]
    },
    {
     "name": "stdout",
     "output_type": "stream",
     "text": [
      "----------------------------------------------------------------------------------------------------\n",
      "are there any lifewheel items that have a 4.5-star rating?\n"
     ]
    },
    {
     "name": "stderr",
     "output_type": "stream",
     "text": [
      "Batches: 100%|██████████| 1/1 [00:00<00:00, 19.60it/s]\n",
      "Batches: 100%|██████████| 1/1 [00:00<00:00, 43.83it/s]\n",
      "Batches: 100%|██████████| 1/1 [00:00<00:00,  8.20it/s]\n",
      "  9%|▉         | 21/233 [01:44<15:47,  4.47s/it]"
     ]
    },
    {
     "name": "stdout",
     "output_type": "stream",
     "text": [
      "----------------------------------------------------------------------------------------------------\n",
      "looking for highly rated cardfight vanguard items, any suggestions?\n"
     ]
    },
    {
     "name": "stderr",
     "output_type": "stream",
     "text": [
      "Batches: 100%|██████████| 1/1 [00:00<00:00, 29.85it/s]\n",
      "Batches: 100%|██████████| 1/1 [00:00<00:00,  3.13it/s]\n",
      "Batches: 100%|██████████| 1/1 [00:00<00:00, 14.37it/s]\n",
      "  9%|▉         | 22/233 [01:49<16:04,  4.57s/it]"
     ]
    },
    {
     "name": "stdout",
     "output_type": "stream",
     "text": [
      "----------------------------------------------------------------------------------------------------\n",
      "can i find a highly-rated toy from team losi, inc. for around $14?\n"
     ]
    },
    {
     "name": "stderr",
     "output_type": "stream",
     "text": [
      "Batches: 100%|██████████| 1/1 [00:00<00:00, 19.76it/s]\n",
      "Batches: 100%|██████████| 1/1 [00:00<00:00, 45.91it/s]\n",
      "Batches: 100%|██████████| 1/1 [00:00<00:00,  3.31it/s]\n",
      " 10%|▉         | 23/233 [01:53<16:01,  4.58s/it]"
     ]
    },
    {
     "name": "stdout",
     "output_type": "stream",
     "text": [
      "----------------------------------------------------------------------------------------------------\n",
      "looking for advent gift boxes with a 5-star rating, any recommendations?\n"
     ]
    },
    {
     "name": "stderr",
     "output_type": "stream",
     "text": [
      "Batches: 100%|██████████| 1/1 [00:00<00:00, 20.32it/s]\n",
      "Batches: 100%|██████████| 1/1 [00:00<00:00, 26.56it/s]\n",
      "Batches: 100%|██████████| 1/1 [00:00<00:00, 28.59it/s]\n",
      " 10%|█         | 24/233 [01:58<16:13,  4.66s/it]"
     ]
    },
    {
     "name": "stdout",
     "output_type": "stream",
     "text": [
      "----------------------------------------------------------------------------------------------------\n",
      "looking for a highly-rated ravensburger spieleverlag game for an 8-year-old, any recommendations?\n"
     ]
    },
    {
     "name": "stderr",
     "output_type": "stream",
     "text": [
      "Batches: 100%|██████████| 1/1 [00:00<00:00,  7.51it/s]\n",
      "Batches: 100%|██████████| 1/1 [00:00<00:00, 40.86it/s]\n",
      "Batches: 100%|██████████| 1/1 [00:00<00:00, 18.97it/s]\n",
      " 11%|█         | 25/233 [02:03<16:14,  4.68s/it]"
     ]
    },
    {
     "name": "stdout",
     "output_type": "stream",
     "text": [
      "----------------------------------------------------------------------------------------------------\n",
      "are there any affordable puzzles for around $3.0?\n"
     ]
    },
    {
     "name": "stderr",
     "output_type": "stream",
     "text": [
      "Batches: 100%|██████████| 1/1 [00:00<00:00, 16.40it/s]\n",
      "Batches: 100%|██████████| 1/1 [00:00<00:00, 32.36it/s]\n",
      "Batches: 100%|██████████| 1/1 [00:00<00:00, 19.81it/s]\n",
      " 11%|█         | 26/233 [02:08<15:53,  4.61s/it]"
     ]
    },
    {
     "name": "stdout",
     "output_type": "stream",
     "text": [
      "----------------------------------------------------------------------------------------------------\n",
      "looking for a reeves product with a high rating and affordable price.\n"
     ]
    },
    {
     "name": "stderr",
     "output_type": "stream",
     "text": [
      "Batches: 100%|██████████| 1/1 [00:00<00:00, 15.32it/s]\n",
      "Batches: 100%|██████████| 1/1 [00:00<00:00, 41.86it/s]\n",
      "Batches: 100%|██████████| 1/1 [00:00<00:00,  6.22it/s]\n",
      " 12%|█▏        | 27/233 [02:13<16:30,  4.81s/it]"
     ]
    },
    {
     "name": "stdout",
     "output_type": "stream",
     "text": [
      "----------------------------------------------------------------------------------------------------\n",
      "what's the price of a lion chess set with a 5-star rating?\n"
     ]
    },
    {
     "name": "stderr",
     "output_type": "stream",
     "text": [
      "Batches: 100%|██████████| 1/1 [00:00<00:00, 11.77it/s]\n",
      "Batches: 100%|██████████| 1/1 [00:00<00:00, 44.88it/s]\n"
     ]
    },
    {
     "name": "stdout",
     "output_type": "stream",
     "text": [
      "Sorry, the brand you are looking for is not available!\n"
     ]
    },
    {
     "name": "stderr",
     "output_type": "stream",
     "text": [
      "Batches: 100%|██████████| 1/1 [00:00<00:00, 15.00it/s]\n",
      " 12%|█▏        | 28/233 [02:18<16:26,  4.81s/it]"
     ]
    },
    {
     "name": "stdout",
     "output_type": "stream",
     "text": [
      "----------------------------------------------------------------------------------------------------\n",
      "can i find a spektrum item with a 5-star rating?\n"
     ]
    },
    {
     "name": "stderr",
     "output_type": "stream",
     "text": [
      "Batches: 100%|██████████| 1/1 [00:00<00:00, 26.99it/s]\n",
      "Batches: 100%|██████████| 1/1 [00:00<00:00, 43.96it/s]\n",
      "Batches: 100%|██████████| 1/1 [00:00<00:00, 12.68it/s]\n",
      " 12%|█▏        | 29/233 [02:22<16:18,  4.79s/it]"
     ]
    },
    {
     "name": "stdout",
     "output_type": "stream",
     "text": [
      "----------------------------------------------------------------------------------------------------\n",
      "can you show me cuddlekins products that have a 5.0 rating?\n"
     ]
    },
    {
     "name": "stderr",
     "output_type": "stream",
     "text": [
      "Batches: 100%|██████████| 1/1 [00:00<00:00, 18.93it/s]\n",
      "Batches: 100%|██████████| 1/1 [00:00<00:00, 15.74it/s]\n",
      "Batches: 100%|██████████| 1/1 [00:00<00:00, 18.60it/s]\n",
      " 13%|█▎        | 30/233 [02:27<15:37,  4.62s/it]"
     ]
    },
    {
     "name": "stdout",
     "output_type": "stream",
     "text": [
      "----------------------------------------------------------------------------------------------------\n",
      "looking for highly-rated paul lamond items for kids aged 6, any suggestions?\n"
     ]
    },
    {
     "name": "stderr",
     "output_type": "stream",
     "text": [
      "Batches: 100%|██████████| 1/1 [00:00<00:00, 37.70it/s]\n",
      "Batches: 100%|██████████| 1/1 [00:00<00:00, 45.90it/s]\n",
      "Batches: 100%|██████████| 1/1 [00:00<00:00,  3.15it/s]\n",
      " 13%|█▎        | 31/233 [02:32<16:48,  4.99s/it]"
     ]
    },
    {
     "name": "stdout",
     "output_type": "stream",
     "text": [
      "----------------------------------------------------------------------------------------------------\n",
      "where can i find cardfight vanguard cards with a 5-star rating?\n"
     ]
    },
    {
     "name": "stderr",
     "output_type": "stream",
     "text": [
      "Batches: 100%|██████████| 1/1 [00:00<00:00, 10.16it/s]\n",
      "Batches: 100%|██████████| 1/1 [00:00<00:00, 42.74it/s]\n",
      "Batches: 100%|██████████| 1/1 [00:00<00:00, 17.34it/s]\n",
      " 14%|█▎        | 32/233 [02:37<16:10,  4.83s/it]"
     ]
    },
    {
     "name": "stdout",
     "output_type": "stream",
     "text": [
      "----------------------------------------------------------------------------------------------------\n",
      "affordable road rippers products with top ratings?\n"
     ]
    },
    {
     "name": "stderr",
     "output_type": "stream",
     "text": [
      "Batches: 100%|██████████| 1/1 [00:00<00:00, 17.70it/s]\n",
      "Batches: 100%|██████████| 1/1 [00:00<00:00, 41.97it/s]\n",
      "Batches: 100%|██████████| 1/1 [00:00<00:00,  5.44it/s]\n",
      " 14%|█▍        | 33/233 [02:41<15:40,  4.70s/it]"
     ]
    },
    {
     "name": "stdout",
     "output_type": "stream",
     "text": [
      "----------------------------------------------------------------------------------------------------\n",
      "looking for affordable moulin roty products, any suggestions?\n"
     ]
    },
    {
     "name": "stderr",
     "output_type": "stream",
     "text": [
      "Batches: 100%|██████████| 1/1 [00:00<00:00, 26.91it/s]\n",
      "Batches: 100%|██████████| 1/1 [00:00<00:00, 49.47it/s]\n",
      "Batches: 100%|██████████| 1/1 [00:00<00:00, 11.50it/s]\n",
      " 15%|█▍        | 34/233 [02:45<14:53,  4.49s/it]"
     ]
    },
    {
     "name": "stdout",
     "output_type": "stream",
     "text": [
      "----------------------------------------------------------------------------------------------------\n",
      "show me top-rated products from world playground ltd that are budget-friendly.\n"
     ]
    },
    {
     "name": "stderr",
     "output_type": "stream",
     "text": [
      "Batches: 100%|██████████| 1/1 [00:00<00:00, 34.86it/s]\n",
      "Batches: 100%|██████████| 1/1 [00:00<00:00, 40.25it/s]\n",
      "Batches: 100%|██████████| 1/1 [00:00<00:00, 14.98it/s]\n",
      " 15%|█▌        | 35/233 [02:50<14:50,  4.50s/it]"
     ]
    },
    {
     "name": "stdout",
     "output_type": "stream",
     "text": [
      "----------------------------------------------------------------------------------------------------\n",
      "show me wacky wobbler products under $15.\n"
     ]
    },
    {
     "name": "stderr",
     "output_type": "stream",
     "text": [
      "Batches: 100%|██████████| 1/1 [00:00<00:00, 31.22it/s]\n",
      "Batches: 100%|██████████| 1/1 [00:00<00:00, 46.40it/s]\n",
      "Batches: 100%|██████████| 1/1 [00:00<00:00,  8.39it/s]\n",
      " 15%|█▌        | 36/233 [02:54<14:17,  4.35s/it]"
     ]
    },
    {
     "name": "stdout",
     "output_type": "stream",
     "text": [
      "----------------------------------------------------------------------------------------------------\n",
      "what are the reviews for qj brand products with a rating of 4.6?\n"
     ]
    },
    {
     "name": "stderr",
     "output_type": "stream",
     "text": [
      "Batches: 100%|██████████| 1/1 [00:00<00:00, 24.63it/s]\n",
      "Batches: 100%|██████████| 1/1 [00:00<00:00, 47.00it/s]\n",
      "Batches: 100%|██████████| 1/1 [00:00<00:00,  3.47it/s]\n",
      " 16%|█▌        | 37/233 [02:59<14:59,  4.59s/it]"
     ]
    },
    {
     "name": "stdout",
     "output_type": "stream",
     "text": [
      "----------------------------------------------------------------------------------------------------\n",
      "where can i find fast and furious products with a 5-star rating?\n"
     ]
    },
    {
     "name": "stderr",
     "output_type": "stream",
     "text": [
      "Batches: 100%|██████████| 1/1 [00:00<00:00, 20.60it/s]\n",
      "Batches: 100%|██████████| 1/1 [00:00<00:00, 20.91it/s]\n",
      "Batches: 100%|██████████| 1/1 [00:00<00:00, 16.19it/s]\n",
      " 16%|█▋        | 38/233 [03:03<14:49,  4.56s/it]"
     ]
    },
    {
     "name": "stdout",
     "output_type": "stream",
     "text": [
      "----------------------------------------------------------------------------------------------------\n",
      "show me bronco models items that have excellent reviews.\n"
     ]
    },
    {
     "name": "stderr",
     "output_type": "stream",
     "text": [
      "Batches: 100%|██████████| 1/1 [00:00<00:00, 16.24it/s]\n",
      "Batches: 100%|██████████| 1/1 [00:00<00:00, 38.84it/s]\n",
      "Batches: 100%|██████████| 1/1 [00:00<00:00,  9.02it/s]\n",
      " 17%|█▋        | 39/233 [03:08<14:22,  4.44s/it]"
     ]
    },
    {
     "name": "stdout",
     "output_type": "stream",
     "text": [
      "----------------------------------------------------------------------------------------------------\n",
      "how much does the star wars episodes i to vi box set cost?\n"
     ]
    },
    {
     "name": "stderr",
     "output_type": "stream",
     "text": [
      "Batches: 100%|██████████| 1/1 [00:00<00:00, 21.29it/s]\n",
      "Batches: 100%|██████████| 1/1 [00:00<00:00, 49.80it/s]\n",
      "Batches: 100%|██████████| 1/1 [00:00<00:00, 16.97it/s]\n",
      " 17%|█▋        | 40/233 [03:12<14:06,  4.38s/it]"
     ]
    },
    {
     "name": "stdout",
     "output_type": "stream",
     "text": [
      "----------------------------------------------------------------------------------------------------\n",
      "can i get advent gift boxes suitable for a 17-year-old at a low price?\n"
     ]
    },
    {
     "name": "stderr",
     "output_type": "stream",
     "text": [
      "Batches: 100%|██████████| 1/1 [00:00<00:00, 20.43it/s]\n",
      "Batches: 100%|██████████| 1/1 [00:00<00:00, 46.10it/s]\n",
      "Batches: 100%|██████████| 1/1 [00:00<00:00,  2.87it/s]\n",
      " 18%|█▊        | 41/233 [03:17<14:31,  4.54s/it]"
     ]
    },
    {
     "name": "stdout",
     "output_type": "stream",
     "text": [
      "----------------------------------------------------------------------------------------------------\n",
      "looking for highly-rated dji items, any recommendations?\n"
     ]
    },
    {
     "name": "stderr",
     "output_type": "stream",
     "text": [
      "Batches: 100%|██████████| 1/1 [00:00<00:00, 27.10it/s]\n",
      "Batches: 100%|██████████| 1/1 [00:00<00:00, 49.04it/s]\n",
      "Batches: 100%|██████████| 1/1 [00:00<00:00, 15.49it/s]\n",
      " 18%|█▊        | 42/233 [03:21<14:00,  4.40s/it]"
     ]
    },
    {
     "name": "stdout",
     "output_type": "stream",
     "text": [
      "----------------------------------------------------------------------------------------------------\n",
      "show me craft items with a perfect rating that are suitable for a 12-year-old and priced at $5.\n"
     ]
    },
    {
     "name": "stderr",
     "output_type": "stream",
     "text": [
      "Batches: 100%|██████████| 1/1 [00:00<00:00,  8.14it/s]\n",
      "Batches: 100%|██████████| 1/1 [00:00<00:00, 26.54it/s]\n",
      "Batches: 100%|██████████| 1/1 [00:00<00:00, 13.82it/s]\n",
      " 18%|█▊        | 43/233 [03:25<13:53,  4.38s/it]"
     ]
    },
    {
     "name": "stdout",
     "output_type": "stream",
     "text": [
      "----------------------------------------------------------------------------------------------------\n",
      "best yoo hoo products under $3.00 with excellent ratings?\n"
     ]
    },
    {
     "name": "stderr",
     "output_type": "stream",
     "text": [
      "Batches: 100%|██████████| 1/1 [00:00<00:00, 30.30it/s]\n",
      "Batches: 100%|██████████| 1/1 [00:00<00:00, 50.00it/s]\n"
     ]
    },
    {
     "name": "stdout",
     "output_type": "stream",
     "text": [
      "Sorry, no relevant results!\n"
     ]
    },
    {
     "name": "stderr",
     "output_type": "stream",
     "text": [
      "Batches: 100%|██████████| 1/1 [00:00<00:00,  8.32it/s]\n",
      " 19%|█▉        | 44/233 [03:33<17:10,  5.45s/it]"
     ]
    },
    {
     "name": "stdout",
     "output_type": "stream",
     "text": [
      "----------------------------------------------------------------------------------------------------\n",
      "are there any talking tables items with a 5-star rating for around $3.0?\n"
     ]
    },
    {
     "name": "stderr",
     "output_type": "stream",
     "text": [
      "Batches: 100%|██████████| 1/1 [00:00<00:00, 27.05it/s]\n",
      "Batches: 100%|██████████| 1/1 [00:00<00:00, 40.34it/s]\n",
      "Batches: 100%|██████████| 1/1 [00:00<00:00,  2.84it/s]\n",
      " 19%|█▉        | 45/233 [03:38<16:15,  5.19s/it]"
     ]
    },
    {
     "name": "stdout",
     "output_type": "stream",
     "text": [
      "----------------------------------------------------------------------------------------------------\n",
      "are there any highly-rated road rippers products available?\n"
     ]
    },
    {
     "name": "stderr",
     "output_type": "stream",
     "text": [
      "Batches: 100%|██████████| 1/1 [00:00<00:00, 21.60it/s]\n",
      "Batches: 100%|██████████| 1/1 [00:00<00:00, 45.64it/s]\n",
      "Batches: 100%|██████████| 1/1 [00:00<00:00,  3.83it/s]\n",
      " 20%|█▉        | 46/233 [03:42<15:45,  5.06s/it]"
     ]
    },
    {
     "name": "stdout",
     "output_type": "stream",
     "text": [
      "----------------------------------------------------------------------------------------------------\n",
      "can i find a perler item for around $6 that's highly rated?\n"
     ]
    },
    {
     "name": "stderr",
     "output_type": "stream",
     "text": [
      "Batches: 100%|██████████| 1/1 [00:00<00:00, 29.98it/s]\n",
      "Batches: 100%|██████████| 1/1 [00:00<00:00, 45.21it/s]\n",
      "Batches: 100%|██████████| 1/1 [00:00<00:00,  9.77it/s]\n",
      " 20%|██        | 47/233 [03:46<14:42,  4.74s/it]"
     ]
    },
    {
     "name": "stdout",
     "output_type": "stream",
     "text": [
      "----------------------------------------------------------------------------------------------------\n",
      "can i find a chess set for someone aged 24 with a 4.5-star rating?\n"
     ]
    },
    {
     "name": "stderr",
     "output_type": "stream",
     "text": [
      "Batches: 100%|██████████| 1/1 [00:00<00:00, 26.34it/s]\n",
      "Batches: 100%|██████████| 1/1 [00:00<00:00, 48.55it/s]\n",
      "Batches: 100%|██████████| 1/1 [00:00<00:00,  6.23it/s]\n",
      " 21%|██        | 48/233 [03:50<13:54,  4.51s/it]"
     ]
    },
    {
     "name": "stdout",
     "output_type": "stream",
     "text": [
      "----------------------------------------------------------------------------------------------------\n",
      "affordable transformers age of extinction items for a 12-year-old?\n"
     ]
    },
    {
     "name": "stderr",
     "output_type": "stream",
     "text": [
      "Batches: 100%|██████████| 1/1 [00:00<00:00, 27.66it/s]\n",
      "Batches: 100%|██████████| 1/1 [00:00<00:00, 45.73it/s]\n"
     ]
    },
    {
     "name": "stdout",
     "output_type": "stream",
     "text": [
      "Sorry, no relevant results!\n"
     ]
    },
    {
     "name": "stderr",
     "output_type": "stream",
     "text": [
      "Batches: 100%|██████████| 1/1 [00:00<00:00,  2.52it/s]\n",
      " 21%|██        | 49/233 [03:56<15:10,  4.95s/it]"
     ]
    },
    {
     "name": "stdout",
     "output_type": "stream",
     "text": [
      "----------------------------------------------------------------------------------------------------\n",
      "what are some good ravensburger spieleverlag games for 8-year-olds with a rating of 4.0?\n"
     ]
    },
    {
     "name": "stderr",
     "output_type": "stream",
     "text": [
      "Batches: 100%|██████████| 1/1 [00:00<00:00,  4.86it/s]\n",
      "Batches: 100%|██████████| 1/1 [00:00<00:00, 39.33it/s]\n",
      "Batches: 100%|██████████| 1/1 [00:00<00:00, 12.75it/s]\n",
      " 21%|██▏       | 50/233 [04:02<15:25,  5.06s/it]"
     ]
    },
    {
     "name": "stdout",
     "output_type": "stream",
     "text": [
      "----------------------------------------------------------------------------------------------------\n",
      "are there any reviews for k2-accessories alphabet letter beads with a 4.2 rating?\n"
     ]
    },
    {
     "name": "stderr",
     "output_type": "stream",
     "text": [
      "Batches: 100%|██████████| 1/1 [00:00<00:00, 30.47it/s]\n",
      "Batches: 100%|██████████| 1/1 [00:00<00:00, 38.33it/s]\n",
      "Batches: 100%|██████████| 1/1 [00:00<00:00,  7.33it/s]\n",
      " 22%|██▏       | 51/233 [04:06<15:00,  4.95s/it]"
     ]
    },
    {
     "name": "stdout",
     "output_type": "stream",
     "text": [
      "----------------------------------------------------------------------------------------------------\n",
      "looking for highly-rated ban dai toys for preschoolers.\n"
     ]
    },
    {
     "name": "stderr",
     "output_type": "stream",
     "text": [
      "Batches: 100%|██████████| 1/1 [00:00<00:00, 22.60it/s]\n",
      "Batches: 100%|██████████| 1/1 [00:00<00:00, 48.43it/s]\n",
      "Batches: 100%|██████████| 1/1 [00:00<00:00, 12.61it/s]\n",
      " 22%|██▏       | 52/233 [04:10<14:04,  4.67s/it]"
     ]
    },
    {
     "name": "stdout",
     "output_type": "stream",
     "text": [
      "----------------------------------------------------------------------------------------------------\n",
      "which bronco models products have the best ratings?\n"
     ]
    },
    {
     "name": "stderr",
     "output_type": "stream",
     "text": [
      "Batches: 100%|██████████| 1/1 [00:00<00:00, 33.74it/s]\n",
      "Batches: 100%|██████████| 1/1 [00:00<00:00, 35.86it/s]\n",
      "Batches: 100%|██████████| 1/1 [00:00<00:00,  2.78it/s]\n",
      " 23%|██▎       | 53/233 [04:15<14:02,  4.68s/it]"
     ]
    },
    {
     "name": "stdout",
     "output_type": "stream",
     "text": [
      "----------------------------------------------------------------------------------------------------\n",
      "what are the best advent gift boxes for under $5?\n"
     ]
    },
    {
     "name": "stderr",
     "output_type": "stream",
     "text": [
      "Batches: 100%|██████████| 1/1 [00:00<00:00, 38.21it/s]\n",
      "Batches: 100%|██████████| 1/1 [00:00<00:00, 26.29it/s]\n",
      "Batches: 100%|██████████| 1/1 [00:00<00:00,  2.84it/s]\n",
      " 23%|██▎       | 54/233 [04:21<14:48,  4.97s/it]"
     ]
    },
    {
     "name": "stdout",
     "output_type": "stream",
     "text": [
      "----------------------------------------------------------------------------------------------------\n",
      "are there any papo brand toys available for around $3?\n"
     ]
    },
    {
     "name": "stderr",
     "output_type": "stream",
     "text": [
      "Batches: 100%|██████████| 1/1 [00:00<00:00, 14.61it/s]\n",
      "Batches: 100%|██████████| 1/1 [00:00<00:00, 47.38it/s]\n",
      "Batches: 100%|██████████| 1/1 [00:00<00:00, 19.27it/s]\n",
      " 24%|██▎       | 55/233 [04:25<13:42,  4.62s/it]"
     ]
    },
    {
     "name": "stdout",
     "output_type": "stream",
     "text": [
      "----------------------------------------------------------------------------------------------------\n",
      "are there any traditional garden games available for around $3 with good ratings?\n"
     ]
    },
    {
     "name": "stderr",
     "output_type": "stream",
     "text": [
      "Batches: 100%|██████████| 1/1 [00:00<00:00, 20.26it/s]\n",
      "Batches: 100%|██████████| 1/1 [00:00<00:00, 31.91it/s]\n",
      "Batches: 100%|██████████| 1/1 [00:00<00:00,  3.19it/s]\n",
      " 24%|██▍       | 56/233 [04:29<13:47,  4.68s/it]"
     ]
    },
    {
     "name": "stdout",
     "output_type": "stream",
     "text": [
      "----------------------------------------------------------------------------------------------------\n",
      "can i find illoom balloons purple - pack of 5 with a 5.0 rating on this site?\n"
     ]
    },
    {
     "name": "stderr",
     "output_type": "stream",
     "text": [
      "Batches: 100%|██████████| 1/1 [00:00<00:00,  6.32it/s]\n",
      "Batches: 100%|██████████| 1/1 [00:00<00:00, 25.55it/s]\n"
     ]
    },
    {
     "name": "stdout",
     "output_type": "stream",
     "text": [
      "Sorry, the brand you are looking for is not available!\n"
     ]
    },
    {
     "name": "stderr",
     "output_type": "stream",
     "text": [
      "Batches: 100%|██████████| 1/1 [00:00<00:00,  3.04it/s]\n",
      " 24%|██▍       | 57/233 [04:35<14:38,  4.99s/it]"
     ]
    },
    {
     "name": "stdout",
     "output_type": "stream",
     "text": [
      "----------------------------------------------------------------------------------------------------\n",
      "affordable yu-gi-oh merchandise with top ratings?\n"
     ]
    },
    {
     "name": "stderr",
     "output_type": "stream",
     "text": [
      "Batches: 100%|██████████| 1/1 [00:00<00:00, 20.94it/s]\n",
      "Batches: 100%|██████████| 1/1 [00:00<00:00, 29.24it/s]\n",
      "Batches: 100%|██████████| 1/1 [00:00<00:00, 12.04it/s]\n",
      " 25%|██▍       | 58/233 [04:39<13:41,  4.69s/it]"
     ]
    },
    {
     "name": "stdout",
     "output_type": "stream",
     "text": [
      "----------------------------------------------------------------------------------------------------\n",
      "can i find ultrabyeasypeasystore products with a 4.8 rating?\n"
     ]
    },
    {
     "name": "stderr",
     "output_type": "stream",
     "text": [
      "Batches: 100%|██████████| 1/1 [00:00<00:00, 29.59it/s]\n",
      "Batches: 100%|██████████| 1/1 [00:00<00:00, 35.83it/s]\n",
      "Batches: 100%|██████████| 1/1 [00:00<00:00,  1.71it/s]\n",
      " 25%|██▌       | 59/233 [04:45<14:14,  4.91s/it]"
     ]
    },
    {
     "name": "stdout",
     "output_type": "stream",
     "text": [
      "----------------------------------------------------------------------------------------------------\n",
      "looking for affordable think fun games for kids aged 9 with high ratings.\n"
     ]
    },
    {
     "name": "stderr",
     "output_type": "stream",
     "text": [
      "Batches: 100%|██████████| 1/1 [00:00<00:00, 30.06it/s]\n",
      "Batches: 100%|██████████| 1/1 [00:00<00:00, 46.40it/s]\n"
     ]
    },
    {
     "name": "stdout",
     "output_type": "stream",
     "text": [
      "Sorry, the brand you are looking for is not available!\n"
     ]
    },
    {
     "name": "stderr",
     "output_type": "stream",
     "text": [
      "Batches: 100%|██████████| 1/1 [00:00<00:00, 14.69it/s]\n",
      " 26%|██▌       | 60/233 [04:49<13:47,  4.78s/it]"
     ]
    },
    {
     "name": "stdout",
     "output_type": "stream",
     "text": [
      "----------------------------------------------------------------------------------------------------\n",
      "looking for a rolly toys product with a rating of 4.0.\n"
     ]
    },
    {
     "name": "stderr",
     "output_type": "stream",
     "text": [
      "Batches: 100%|██████████| 1/1 [00:00<00:00, 24.37it/s]\n",
      "Batches: 100%|██████████| 1/1 [00:00<00:00, 44.44it/s]\n",
      "Batches: 100%|██████████| 1/1 [00:00<00:00, 11.24it/s]\n",
      " 26%|██▌       | 61/233 [04:53<13:21,  4.66s/it]"
     ]
    },
    {
     "name": "stdout",
     "output_type": "stream",
     "text": [
      "----------------------------------------------------------------------------------------------------\n",
      "can i find a huntgold product that costs about $3 and has top reviews?\n"
     ]
    },
    {
     "name": "stderr",
     "output_type": "stream",
     "text": [
      "Batches: 100%|██████████| 1/1 [00:00<00:00, 20.82it/s]\n",
      "Batches: 100%|██████████| 1/1 [00:00<00:00, 45.80it/s]\n",
      "Batches: 100%|██████████| 1/1 [00:00<00:00, 20.25it/s]\n",
      " 27%|██▋       | 62/233 [04:57<12:28,  4.38s/it]"
     ]
    },
    {
     "name": "stdout",
     "output_type": "stream",
     "text": [
      "----------------------------------------------------------------------------------------------------\n",
      "what are the best-rated heart foil balloons i can buy online?\n"
     ]
    },
    {
     "name": "stderr",
     "output_type": "stream",
     "text": [
      "Batches: 100%|██████████| 1/1 [00:00<00:00, 32.96it/s]\n",
      "Batches: 100%|██████████| 1/1 [00:00<00:00, 48.29it/s]\n",
      "Batches: 100%|██████████| 1/1 [00:00<00:00, 14.90it/s]\n",
      " 27%|██▋       | 63/233 [05:02<12:54,  4.56s/it]"
     ]
    },
    {
     "name": "stdout",
     "output_type": "stream",
     "text": [
      "----------------------------------------------------------------------------------------------------\n",
      "are there any schmidt products available for around $5.0 with a rating of at least 4.5?\n"
     ]
    },
    {
     "name": "stderr",
     "output_type": "stream",
     "text": [
      "Batches: 100%|██████████| 1/1 [00:00<00:00,  7.19it/s]\n",
      "Batches: 100%|██████████| 1/1 [00:00<00:00, 45.00it/s]\n",
      "Batches: 100%|██████████| 1/1 [00:00<00:00, 14.02it/s]\n",
      " 27%|██▋       | 64/233 [05:06<12:30,  4.44s/it]"
     ]
    },
    {
     "name": "stdout",
     "output_type": "stream",
     "text": [
      "----------------------------------------------------------------------------------------------------\n",
      "are there any b-loony items with a 4.8-star rating?\n"
     ]
    },
    {
     "name": "stderr",
     "output_type": "stream",
     "text": [
      "Batches: 100%|██████████| 1/1 [00:00<00:00, 28.52it/s]\n",
      "Batches: 100%|██████████| 1/1 [00:00<00:00, 43.46it/s]\n",
      "Batches: 100%|██████████| 1/1 [00:00<00:00,  2.58it/s]\n",
      " 28%|██▊       | 65/233 [05:11<12:33,  4.48s/it]"
     ]
    },
    {
     "name": "stdout",
     "output_type": "stream",
     "text": [
      "----------------------------------------------------------------------------------------------------\n",
      "can i find a ferrari item with a perfect 5-star rating?\n"
     ]
    },
    {
     "name": "stderr",
     "output_type": "stream",
     "text": [
      "Batches: 100%|██████████| 1/1 [00:00<00:00, 30.38it/s]\n",
      "Batches: 100%|██████████| 1/1 [00:00<00:00, 44.77it/s]\n",
      "Batches: 100%|██████████| 1/1 [00:00<00:00,  3.65it/s]\n",
      " 28%|██▊       | 66/233 [05:15<12:19,  4.43s/it]"
     ]
    },
    {
     "name": "stdout",
     "output_type": "stream",
     "text": [
      "----------------------------------------------------------------------------------------------------\n",
      "where can i find snoopy products with a 5-star rating?\n"
     ]
    },
    {
     "name": "stderr",
     "output_type": "stream",
     "text": [
      "Batches: 100%|██████████| 1/1 [00:00<00:00, 46.10it/s]\n",
      "Batches: 100%|██████████| 1/1 [00:00<00:00, 47.80it/s]\n",
      "Batches: 100%|██████████| 1/1 [00:00<00:00,  8.25it/s]\n",
      " 29%|██▉       | 67/233 [05:20<12:25,  4.49s/it]"
     ]
    },
    {
     "name": "stdout",
     "output_type": "stream",
     "text": [
      "----------------------------------------------------------------------------------------------------\n",
      "can i get a kakapopotcg deck box with excellent ratings for under $10?\n"
     ]
    },
    {
     "name": "stderr",
     "output_type": "stream",
     "text": [
      "Batches: 100%|██████████| 1/1 [00:00<00:00, 15.50it/s]\n",
      "Batches: 100%|██████████| 1/1 [00:00<00:00, 43.79it/s]\n"
     ]
    },
    {
     "name": "stdout",
     "output_type": "stream",
     "text": [
      "Sorry, the brand you are looking for is not available!\n"
     ]
    },
    {
     "name": "stderr",
     "output_type": "stream",
     "text": [
      "Batches: 100%|██████████| 1/1 [00:00<00:00, 19.16it/s]\n",
      " 29%|██▉       | 68/233 [05:25<12:54,  4.70s/it]"
     ]
    },
    {
     "name": "stdout",
     "output_type": "stream",
     "text": [
      "----------------------------------------------------------------------------------------------------\n",
      "what's a good card game for preschoolers that costs about $16?\n"
     ]
    },
    {
     "name": "stderr",
     "output_type": "stream",
     "text": [
      "Batches: 100%|██████████| 1/1 [00:00<00:00,  8.98it/s]\n",
      "Batches: 100%|██████████| 1/1 [00:00<00:00, 14.61it/s]\n",
      "Batches: 100%|██████████| 1/1 [00:00<00:00, 15.93it/s]\n",
      " 30%|██▉       | 69/233 [05:30<13:00,  4.76s/it]"
     ]
    },
    {
     "name": "stdout",
     "output_type": "stream",
     "text": [
      "----------------------------------------------------------------------------------------------------\n",
      "can i find widmann items with a rating of at least 4 stars?\n"
     ]
    },
    {
     "name": "stderr",
     "output_type": "stream",
     "text": [
      "Batches: 100%|██████████| 1/1 [00:00<00:00, 26.10it/s]\n",
      "Batches: 100%|██████████| 1/1 [00:00<00:00, 18.40it/s]\n",
      "Batches: 100%|██████████| 1/1 [00:00<00:00, 18.21it/s]\n",
      " 30%|███       | 70/233 [05:35<12:53,  4.74s/it]"
     ]
    },
    {
     "name": "stdout",
     "output_type": "stream",
     "text": [
      "----------------------------------------------------------------------------------------------------\n",
      "are there any faller items for $14.00 that have received a 5-star rating?\n"
     ]
    },
    {
     "name": "stderr",
     "output_type": "stream",
     "text": [
      "Batches: 100%|██████████| 1/1 [00:00<00:00, 33.28it/s]\n",
      "Batches: 100%|██████████| 1/1 [00:00<00:00, 42.88it/s]\n",
      "Batches: 100%|██████████| 1/1 [00:00<00:00,  3.08it/s]\n",
      " 30%|███       | 71/233 [05:39<12:37,  4.68s/it]"
     ]
    },
    {
     "name": "stdout",
     "output_type": "stream",
     "text": [
      "----------------------------------------------------------------------------------------------------\n",
      "looking for a nintendogs game with a good rating, maybe around 4 stars?\n"
     ]
    },
    {
     "name": "stderr",
     "output_type": "stream",
     "text": [
      "Batches: 100%|██████████| 1/1 [00:00<00:00, 31.48it/s]\n",
      "Batches: 100%|██████████| 1/1 [00:00<00:00, 41.60it/s]\n",
      "Batches: 100%|██████████| 1/1 [00:00<00:00,  3.15it/s]\n",
      " 31%|███       | 72/233 [05:44<12:27,  4.64s/it]"
     ]
    },
    {
     "name": "stdout",
     "output_type": "stream",
     "text": [
      "----------------------------------------------------------------------------------------------------\n",
      "are there any cat construction toys for around $12 with a rating of 4.7?\n"
     ]
    },
    {
     "name": "stderr",
     "output_type": "stream",
     "text": [
      "Batches: 100%|██████████| 1/1 [00:00<00:00, 12.78it/s]\n",
      "Batches: 100%|██████████| 1/1 [00:00<00:00, 30.39it/s]\n"
     ]
    },
    {
     "name": "stdout",
     "output_type": "stream",
     "text": [
      "Sorry, the brand you are looking for is not available!\n"
     ]
    },
    {
     "name": "stderr",
     "output_type": "stream",
     "text": [
      "Batches: 100%|██████████| 1/1 [00:00<00:00,  2.59it/s]\n",
      " 31%|███▏      | 73/233 [05:49<12:53,  4.84s/it]"
     ]
    },
    {
     "name": "stdout",
     "output_type": "stream",
     "text": [
      "----------------------------------------------------------------------------------------------------\n",
      "are there any reviews for the star wars episodes i to vi collection?\n"
     ]
    },
    {
     "name": "stderr",
     "output_type": "stream",
     "text": [
      "Batches: 100%|██████████| 1/1 [00:00<00:00, 24.92it/s]\n",
      "Batches: 100%|██████████| 1/1 [00:00<00:00, 46.98it/s]\n"
     ]
    },
    {
     "name": "stdout",
     "output_type": "stream",
     "text": [
      "Sorry, the brand you are looking for is not available!\n"
     ]
    },
    {
     "name": "stderr",
     "output_type": "stream",
     "text": [
      "Batches: 100%|██████████| 1/1 [00:00<00:00,  2.37it/s]\n",
      " 32%|███▏      | 74/233 [05:55<13:30,  5.10s/it]"
     ]
    },
    {
     "name": "stdout",
     "output_type": "stream",
     "text": [
      "----------------------------------------------------------------------------------------------------\n",
      "can i find a highly-rated toy zany toy for about $3.00?\n"
     ]
    },
    {
     "name": "stderr",
     "output_type": "stream",
     "text": [
      "Batches: 100%|██████████| 1/1 [00:00<00:00, 31.36it/s]\n",
      "Batches: 100%|██████████| 1/1 [00:00<00:00, 46.36it/s]\n"
     ]
    },
    {
     "name": "stdout",
     "output_type": "stream",
     "text": [
      "Sorry, the brand you are looking for is not available!\n"
     ]
    },
    {
     "name": "stderr",
     "output_type": "stream",
     "text": [
      "Batches: 100%|██████████| 1/1 [00:00<00:00, 15.28it/s]\n",
      " 32%|███▏      | 75/233 [05:59<12:37,  4.79s/it]"
     ]
    },
    {
     "name": "stdout",
     "output_type": "stream",
     "text": [
      "----------------------------------------------------------------------------------------------------\n",
      "can i find a corgi vanguards product with a 5-star rating?\n"
     ]
    },
    {
     "name": "stderr",
     "output_type": "stream",
     "text": [
      "Batches: 100%|██████████| 1/1 [00:00<00:00, 27.35it/s]\n",
      "Batches: 100%|██████████| 1/1 [00:00<00:00, 44.96it/s]\n",
      "Batches: 100%|██████████| 1/1 [00:00<00:00, 12.31it/s]\n",
      " 33%|███▎      | 76/233 [06:04<12:45,  4.88s/it]"
     ]
    },
    {
     "name": "stdout",
     "output_type": "stream",
     "text": [
      "----------------------------------------------------------------------------------------------------\n",
      "looking for a ferrari product that's highly rated and affordable.\n"
     ]
    },
    {
     "name": "stderr",
     "output_type": "stream",
     "text": [
      "Batches: 100%|██████████| 1/1 [00:00<00:00, 20.61it/s]\n",
      "Batches: 100%|██████████| 1/1 [00:00<00:00, 39.47it/s]\n",
      "Batches: 100%|██████████| 1/1 [00:00<00:00, 17.94it/s]\n",
      " 33%|███▎      | 77/233 [06:08<11:55,  4.59s/it]"
     ]
    },
    {
     "name": "stdout",
     "output_type": "stream",
     "text": [
      "----------------------------------------------------------------------------------------------------\n",
      "what's the price of a corgi vanguards model with excellent reviews?\n"
     ]
    },
    {
     "name": "stderr",
     "output_type": "stream",
     "text": [
      "Batches: 100%|██████████| 1/1 [00:00<00:00, 38.26it/s]\n",
      "Batches: 100%|██████████| 1/1 [00:00<00:00, 43.93it/s]\n",
      "Batches: 100%|██████████| 1/1 [00:00<00:00, 12.98it/s]\n",
      " 33%|███▎      | 78/233 [06:12<11:42,  4.53s/it]"
     ]
    },
    {
     "name": "stdout",
     "output_type": "stream",
     "text": [
      "----------------------------------------------------------------------------------------------------\n",
      "looking for sonic products with top reviews, any recommendations?\n"
     ]
    },
    {
     "name": "stderr",
     "output_type": "stream",
     "text": [
      "Batches: 100%|██████████| 1/1 [00:00<00:00, 20.38it/s]\n",
      "Batches: 100%|██████████| 1/1 [00:00<00:00, 39.46it/s]\n",
      "Batches: 100%|██████████| 1/1 [00:00<00:00, 18.44it/s]\n",
      " 34%|███▍      | 79/233 [06:16<11:29,  4.48s/it]"
     ]
    },
    {
     "name": "stdout",
     "output_type": "stream",
     "text": [
      "----------------------------------------------------------------------------------------------------\n",
      "best ban dai toy under $10 for a 4-year-old?\n"
     ]
    },
    {
     "name": "stderr",
     "output_type": "stream",
     "text": [
      "Batches: 100%|██████████| 1/1 [00:00<00:00, 18.17it/s]\n",
      "Batches: 100%|██████████| 1/1 [00:00<00:00, 44.99it/s]\n"
     ]
    },
    {
     "name": "stdout",
     "output_type": "stream",
     "text": [
      "Sorry, no relevant results!\n"
     ]
    },
    {
     "name": "stderr",
     "output_type": "stream",
     "text": [
      "Batches: 100%|██████████| 1/1 [00:00<00:00, 27.23it/s]\n",
      " 34%|███▍      | 80/233 [06:22<12:13,  4.79s/it]"
     ]
    },
    {
     "name": "stdout",
     "output_type": "stream",
     "text": [
      "----------------------------------------------------------------------------------------------------\n",
      "is there a wacky wobbler toy that costs $14 and is rated 4.3?\n"
     ]
    },
    {
     "name": "stderr",
     "output_type": "stream",
     "text": [
      "Batches: 100%|██████████| 1/1 [00:00<00:00, 21.14it/s]\n",
      "Batches: 100%|██████████| 1/1 [00:00<00:00, 30.38it/s]\n",
      "Batches: 100%|██████████| 1/1 [00:00<00:00, 17.99it/s]\n",
      " 35%|███▍      | 81/233 [06:26<11:47,  4.66s/it]"
     ]
    },
    {
     "name": "stdout",
     "output_type": "stream",
     "text": [
      "----------------------------------------------------------------------------------------------------\n",
      "show me playteachers products with a rating of 4.3 or higher.\n"
     ]
    },
    {
     "name": "stderr",
     "output_type": "stream",
     "text": [
      "Batches: 100%|██████████| 1/1 [00:00<00:00, 27.25it/s]\n",
      "Batches: 100%|██████████| 1/1 [00:00<00:00, 44.86it/s]\n",
      "Batches: 100%|██████████| 1/1 [00:00<00:00, 11.19it/s]\n",
      " 35%|███▌      | 82/233 [06:31<11:43,  4.66s/it]"
     ]
    },
    {
     "name": "stdout",
     "output_type": "stream",
     "text": [
      "----------------------------------------------------------------------------------------------------\n",
      "show me rio grande games options that are affordable and have a perfect rating.\n"
     ]
    },
    {
     "name": "stderr",
     "output_type": "stream",
     "text": [
      "Batches: 100%|██████████| 1/1 [00:00<00:00, 36.54it/s]\n",
      "Batches: 100%|██████████| 1/1 [00:00<00:00, 45.34it/s]\n",
      "Batches: 100%|██████████| 1/1 [00:00<00:00,  2.13it/s]\n",
      " 36%|███▌      | 83/233 [06:37<12:32,  5.02s/it]"
     ]
    },
    {
     "name": "stdout",
     "output_type": "stream",
     "text": [
      "----------------------------------------------------------------------------------------------------\n",
      "are there any toy story toys suitable for a 4-year-old with good ratings?\n"
     ]
    },
    {
     "name": "stderr",
     "output_type": "stream",
     "text": [
      "Batches: 100%|██████████| 1/1 [00:00<00:00, 10.24it/s]\n",
      "Batches: 100%|██████████| 1/1 [00:00<00:00, 35.46it/s]\n",
      "Batches: 100%|██████████| 1/1 [00:00<00:00,  2.73it/s]\n",
      " 36%|███▌      | 84/233 [06:42<12:31,  5.04s/it]"
     ]
    },
    {
     "name": "stdout",
     "output_type": "stream",
     "text": [
      "----------------------------------------------------------------------------------------------------\n",
      "can i find a ravensburger spieleverlag game for about 8 dollars?\n"
     ]
    },
    {
     "name": "stderr",
     "output_type": "stream",
     "text": [
      "Batches: 100%|██████████| 1/1 [00:00<00:00, 14.56it/s]\n",
      "Batches: 100%|██████████| 1/1 [00:00<00:00, 38.49it/s]\n",
      "Batches: 100%|██████████| 1/1 [00:00<00:00,  3.15it/s]\n",
      " 36%|███▋      | 85/233 [06:47<12:12,  4.95s/it]"
     ]
    },
    {
     "name": "stdout",
     "output_type": "stream",
     "text": [
      "----------------------------------------------------------------------------------------------------\n",
      "best kakapopotcg deck box for a teenager with a perfect rating?\n"
     ]
    },
    {
     "name": "stderr",
     "output_type": "stream",
     "text": [
      "Batches: 100%|██████████| 1/1 [00:00<00:00, 26.75it/s]\n",
      "Batches: 100%|██████████| 1/1 [00:00<00:00, 39.54it/s]\n"
     ]
    },
    {
     "name": "stdout",
     "output_type": "stream",
     "text": [
      "Sorry, the brand you are looking for is not available!\n"
     ]
    },
    {
     "name": "stderr",
     "output_type": "stream",
     "text": [
      "Batches: 100%|██████████| 1/1 [00:00<00:00,  2.56it/s]\n",
      " 37%|███▋      | 86/233 [06:53<13:29,  5.51s/it]"
     ]
    },
    {
     "name": "stdout",
     "output_type": "stream",
     "text": [
      "----------------------------------------------------------------------------------------------------\n",
      "any new world toys for an 11-year-old that costs around $3 and has a 5-star rating?\n"
     ]
    },
    {
     "name": "stderr",
     "output_type": "stream",
     "text": [
      "Batches: 100%|██████████| 1/1 [00:00<00:00,  9.89it/s]\n",
      "Batches: 100%|██████████| 1/1 [00:00<00:00, 28.44it/s]\n"
     ]
    },
    {
     "name": "stdout",
     "output_type": "stream",
     "text": [
      "Sorry, the brand you are looking for is not available!\n"
     ]
    },
    {
     "name": "stderr",
     "output_type": "stream",
     "text": [
      "Batches: 100%|██████████| 1/1 [00:00<00:00, 14.28it/s]\n",
      " 37%|███▋      | 87/233 [06:58<12:39,  5.20s/it]"
     ]
    },
    {
     "name": "stdout",
     "output_type": "stream",
     "text": [
      "----------------------------------------------------------------------------------------------------\n",
      "what are some highly-rated products from bronco models?\n"
     ]
    },
    {
     "name": "stderr",
     "output_type": "stream",
     "text": [
      "Batches: 100%|██████████| 1/1 [00:00<00:00, 14.38it/s]\n",
      "Batches: 100%|██████████| 1/1 [00:00<00:00, 48.41it/s]\n",
      "Batches: 100%|██████████| 1/1 [00:00<00:00,  3.15it/s]\n",
      " 38%|███▊      | 88/233 [07:04<12:49,  5.31s/it]"
     ]
    },
    {
     "name": "stdout",
     "output_type": "stream",
     "text": [
      "----------------------------------------------------------------------------------------------------\n",
      "can i find joe bar items priced around $14?\n"
     ]
    },
    {
     "name": "stderr",
     "output_type": "stream",
     "text": [
      "Batches: 100%|██████████| 1/1 [00:00<00:00, 31.91it/s]\n",
      "Batches: 100%|██████████| 1/1 [00:00<00:00, 39.83it/s]\n",
      "Batches: 100%|██████████| 1/1 [00:00<00:00, 15.89it/s]\n",
      " 38%|███▊      | 89/233 [07:07<11:36,  4.84s/it]"
     ]
    },
    {
     "name": "stdout",
     "output_type": "stream",
     "text": [
      "----------------------------------------------------------------------------------------------------\n",
      "are there any smart games available for kids around 10 years old?\n"
     ]
    },
    {
     "name": "stderr",
     "output_type": "stream",
     "text": [
      "Batches: 100%|██████████| 1/1 [00:00<00:00, 24.57it/s]\n",
      "Batches: 100%|██████████| 1/1 [00:00<00:00, 48.32it/s]\n",
      "Batches: 100%|██████████| 1/1 [00:00<00:00, 10.61it/s]\n",
      " 39%|███▊      | 90/233 [07:12<11:36,  4.87s/it]"
     ]
    },
    {
     "name": "stdout",
     "output_type": "stream",
     "text": [
      "----------------------------------------------------------------------------------------------------\n",
      "looking for affordable yousave items, any suggestions?\n"
     ]
    },
    {
     "name": "stderr",
     "output_type": "stream",
     "text": [
      "Batches: 100%|██████████| 1/1 [00:00<00:00, 34.80it/s]\n",
      "Batches: 100%|██████████| 1/1 [00:00<00:00, 29.68it/s]\n",
      "Batches: 100%|██████████| 1/1 [00:00<00:00, 14.72it/s]\n",
      " 39%|███▉      | 91/233 [07:16<10:53,  4.60s/it]"
     ]
    },
    {
     "name": "stdout",
     "output_type": "stream",
     "text": [
      "----------------------------------------------------------------------------------------------------\n",
      "looking for nano speed products with a rating of 4.1 or higher.\n"
     ]
    },
    {
     "name": "stderr",
     "output_type": "stream",
     "text": [
      "Batches: 100%|██████████| 1/1 [00:00<00:00, 32.63it/s]\n",
      "Batches: 100%|██████████| 1/1 [00:00<00:00, 44.95it/s]\n",
      "Batches: 100%|██████████| 1/1 [00:00<00:00, 12.35it/s]\n",
      " 39%|███▉      | 92/233 [07:20<10:27,  4.45s/it]"
     ]
    },
    {
     "name": "stdout",
     "output_type": "stream",
     "text": [
      "----------------------------------------------------------------------------------------------------\n",
      "looking for craft items with a rating of at least 4.3, any recommendations?\n"
     ]
    },
    {
     "name": "stderr",
     "output_type": "stream",
     "text": [
      "Batches: 100%|██████████| 1/1 [00:00<00:00, 32.02it/s]\n",
      "Batches: 100%|██████████| 1/1 [00:00<00:00, 45.97it/s]\n",
      "Batches: 100%|██████████| 1/1 [00:00<00:00,  2.39it/s]\n",
      " 40%|███▉      | 93/233 [07:26<11:25,  4.90s/it]"
     ]
    },
    {
     "name": "stdout",
     "output_type": "stream",
     "text": [
      "----------------------------------------------------------------------------------------------------\n",
      "are there any affordable amdxd products with excellent reviews?\n"
     ]
    },
    {
     "name": "stderr",
     "output_type": "stream",
     "text": [
      "Batches: 100%|██████████| 1/1 [00:00<00:00, 32.05it/s]\n",
      "Batches: 100%|██████████| 1/1 [00:00<00:00, 46.53it/s]\n",
      "Batches: 100%|██████████| 1/1 [00:00<00:00, 12.26it/s]\n",
      " 40%|████      | 94/233 [07:30<10:30,  4.53s/it]"
     ]
    },
    {
     "name": "stdout",
     "output_type": "stream",
     "text": [
      "----------------------------------------------------------------------------------------------------\n",
      "show me ice creams with a 5-star rating that cost $14 and are great for a 14-year-old.\n"
     ]
    },
    {
     "name": "stderr",
     "output_type": "stream",
     "text": [
      "Batches: 100%|██████████| 1/1 [00:00<00:00, 13.16it/s]\n",
      "Batches: 100%|██████████| 1/1 [00:00<00:00, 39.46it/s]\n",
      "Batches: 100%|██████████| 1/1 [00:00<00:00, 12.91it/s]\n",
      " 41%|████      | 95/233 [07:34<10:09,  4.41s/it]"
     ]
    },
    {
     "name": "stdout",
     "output_type": "stream",
     "text": [
      "----------------------------------------------------------------------------------------------------\n",
      "are there any land rovers available for around $14.0?\n"
     ]
    },
    {
     "name": "stderr",
     "output_type": "stream",
     "text": [
      "Batches: 100%|██████████| 1/1 [00:00<00:00, 38.79it/s]\n",
      "Batches: 100%|██████████| 1/1 [00:00<00:00, 47.50it/s]\n"
     ]
    },
    {
     "name": "stdout",
     "output_type": "stream",
     "text": [
      "Sorry, no relevant results!\n"
     ]
    },
    {
     "name": "stderr",
     "output_type": "stream",
     "text": [
      "Batches: 100%|██████████| 1/1 [00:00<00:00,  4.82it/s]\n",
      " 41%|████      | 96/233 [07:40<10:53,  4.77s/it]"
     ]
    },
    {
     "name": "stdout",
     "output_type": "stream",
     "text": [
      "----------------------------------------------------------------------------------------------------\n",
      "are there any supreme models online with a perfect 5-star rating?\n"
     ]
    },
    {
     "name": "stderr",
     "output_type": "stream",
     "text": [
      "Batches: 100%|██████████| 1/1 [00:00<00:00, 14.11it/s]\n",
      "Batches: 100%|██████████| 1/1 [00:00<00:00, 18.09it/s]\n"
     ]
    },
    {
     "name": "stdout",
     "output_type": "stream",
     "text": [
      "Sorry, the brand you are looking for is not available!\n"
     ]
    },
    {
     "name": "stderr",
     "output_type": "stream",
     "text": [
      "Batches: 100%|██████████| 1/1 [00:00<00:00, 19.40it/s]\n",
      " 42%|████▏     | 97/233 [07:45<11:25,  5.04s/it]"
     ]
    },
    {
     "name": "stdout",
     "output_type": "stream",
     "text": [
      "----------------------------------------------------------------------------------------------------\n",
      "do you have any cd fundraising products priced at $10?\n"
     ]
    },
    {
     "name": "stderr",
     "output_type": "stream",
     "text": [
      "Batches: 100%|██████████| 1/1 [00:00<00:00, 24.57it/s]\n",
      "Batches: 100%|██████████| 1/1 [00:00<00:00, 40.65it/s]\n"
     ]
    },
    {
     "name": "stdout",
     "output_type": "stream",
     "text": [
      "Sorry, the brand you are looking for is not available!\n"
     ]
    },
    {
     "name": "stderr",
     "output_type": "stream",
     "text": [
      "Batches: 100%|██████████| 1/1 [00:00<00:00, 18.39it/s]\n",
      " 42%|████▏     | 98/233 [07:50<10:49,  4.81s/it]"
     ]
    },
    {
     "name": "stdout",
     "output_type": "stream",
     "text": [
      "----------------------------------------------------------------------------------------------------\n",
      "can i find a nintendogs game for under $10?\n"
     ]
    },
    {
     "name": "stderr",
     "output_type": "stream",
     "text": [
      "Batches: 100%|██████████| 1/1 [00:00<00:00, 33.41it/s]\n",
      "Batches: 100%|██████████| 1/1 [00:00<00:00, 42.98it/s]\n",
      "Batches: 100%|██████████| 1/1 [00:00<00:00,  5.34it/s]\n",
      " 42%|████▏     | 99/233 [07:54<10:34,  4.74s/it]"
     ]
    },
    {
     "name": "stdout",
     "output_type": "stream",
     "text": [
      "----------------------------------------------------------------------------------------------------\n",
      "what's the price of the model kasten for a 10-year-old?\n"
     ]
    },
    {
     "name": "stderr",
     "output_type": "stream",
     "text": [
      "Batches: 100%|██████████| 1/1 [00:00<00:00, 19.02it/s]\n",
      "Batches: 100%|██████████| 1/1 [00:00<00:00, 46.41it/s]\n"
     ]
    },
    {
     "name": "stdout",
     "output_type": "stream",
     "text": [
      "Sorry, the brand you are looking for is not available!\n"
     ]
    },
    {
     "name": "stderr",
     "output_type": "stream",
     "text": [
      "Batches: 100%|██████████| 1/1 [00:00<00:00, 18.81it/s]\n",
      " 43%|████▎     | 100/233 [07:58<09:57,  4.50s/it]"
     ]
    },
    {
     "name": "stdout",
     "output_type": "stream",
     "text": [
      "----------------------------------------------------------------------------------------------------\n",
      "looking for a kaleidoscope toy for my 3-year-old, priced around $12.\n"
     ]
    },
    {
     "name": "stderr",
     "output_type": "stream",
     "text": [
      "Batches: 100%|██████████| 1/1 [00:00<00:00, 13.69it/s]\n",
      "Batches: 100%|██████████| 1/1 [00:00<00:00, 46.74it/s]\n",
      "Batches: 100%|██████████| 1/1 [00:00<00:00,  3.25it/s]\n",
      " 43%|████▎     | 101/233 [08:04<10:41,  4.86s/it]"
     ]
    },
    {
     "name": "stdout",
     "output_type": "stream",
     "text": [
      "----------------------------------------------------------------------------------------------------\n",
      "can i find disney junior products with a 4.5 rating?\n"
     ]
    },
    {
     "name": "stderr",
     "output_type": "stream",
     "text": [
      "Batches: 100%|██████████| 1/1 [00:00<00:00, 19.82it/s]\n",
      "Batches: 100%|██████████| 1/1 [00:00<00:00, 35.64it/s]\n",
      "Batches: 100%|██████████| 1/1 [00:00<00:00, 21.09it/s]\n",
      " 44%|████▍     | 102/233 [08:08<10:10,  4.66s/it]"
     ]
    },
    {
     "name": "stdout",
     "output_type": "stream",
     "text": [
      "----------------------------------------------------------------------------------------------------\n",
      "what are people saying about aimee shine products with a rating of 4.5?\n"
     ]
    },
    {
     "name": "stderr",
     "output_type": "stream",
     "text": [
      "Batches: 100%|██████████| 1/1 [00:00<00:00, 18.53it/s]\n",
      "Batches: 100%|██████████| 1/1 [00:00<00:00, 45.77it/s]\n",
      "Batches: 100%|██████████| 1/1 [00:00<00:00, 16.03it/s]\n",
      " 44%|████▍     | 103/233 [08:13<10:19,  4.76s/it]"
     ]
    },
    {
     "name": "stdout",
     "output_type": "stream",
     "text": [
      "----------------------------------------------------------------------------------------------------\n",
      "what's the price of the nintendogs game for young children?\n"
     ]
    },
    {
     "name": "stderr",
     "output_type": "stream",
     "text": [
      "Batches: 100%|██████████| 1/1 [00:00<00:00, 34.74it/s]\n",
      "Batches: 100%|██████████| 1/1 [00:00<00:00, 47.75it/s]\n",
      "Batches: 100%|██████████| 1/1 [00:00<00:00, 17.01it/s]\n",
      " 45%|████▍     | 104/233 [08:17<09:44,  4.53s/it]"
     ]
    },
    {
     "name": "stdout",
     "output_type": "stream",
     "text": [
      "----------------------------------------------------------------------------------------------------\n",
      "what are some top-rated products from top race?\n"
     ]
    },
    {
     "name": "stderr",
     "output_type": "stream",
     "text": [
      "Batches: 100%|██████████| 1/1 [00:00<00:00, 32.11it/s]\n",
      "Batches: 100%|██████████| 1/1 [00:00<00:00, 40.10it/s]\n",
      "Batches: 100%|██████████| 1/1 [00:00<00:00,  2.82it/s]\n",
      " 45%|████▌     | 105/233 [08:22<10:12,  4.79s/it]"
     ]
    },
    {
     "name": "stdout",
     "output_type": "stream",
     "text": [
      "----------------------------------------------------------------------------------------------------\n",
      "can i find spark items with a perfect 5-star rating?\n"
     ]
    },
    {
     "name": "stderr",
     "output_type": "stream",
     "text": [
      "Batches: 100%|██████████| 1/1 [00:00<00:00, 26.78it/s]\n",
      "Batches: 100%|██████████| 1/1 [00:00<00:00, 48.36it/s]\n",
      "Batches: 100%|██████████| 1/1 [00:00<00:00,  2.04it/s]\n",
      " 45%|████▌     | 106/233 [08:27<10:04,  4.76s/it]"
     ]
    },
    {
     "name": "stdout",
     "output_type": "stream",
     "text": [
      "----------------------------------------------------------------------------------------------------\n",
      "looking for a chess set within a $3.0 budget and good reviews.\n"
     ]
    },
    {
     "name": "stderr",
     "output_type": "stream",
     "text": [
      "Batches: 100%|██████████| 1/1 [00:00<00:00, 27.12it/s]\n",
      "Batches: 100%|██████████| 1/1 [00:00<00:00, 29.55it/s]\n",
      "Batches: 100%|██████████| 1/1 [00:00<00:00,  3.02it/s]\n",
      " 46%|████▌     | 107/233 [08:36<12:39,  6.03s/it]"
     ]
    },
    {
     "name": "stdout",
     "output_type": "stream",
     "text": [
      "----------------------------------------------------------------------------------------------------\n",
      "can i find products around $3.00 on this site?\n"
     ]
    },
    {
     "name": "stderr",
     "output_type": "stream",
     "text": [
      "Batches: 100%|██████████| 1/1 [00:00<00:00, 22.98it/s]\n",
      "Batches: 100%|██████████| 1/1 [00:00<00:00,  2.79it/s]\n",
      "Batches: 100%|██████████| 1/1 [00:00<00:00,  2.79it/s]\n",
      " 46%|████▋     | 108/233 [08:43<12:54,  6.20s/it]"
     ]
    },
    {
     "name": "stdout",
     "output_type": "stream",
     "text": [
      "----------------------------------------------------------------------------------------------------\n",
      "are there any highly-rated advent gift boxes available for teenagers?\n"
     ]
    },
    {
     "name": "stderr",
     "output_type": "stream",
     "text": [
      "Batches: 100%|██████████| 1/1 [00:00<00:00, 47.57it/s]\n",
      "Batches: 100%|██████████| 1/1 [00:00<00:00, 18.26it/s]\n",
      "Batches: 100%|██████████| 1/1 [00:00<00:00,  2.10it/s]\n",
      " 47%|████▋     | 109/233 [08:48<12:03,  5.83s/it]"
     ]
    },
    {
     "name": "stdout",
     "output_type": "stream",
     "text": [
      "----------------------------------------------------------------------------------------------------\n",
      "can i find amdxd products with a 5-star rating?\n"
     ]
    },
    {
     "name": "stderr",
     "output_type": "stream",
     "text": [
      "Batches: 100%|██████████| 1/1 [00:00<00:00, 13.04it/s]\n",
      "Batches: 100%|██████████| 1/1 [00:00<00:00, 42.75it/s]\n",
      "Batches: 100%|██████████| 1/1 [00:00<00:00,  2.79it/s]\n",
      " 47%|████▋     | 110/233 [08:53<11:22,  5.55s/it]"
     ]
    },
    {
     "name": "stdout",
     "output_type": "stream",
     "text": [
      "----------------------------------------------------------------------------------------------------\n",
      "can i find megahouse items with a 5.0 rating?\n"
     ]
    },
    {
     "name": "stderr",
     "output_type": "stream",
     "text": [
      "Batches: 100%|██████████| 1/1 [00:00<00:00, 29.97it/s]\n",
      "Batches: 100%|██████████| 1/1 [00:00<00:00, 20.12it/s]\n",
      "Batches: 100%|██████████| 1/1 [00:00<00:00,  6.85it/s]\n",
      " 48%|████▊     | 111/233 [08:58<11:06,  5.46s/it]"
     ]
    },
    {
     "name": "stdout",
     "output_type": "stream",
     "text": [
      "----------------------------------------------------------------------------------------------------\n",
      "show me om brand items that are highly recommended and affordable.\n"
     ]
    },
    {
     "name": "stderr",
     "output_type": "stream",
     "text": [
      "Batches: 100%|██████████| 1/1 [00:00<00:00, 23.05it/s]\n",
      "Batches: 100%|██████████| 1/1 [00:00<00:00, 49.77it/s]\n",
      "Batches: 100%|██████████| 1/1 [00:00<00:00,  3.33it/s]\n",
      " 48%|████▊     | 112/233 [09:03<10:58,  5.44s/it]"
     ]
    },
    {
     "name": "stdout",
     "output_type": "stream",
     "text": [
      "----------------------------------------------------------------------------------------------------\n",
      "show me qj items that are nearly 3 years old and cost $3.00.\n"
     ]
    },
    {
     "name": "stderr",
     "output_type": "stream",
     "text": [
      "Batches: 100%|██████████| 1/1 [00:00<00:00, 19.83it/s]\n",
      "Batches: 100%|██████████| 1/1 [00:00<00:00, 46.42it/s]\n",
      "Batches: 100%|██████████| 1/1 [00:00<00:00, 14.17it/s]\n",
      " 48%|████▊     | 113/233 [09:08<10:13,  5.11s/it]"
     ]
    },
    {
     "name": "stdout",
     "output_type": "stream",
     "text": [
      "----------------------------------------------------------------------------------------------------\n",
      "where can i buy k2-accessories alphabet letter beads for around $7?\n"
     ]
    },
    {
     "name": "stderr",
     "output_type": "stream",
     "text": [
      "Batches: 100%|██████████| 1/1 [00:00<00:00, 18.33it/s]\n",
      "Batches: 100%|██████████| 1/1 [00:00<00:00, 29.62it/s]\n",
      "Batches: 100%|██████████| 1/1 [00:00<00:00,  9.70it/s]\n",
      " 49%|████▉     | 114/233 [09:12<09:42,  4.90s/it]"
     ]
    },
    {
     "name": "stdout",
     "output_type": "stream",
     "text": [
      "----------------------------------------------------------------------------------------------------\n",
      "what are the best-rated bigmouthinc. products under $10?\n"
     ]
    },
    {
     "name": "stderr",
     "output_type": "stream",
     "text": [
      "Batches: 100%|██████████| 1/1 [00:00<00:00, 36.07it/s]\n",
      "Batches: 100%|██████████| 1/1 [00:00<00:00, 45.75it/s]\n"
     ]
    },
    {
     "name": "stdout",
     "output_type": "stream",
     "text": [
      "Sorry, no relevant results!\n"
     ]
    },
    {
     "name": "stderr",
     "output_type": "stream",
     "text": [
      "Batches: 100%|██████████| 1/1 [00:00<00:00,  3.23it/s]\n",
      " 49%|████▉     | 115/233 [09:18<10:07,  5.15s/it]"
     ]
    },
    {
     "name": "stdout",
     "output_type": "stream",
     "text": [
      "----------------------------------------------------------------------------------------------------\n",
      "show me hsp items with a 4.5 rating.\n"
     ]
    },
    {
     "name": "stderr",
     "output_type": "stream",
     "text": [
      "Batches: 100%|██████████| 1/1 [00:00<00:00, 32.22it/s]\n",
      "Batches: 100%|██████████| 1/1 [00:00<00:00, 47.83it/s]\n",
      "Batches: 100%|██████████| 1/1 [00:00<00:00, 15.00it/s]\n",
      " 50%|████▉     | 116/233 [09:22<09:20,  4.79s/it]"
     ]
    },
    {
     "name": "stdout",
     "output_type": "stream",
     "text": [
      "----------------------------------------------------------------------------------------------------\n",
      "looking for a highly-rated product by spektrum, any suggestions?\n"
     ]
    },
    {
     "name": "stderr",
     "output_type": "stream",
     "text": [
      "Batches: 100%|██████████| 1/1 [00:00<00:00, 16.14it/s]\n",
      "Batches: 100%|██████████| 1/1 [00:00<00:00, 43.18it/s]\n",
      "Batches: 100%|██████████| 1/1 [00:00<00:00,  2.16it/s]\n",
      " 50%|█████     | 117/233 [09:28<10:11,  5.27s/it]"
     ]
    },
    {
     "name": "stdout",
     "output_type": "stream",
     "text": [
      "----------------------------------------------------------------------------------------------------\n",
      "is the blast pad toy available for around $5?\n"
     ]
    },
    {
     "name": "stderr",
     "output_type": "stream",
     "text": [
      "Batches: 100%|██████████| 1/1 [00:00<00:00, 13.82it/s]\n",
      "Batches: 100%|██████████| 1/1 [00:00<00:00, 40.22it/s]\n",
      "Batches: 100%|██████████| 1/1 [00:00<00:00, 18.89it/s]\n",
      " 51%|█████     | 118/233 [09:33<09:44,  5.08s/it]"
     ]
    },
    {
     "name": "stdout",
     "output_type": "stream",
     "text": [
      "----------------------------------------------------------------------------------------------------\n",
      "are there any reviews for accessotech products with a high rating?\n"
     ]
    },
    {
     "name": "stderr",
     "output_type": "stream",
     "text": [
      "Batches: 100%|██████████| 1/1 [00:00<00:00, 20.94it/s]\n",
      "Batches: 100%|██████████| 1/1 [00:00<00:00, 48.02it/s]\n",
      "Batches: 100%|██████████| 1/1 [00:00<00:00, 21.85it/s]\n",
      " 51%|█████     | 119/233 [09:37<09:03,  4.77s/it]"
     ]
    },
    {
     "name": "stdout",
     "output_type": "stream",
     "text": [
      "----------------------------------------------------------------------------------------------------\n",
      "can i find a thunderbird item with a perfect 5-star rating?\n"
     ]
    },
    {
     "name": "stderr",
     "output_type": "stream",
     "text": [
      "Batches: 100%|██████████| 1/1 [00:00<00:00, 34.80it/s]\n",
      "Batches: 100%|██████████| 1/1 [00:00<00:00, 44.48it/s]\n",
      "Batches: 100%|██████████| 1/1 [00:00<00:00, 15.33it/s]\n",
      " 52%|█████▏    | 120/233 [09:40<08:24,  4.46s/it]"
     ]
    },
    {
     "name": "stdout",
     "output_type": "stream",
     "text": [
      "----------------------------------------------------------------------------------------------------\n",
      "looking for a 5-star rated item suitable for someone who's almost 16.\n"
     ]
    },
    {
     "name": "stderr",
     "output_type": "stream",
     "text": [
      "Batches: 100%|██████████| 1/1 [00:00<00:00, 13.45it/s]\n",
      "Batches: 100%|██████████| 1/1 [00:00<00:00, 25.46it/s]\n",
      "Batches: 100%|██████████| 1/1 [00:00<00:00,  3.00it/s]\n",
      " 52%|█████▏    | 121/233 [09:46<08:53,  4.76s/it]"
     ]
    },
    {
     "name": "stdout",
     "output_type": "stream",
     "text": [
      "----------------------------------------------------------------------------------------------------\n",
      "can i find an om product for around $14 with top ratings?\n"
     ]
    },
    {
     "name": "stderr",
     "output_type": "stream",
     "text": [
      "Batches: 100%|██████████| 1/1 [00:00<00:00, 36.77it/s]\n",
      "Batches: 100%|██████████| 1/1 [00:00<00:00, 45.25it/s]\n",
      "Batches: 100%|██████████| 1/1 [00:00<00:00,  2.56it/s]\n",
      " 52%|█████▏    | 122/233 [09:51<08:45,  4.73s/it]"
     ]
    },
    {
     "name": "stdout",
     "output_type": "stream",
     "text": [
      "----------------------------------------------------------------------------------------------------\n",
      "looking for a classix item for a 5-year-old that's affordable and has good reviews.\n"
     ]
    },
    {
     "name": "stderr",
     "output_type": "stream",
     "text": [
      "Batches: 100%|██████████| 1/1 [00:00<00:00, 12.15it/s]\n",
      "Batches: 100%|██████████| 1/1 [00:00<00:00, 25.94it/s]\n"
     ]
    },
    {
     "name": "stdout",
     "output_type": "stream",
     "text": [
      "Sorry, no relevant results!\n"
     ]
    },
    {
     "name": "stderr",
     "output_type": "stream",
     "text": [
      "Batches: 100%|██████████| 1/1 [00:00<00:00,  3.23it/s]\n",
      " 53%|█████▎    | 123/233 [09:56<09:15,  5.05s/it]"
     ]
    },
    {
     "name": "stdout",
     "output_type": "stream",
     "text": [
      "----------------------------------------------------------------------------------------------------\n",
      "what are some highly-rated products from moulin roty?\n"
     ]
    },
    {
     "name": "stderr",
     "output_type": "stream",
     "text": [
      "Batches: 100%|██████████| 1/1 [00:00<00:00, 22.56it/s]\n",
      "Batches: 100%|██████████| 1/1 [00:00<00:00, 46.06it/s]\n",
      "Batches: 100%|██████████| 1/1 [00:00<00:00, 15.62it/s]\n",
      " 53%|█████▎    | 124/233 [10:00<08:37,  4.75s/it]"
     ]
    },
    {
     "name": "stdout",
     "output_type": "stream",
     "text": [
      "----------------------------------------------------------------------------------------------------\n",
      "looking for a highly-rated cuddlekins product, any suggestions?\n"
     ]
    },
    {
     "name": "stderr",
     "output_type": "stream",
     "text": [
      "Batches: 100%|██████████| 1/1 [00:00<00:00, 34.64it/s]\n",
      "Batches: 100%|██████████| 1/1 [00:00<00:00, 46.23it/s]\n",
      "Batches: 100%|██████████| 1/1 [00:00<00:00, 14.06it/s]\n",
      " 54%|█████▎    | 125/233 [10:05<08:13,  4.57s/it]"
     ]
    },
    {
     "name": "stdout",
     "output_type": "stream",
     "text": [
      "----------------------------------------------------------------------------------------------------\n",
      "looking for affordable items from andy's, any suggestions?\n"
     ]
    },
    {
     "name": "stderr",
     "output_type": "stream",
     "text": [
      "Batches: 100%|██████████| 1/1 [00:00<00:00, 20.34it/s]\n",
      "Batches: 100%|██████████| 1/1 [00:00<00:00, 46.22it/s]\n",
      "Batches: 100%|██████████| 1/1 [00:00<00:00,  2.86it/s]\n",
      " 54%|█████▍    | 126/233 [10:10<08:48,  4.94s/it]"
     ]
    },
    {
     "name": "stdout",
     "output_type": "stream",
     "text": [
      "----------------------------------------------------------------------------------------------------\n",
      "can i find papo products with a rating of 4.7?\n"
     ]
    },
    {
     "name": "stderr",
     "output_type": "stream",
     "text": [
      "Batches: 100%|██████████| 1/1 [00:00<00:00, 28.13it/s]\n",
      "Batches: 100%|██████████| 1/1 [00:00<00:00, 25.04it/s]\n",
      "Batches: 100%|██████████| 1/1 [00:00<00:00,  2.61it/s]\n",
      " 55%|█████▍    | 127/233 [10:16<09:04,  5.13s/it]"
     ]
    },
    {
     "name": "stdout",
     "output_type": "stream",
     "text": [
      "----------------------------------------------------------------------------------------------------\n",
      "looking for affordable products from modern trucks, any suggestions?\n"
     ]
    },
    {
     "name": "stderr",
     "output_type": "stream",
     "text": [
      "Batches: 100%|██████████| 1/1 [00:00<00:00, 27.35it/s]\n",
      "Batches: 100%|██████████| 1/1 [00:00<00:00, 36.68it/s]\n",
      "Batches: 100%|██████████| 1/1 [00:00<00:00, 14.87it/s]\n",
      " 55%|█████▍    | 128/233 [10:20<08:34,  4.90s/it]"
     ]
    },
    {
     "name": "stdout",
     "output_type": "stream",
     "text": [
      "----------------------------------------------------------------------------------------------------\n",
      "looking for vivid products under $5 with excellent ratings.\n"
     ]
    },
    {
     "name": "stderr",
     "output_type": "stream",
     "text": [
      "Batches: 100%|██████████| 1/1 [00:00<00:00, 44.24it/s]\n",
      "Batches: 100%|██████████| 1/1 [00:00<00:00, 42.10it/s]\n",
      "Batches: 100%|██████████| 1/1 [00:00<00:00, 17.94it/s]\n",
      " 55%|█████▌    | 129/233 [10:24<07:54,  4.56s/it]"
     ]
    },
    {
     "name": "stdout",
     "output_type": "stream",
     "text": [
      "----------------------------------------------------------------------------------------------------\n",
      "what accessotech product has a 4.7 rating and has been around for a while?\n"
     ]
    },
    {
     "name": "stderr",
     "output_type": "stream",
     "text": [
      "Batches: 100%|██████████| 1/1 [00:00<00:00, 15.09it/s]\n",
      "Batches: 100%|██████████| 1/1 [00:00<00:00, 39.62it/s]\n",
      "Batches: 100%|██████████| 1/1 [00:00<00:00, 15.28it/s]\n",
      " 56%|█████▌    | 130/233 [10:28<07:39,  4.46s/it]"
     ]
    },
    {
     "name": "stdout",
     "output_type": "stream",
     "text": [
      "----------------------------------------------------------------------------------------------------\n",
      "are there any reviews for the classified product priced at $16.0?\n"
     ]
    },
    {
     "name": "stderr",
     "output_type": "stream",
     "text": [
      "Batches: 100%|██████████| 1/1 [00:00<00:00, 23.91it/s]\n",
      "Batches: 100%|██████████| 1/1 [00:00<00:00, 36.64it/s]\n"
     ]
    },
    {
     "name": "stdout",
     "output_type": "stream",
     "text": [
      "Sorry, no relevant results!\n"
     ]
    },
    {
     "name": "stderr",
     "output_type": "stream",
     "text": [
      "Batches: 100%|██████████| 1/1 [00:00<00:00,  2.06it/s]\n",
      " 56%|█████▌    | 131/233 [10:34<08:19,  4.89s/it]"
     ]
    },
    {
     "name": "stdout",
     "output_type": "stream",
     "text": [
      "----------------------------------------------------------------------------------------------------\n",
      "can i buy cardfight vanguard cards for around $12 that have good reviews?\n"
     ]
    },
    {
     "name": "stderr",
     "output_type": "stream",
     "text": [
      "Batches: 100%|██████████| 1/1 [00:00<00:00, 16.71it/s]\n",
      "Batches: 100%|██████████| 1/1 [00:00<00:00, 20.85it/s]\n",
      "Batches: 100%|██████████| 1/1 [00:00<00:00, 15.27it/s]\n",
      " 57%|█████▋    | 132/233 [10:39<07:55,  4.71s/it]"
     ]
    },
    {
     "name": "stdout",
     "output_type": "stream",
     "text": [
      "----------------------------------------------------------------------------------------------------\n",
      "can i find andy's products with a perfect rating?\n"
     ]
    },
    {
     "name": "stderr",
     "output_type": "stream",
     "text": [
      "Batches: 100%|██████████| 1/1 [00:00<00:00, 24.15it/s]\n",
      "Batches: 100%|██████████| 1/1 [00:00<00:00, 49.73it/s]\n"
     ]
    },
    {
     "name": "stdout",
     "output_type": "stream",
     "text": [
      "Sorry, the brand you are looking for is not available!\n"
     ]
    },
    {
     "name": "stderr",
     "output_type": "stream",
     "text": [
      "Batches: 100%|██████████| 1/1 [00:00<00:00, 16.06it/s]\n",
      " 57%|█████▋    | 133/233 [10:44<08:05,  4.86s/it]"
     ]
    },
    {
     "name": "stdout",
     "output_type": "stream",
     "text": [
      "----------------------------------------------------------------------------------------------------\n",
      "how well-rated is the accessotech product that's been on the market for a couple of years?\n"
     ]
    },
    {
     "name": "stderr",
     "output_type": "stream",
     "text": [
      "Batches: 100%|██████████| 1/1 [00:00<00:00,  4.36it/s]\n",
      "Batches: 100%|██████████| 1/1 [00:00<00:00, 33.48it/s]\n",
      "Batches: 100%|██████████| 1/1 [00:00<00:00,  3.89it/s]\n",
      " 58%|█████▊    | 134/233 [10:48<07:50,  4.75s/it]"
     ]
    },
    {
     "name": "stdout",
     "output_type": "stream",
     "text": [
      "----------------------------------------------------------------------------------------------------\n",
      "can i find polly pocket toys for around $4?\n"
     ]
    },
    {
     "name": "stderr",
     "output_type": "stream",
     "text": [
      "Batches: 100%|██████████| 1/1 [00:00<00:00, 31.87it/s]\n",
      "Batches: 100%|██████████| 1/1 [00:00<00:00, 39.09it/s]\n",
      "Batches: 100%|██████████| 1/1 [00:00<00:00,  2.93it/s]\n",
      " 58%|█████▊    | 135/233 [10:53<07:50,  4.80s/it]"
     ]
    },
    {
     "name": "stdout",
     "output_type": "stream",
     "text": [
      "----------------------------------------------------------------------------------------------------\n",
      "what's the best toy zany toy for under $5.00?\n"
     ]
    },
    {
     "name": "stderr",
     "output_type": "stream",
     "text": [
      "Batches: 100%|██████████| 1/1 [00:00<00:00, 26.93it/s]\n",
      "Batches: 100%|██████████| 1/1 [00:00<00:00, 45.59it/s]\n"
     ]
    },
    {
     "name": "stdout",
     "output_type": "stream",
     "text": [
      "Sorry, the brand you are looking for is not available!\n"
     ]
    },
    {
     "name": "stderr",
     "output_type": "stream",
     "text": [
      "Batches: 100%|██████████| 1/1 [00:00<00:00, 20.83it/s]\n",
      " 58%|█████▊    | 136/233 [10:59<08:03,  4.98s/it]"
     ]
    },
    {
     "name": "stdout",
     "output_type": "stream",
     "text": [
      "----------------------------------------------------------------------------------------------------\n",
      "can i find a top-rated ice cream for teenagers priced at $14?\n"
     ]
    },
    {
     "name": "stderr",
     "output_type": "stream",
     "text": [
      "Batches: 100%|██████████| 1/1 [00:00<00:00, 20.81it/s]\n",
      "Batches: 100%|██████████| 1/1 [00:00<00:00, 48.06it/s]\n",
      "Batches: 100%|██████████| 1/1 [00:00<00:00, 12.97it/s]\n",
      " 59%|█████▉    | 137/233 [11:02<07:27,  4.66s/it]"
     ]
    },
    {
     "name": "stdout",
     "output_type": "stream",
     "text": [
      "----------------------------------------------------------------------------------------------------\n",
      "looking for highly rated products by stevenson entertainment, any suggestions?\n"
     ]
    },
    {
     "name": "stderr",
     "output_type": "stream",
     "text": [
      "Batches: 100%|██████████| 1/1 [00:00<00:00, 22.96it/s]\n",
      "Batches: 100%|██████████| 1/1 [00:00<00:00, 31.03it/s]\n",
      "Batches: 100%|██████████| 1/1 [00:00<00:00, 15.19it/s]\n",
      " 59%|█████▉    | 138/233 [11:07<07:22,  4.66s/it]"
     ]
    },
    {
     "name": "stdout",
     "output_type": "stream",
     "text": [
      "----------------------------------------------------------------------------------------------------\n",
      "what are the best-rated kaleidoscope toys for toddlers around age 3?\n"
     ]
    },
    {
     "name": "stderr",
     "output_type": "stream",
     "text": [
      "Batches: 100%|██████████| 1/1 [00:00<00:00, 15.14it/s]\n",
      "Batches: 100%|██████████| 1/1 [00:00<00:00, 46.34it/s]\n",
      "Batches: 100%|██████████| 1/1 [00:00<00:00,  3.09it/s]\n",
      " 60%|█████▉    | 139/233 [11:14<08:07,  5.19s/it]"
     ]
    },
    {
     "name": "stdout",
     "output_type": "stream",
     "text": [
      "----------------------------------------------------------------------------------------------------\n",
      "are there any tt-play items with a 5-star rating?\n"
     ]
    },
    {
     "name": "stderr",
     "output_type": "stream",
     "text": [
      "Batches: 100%|██████████| 1/1 [00:00<00:00, 13.02it/s]\n",
      "Batches: 100%|██████████| 1/1 [00:00<00:00, 27.77it/s]\n",
      "Batches: 100%|██████████| 1/1 [00:00<00:00, 11.76it/s]\n",
      " 60%|██████    | 140/233 [11:18<07:48,  5.03s/it]"
     ]
    },
    {
     "name": "stdout",
     "output_type": "stream",
     "text": [
      "----------------------------------------------------------------------------------------------------\n",
      "which lifewheel products are rated 4.5 stars by users?\n"
     ]
    },
    {
     "name": "stderr",
     "output_type": "stream",
     "text": [
      "Batches: 100%|██████████| 1/1 [00:00<00:00, 16.16it/s]\n",
      "Batches: 100%|██████████| 1/1 [00:00<00:00, 46.20it/s]\n",
      "Batches: 100%|██████████| 1/1 [00:00<00:00, 13.47it/s]\n",
      " 61%|██████    | 141/233 [11:22<07:14,  4.73s/it]"
     ]
    },
    {
     "name": "stdout",
     "output_type": "stream",
     "text": [
      "----------------------------------------------------------------------------------------------------\n",
      "show me lifewheel products that have received a 4.5 rating.\n"
     ]
    },
    {
     "name": "stderr",
     "output_type": "stream",
     "text": [
      "Batches: 100%|██████████| 1/1 [00:00<00:00, 33.07it/s]\n",
      "Batches: 100%|██████████| 1/1 [00:00<00:00, 44.63it/s]\n",
      "Batches: 100%|██████████| 1/1 [00:00<00:00, 12.17it/s]\n",
      " 61%|██████    | 142/233 [11:26<06:54,  4.55s/it]"
     ]
    },
    {
     "name": "stdout",
     "output_type": "stream",
     "text": [
      "----------------------------------------------------------------------------------------------------\n",
      "are there any highly-rated decopatch products for young children?\n"
     ]
    },
    {
     "name": "stderr",
     "output_type": "stream",
     "text": [
      "Batches: 100%|██████████| 1/1 [00:00<00:00, 44.16it/s]\n",
      "Batches: 100%|██████████| 1/1 [00:00<00:00, 47.89it/s]\n",
      "Batches: 100%|██████████| 1/1 [00:00<00:00,  2.88it/s]\n",
      " 61%|██████▏   | 143/233 [11:32<07:17,  4.87s/it]"
     ]
    },
    {
     "name": "stdout",
     "output_type": "stream",
     "text": [
      "----------------------------------------------------------------------------------------------------\n",
      "are there any highly rated party supplies by edigital creations for kids around 7 years old?\n"
     ]
    },
    {
     "name": "stderr",
     "output_type": "stream",
     "text": [
      "Batches: 100%|██████████| 1/1 [00:00<00:00, 21.83it/s]\n",
      "Batches: 100%|██████████| 1/1 [00:00<00:00, 31.49it/s]\n"
     ]
    },
    {
     "name": "stdout",
     "output_type": "stream",
     "text": [
      "Sorry, the brand you are looking for is not available!\n"
     ]
    },
    {
     "name": "stderr",
     "output_type": "stream",
     "text": [
      "Batches: 100%|██████████| 1/1 [00:00<00:00, 20.41it/s]\n",
      " 62%|██████▏   | 144/233 [11:36<07:00,  4.73s/it]"
     ]
    },
    {
     "name": "stdout",
     "output_type": "stream",
     "text": [
      "----------------------------------------------------------------------------------------------------\n",
      "is there a nintendogs game that's highly rated and affordable?\n"
     ]
    },
    {
     "name": "stderr",
     "output_type": "stream",
     "text": [
      "Batches: 100%|██████████| 1/1 [00:00<00:00, 34.63it/s]\n",
      "Batches: 100%|██████████| 1/1 [00:00<00:00, 48.57it/s]\n",
      "Batches: 100%|██████████| 1/1 [00:00<00:00, 15.73it/s]\n",
      " 62%|██████▏   | 145/233 [11:40<06:31,  4.44s/it]"
     ]
    },
    {
     "name": "stdout",
     "output_type": "stream",
     "text": [
      "----------------------------------------------------------------------------------------------------\n",
      "can you show me heart cell items with a 5-star rating?\n"
     ]
    },
    {
     "name": "stderr",
     "output_type": "stream",
     "text": [
      "Batches: 100%|██████████| 1/1 [00:00<00:00, 43.76it/s]\n",
      "Batches: 100%|██████████| 1/1 [00:00<00:00, 44.27it/s]\n",
      "Batches: 100%|██████████| 1/1 [00:00<00:00,  7.78it/s]\n",
      " 63%|██████▎   | 146/233 [11:45<06:46,  4.67s/it]"
     ]
    },
    {
     "name": "stdout",
     "output_type": "stream",
     "text": [
      "----------------------------------------------------------------------------------------------------\n",
      "looking for jack daniels whiskey with a 5-star rating, any suggestions?\n"
     ]
    },
    {
     "name": "stderr",
     "output_type": "stream",
     "text": [
      "Batches: 100%|██████████| 1/1 [00:00<00:00, 16.47it/s]\n",
      "Batches: 100%|██████████| 1/1 [00:00<00:00, 41.71it/s]\n"
     ]
    },
    {
     "name": "stdout",
     "output_type": "stream",
     "text": [
      "Sorry, the brand you are looking for is not available!\n"
     ]
    },
    {
     "name": "stderr",
     "output_type": "stream",
     "text": [
      "Batches: 100%|██████████| 1/1 [00:00<00:00,  9.39it/s]\n",
      " 63%|██████▎   | 147/233 [11:51<07:04,  4.93s/it]"
     ]
    },
    {
     "name": "stdout",
     "output_type": "stream",
     "text": [
      "----------------------------------------------------------------------------------------------------\n",
      "looking for a puzzle with me product that's budget-friendly and well-reviewed.\n"
     ]
    },
    {
     "name": "stderr",
     "output_type": "stream",
     "text": [
      "Batches: 100%|██████████| 1/1 [00:00<00:00, 27.74it/s]\n",
      "Batches: 100%|██████████| 1/1 [00:00<00:00, 44.07it/s]\n",
      "Batches: 100%|██████████| 1/1 [00:00<00:00, 13.20it/s]\n",
      " 64%|██████▎   | 148/233 [11:55<06:35,  4.65s/it]"
     ]
    },
    {
     "name": "stdout",
     "output_type": "stream",
     "text": [
      "----------------------------------------------------------------------------------------------------\n",
      "show me highly-rated unbekannt products, specifically those with a 4.5 rating.\n"
     ]
    },
    {
     "name": "stderr",
     "output_type": "stream",
     "text": [
      "Batches: 100%|██████████| 1/1 [00:00<00:00, 11.89it/s]\n",
      "Batches: 100%|██████████| 1/1 [00:00<00:00, 32.02it/s]\n",
      "Batches: 100%|██████████| 1/1 [00:00<00:00,  3.66it/s]\n",
      " 64%|██████▍   | 149/233 [12:00<06:43,  4.81s/it]"
     ]
    },
    {
     "name": "stdout",
     "output_type": "stream",
     "text": [
      "----------------------------------------------------------------------------------------------------\n",
      "can i find a puzzle with a 5-star rating for $3.0?\n"
     ]
    },
    {
     "name": "stderr",
     "output_type": "stream",
     "text": [
      "Batches: 100%|██████████| 1/1 [00:00<00:00, 14.65it/s]\n",
      "Batches: 100%|██████████| 1/1 [00:00<00:00, 48.36it/s]\n",
      "Batches: 100%|██████████| 1/1 [00:00<00:00,  2.85it/s]\n",
      " 64%|██████▍   | 150/233 [12:05<06:39,  4.81s/it]"
     ]
    },
    {
     "name": "stdout",
     "output_type": "stream",
     "text": [
      "----------------------------------------------------------------------------------------------------\n",
      "which toy story toys are recommended for 4-year-olds and have a rating of 4.4 or higher?\n"
     ]
    },
    {
     "name": "stderr",
     "output_type": "stream",
     "text": [
      "Batches: 100%|██████████| 1/1 [00:00<00:00, 17.19it/s]\n",
      "Batches: 100%|██████████| 1/1 [00:00<00:00, 38.49it/s]\n",
      "Batches: 100%|██████████| 1/1 [00:00<00:00,  2.96it/s]\n",
      " 65%|██████▍   | 151/233 [12:11<06:56,  5.07s/it]"
     ]
    },
    {
     "name": "stdout",
     "output_type": "stream",
     "text": [
      "----------------------------------------------------------------------------------------------------\n",
      "show me cd fundraising products with a rating above 4 stars.\n"
     ]
    },
    {
     "name": "stderr",
     "output_type": "stream",
     "text": [
      "Batches: 100%|██████████| 1/1 [00:00<00:00, 11.18it/s]\n",
      "Batches: 100%|██████████| 1/1 [00:00<00:00, 47.01it/s]\n",
      "Batches: 100%|██████████| 1/1 [00:00<00:00, 14.05it/s]\n",
      " 65%|██████▌   | 152/233 [12:16<06:52,  5.10s/it]"
     ]
    },
    {
     "name": "stdout",
     "output_type": "stream",
     "text": [
      "----------------------------------------------------------------------------------------------------\n",
      "which moulin roty products have the best reviews?\n"
     ]
    },
    {
     "name": "stderr",
     "output_type": "stream",
     "text": [
      "Batches: 100%|██████████| 1/1 [00:00<00:00, 17.54it/s]\n",
      "Batches: 100%|██████████| 1/1 [00:00<00:00, 39.22it/s]\n",
      "Batches: 100%|██████████| 1/1 [00:00<00:00, 13.31it/s]\n",
      " 66%|██████▌   | 153/233 [12:20<06:18,  4.74s/it]"
     ]
    },
    {
     "name": "stdout",
     "output_type": "stream",
     "text": [
      "----------------------------------------------------------------------------------------------------\n",
      "where can i find a land rover with a rating of 4.7?\n"
     ]
    },
    {
     "name": "stderr",
     "output_type": "stream",
     "text": [
      "Batches: 100%|██████████| 1/1 [00:00<00:00, 30.07it/s]\n",
      "Batches: 100%|██████████| 1/1 [00:00<00:00, 43.52it/s]\n",
      "Batches: 100%|██████████| 1/1 [00:00<00:00, 11.70it/s]\n",
      " 66%|██████▌   | 154/233 [12:24<06:04,  4.61s/it]"
     ]
    },
    {
     "name": "stdout",
     "output_type": "stream",
     "text": [
      "----------------------------------------------------------------------------------------------------\n",
      "looking for affordable my little pony toys with high ratings, any suggestions?\n"
     ]
    },
    {
     "name": "stderr",
     "output_type": "stream",
     "text": [
      "Batches: 100%|██████████| 1/1 [00:00<00:00, 29.70it/s]\n",
      "Batches: 100%|██████████| 1/1 [00:00<00:00, 47.55it/s]\n",
      "Batches: 100%|██████████| 1/1 [00:00<00:00, 11.18it/s]\n",
      " 67%|██████▋   | 155/233 [12:28<05:46,  4.44s/it]"
     ]
    },
    {
     "name": "stdout",
     "output_type": "stream",
     "text": [
      "----------------------------------------------------------------------------------------------------\n",
      "what are customers saying about lifewheel products with a 4.5 rating?\n"
     ]
    },
    {
     "name": "stderr",
     "output_type": "stream",
     "text": [
      "Batches: 100%|██████████| 1/1 [00:00<00:00, 35.34it/s]\n",
      "Batches: 100%|██████████| 1/1 [00:00<00:00, 46.88it/s]\n",
      "Batches: 100%|██████████| 1/1 [00:00<00:00,  9.89it/s]\n",
      " 67%|██████▋   | 156/233 [12:32<05:30,  4.30s/it]"
     ]
    },
    {
     "name": "stdout",
     "output_type": "stream",
     "text": [
      "----------------------------------------------------------------------------------------------------\n",
      "any affordable lagoon group products with great reviews?\n"
     ]
    },
    {
     "name": "stderr",
     "output_type": "stream",
     "text": [
      "Batches: 100%|██████████| 1/1 [00:00<00:00, 27.65it/s]\n",
      "Batches: 100%|██████████| 1/1 [00:00<00:00, 40.39it/s]\n",
      "Batches: 100%|██████████| 1/1 [00:00<00:00, 12.32it/s]\n",
      " 67%|██████▋   | 157/233 [12:36<05:22,  4.24s/it]"
     ]
    },
    {
     "name": "stdout",
     "output_type": "stream",
     "text": [
      "----------------------------------------------------------------------------------------------------\n",
      "affordable kawaii merchandise for young kids with excellent reviews?\n"
     ]
    },
    {
     "name": "stderr",
     "output_type": "stream",
     "text": [
      "Batches: 100%|██████████| 1/1 [00:00<00:00, 27.05it/s]\n",
      "Batches: 100%|██████████| 1/1 [00:00<00:00, 44.61it/s]\n",
      "Batches: 100%|██████████| 1/1 [00:00<00:00,  5.16it/s]\n",
      " 68%|██████▊   | 158/233 [12:41<05:22,  4.31s/it]"
     ]
    },
    {
     "name": "stdout",
     "output_type": "stream",
     "text": [
      "----------------------------------------------------------------------------------------------------\n",
      "looking for a bigmouthinc. product priced at $5 with top reviews.\n"
     ]
    },
    {
     "name": "stderr",
     "output_type": "stream",
     "text": [
      "Batches: 100%|██████████| 1/1 [00:00<00:00, 20.15it/s]\n",
      "Batches: 100%|██████████| 1/1 [00:00<00:00, 26.98it/s]\n"
     ]
    },
    {
     "name": "stdout",
     "output_type": "stream",
     "text": [
      "Sorry, no relevant results!\n"
     ]
    },
    {
     "name": "stderr",
     "output_type": "stream",
     "text": [
      "Batches: 100%|██████████| 1/1 [00:00<00:00,  8.20it/s]\n",
      " 68%|██████▊   | 159/233 [12:46<05:51,  4.75s/it]"
     ]
    },
    {
     "name": "stdout",
     "output_type": "stream",
     "text": [
      "----------------------------------------------------------------------------------------------------\n",
      "what are some highly-rated diecast collectibles for teenagers?\n"
     ]
    },
    {
     "name": "stderr",
     "output_type": "stream",
     "text": [
      "Batches: 100%|██████████| 1/1 [00:00<00:00, 16.75it/s]\n",
      "Batches: 100%|██████████| 1/1 [00:00<00:00, 27.06it/s]\n"
     ]
    },
    {
     "name": "stdout",
     "output_type": "stream",
     "text": [
      "Sorry, no relevant results!\n"
     ]
    },
    {
     "name": "stderr",
     "output_type": "stream",
     "text": [
      "Batches: 100%|██████████| 1/1 [00:00<00:00,  2.74it/s]\n",
      " 69%|██████▊   | 160/233 [12:57<08:00,  6.58s/it]"
     ]
    },
    {
     "name": "stdout",
     "output_type": "stream",
     "text": [
      "----------------------------------------------------------------------------------------------------\n",
      "what are some highly rated ravensburger spieleverlag games for children aged 8?\n"
     ]
    },
    {
     "name": "stderr",
     "output_type": "stream",
     "text": [
      "Batches: 100%|██████████| 1/1 [00:00<00:00, 19.14it/s]\n",
      "Batches: 100%|██████████| 1/1 [00:00<00:00, 46.39it/s]\n",
      "Batches: 100%|██████████| 1/1 [00:00<00:00,  2.96it/s]\n",
      " 69%|██████▉   | 161/233 [13:03<07:29,  6.25s/it]"
     ]
    },
    {
     "name": "stdout",
     "output_type": "stream",
     "text": [
      "----------------------------------------------------------------------------------------------------\n",
      "are there any highly-rated heart foil balloons available for purchase?\n"
     ]
    },
    {
     "name": "stderr",
     "output_type": "stream",
     "text": [
      "Batches: 100%|██████████| 1/1 [00:00<00:00, 11.17it/s]\n",
      "Batches: 100%|██████████| 1/1 [00:00<00:00, 25.05it/s]\n"
     ]
    },
    {
     "name": "stdout",
     "output_type": "stream",
     "text": [
      "Sorry, the brand you are looking for is not available!\n"
     ]
    },
    {
     "name": "stderr",
     "output_type": "stream",
     "text": [
      "Batches: 100%|██████████| 1/1 [00:00<00:00, 18.68it/s]\n",
      " 70%|██████▉   | 162/233 [13:08<06:59,  5.91s/it]"
     ]
    },
    {
     "name": "stdout",
     "output_type": "stream",
     "text": [
      "----------------------------------------------------------------------------------------------------\n",
      "are there any lancia items with a perfect 5-star rating?\n"
     ]
    },
    {
     "name": "stderr",
     "output_type": "stream",
     "text": [
      "Batches: 100%|██████████| 1/1 [00:00<00:00, 34.20it/s]\n",
      "Batches: 100%|██████████| 1/1 [00:00<00:00, 31.41it/s]\n",
      "Batches: 100%|██████████| 1/1 [00:00<00:00,  2.94it/s]\n",
      " 70%|██████▉   | 163/233 [13:15<07:32,  6.46s/it]"
     ]
    },
    {
     "name": "stdout",
     "output_type": "stream",
     "text": [
      "----------------------------------------------------------------------------------------------------\n",
      "looking for affordable top race products, any suggestions?\n"
     ]
    },
    {
     "name": "stderr",
     "output_type": "stream",
     "text": [
      "Batches: 100%|██████████| 1/1 [00:00<00:00, 19.36it/s]\n",
      "Batches: 100%|██████████| 1/1 [00:00<00:00, 41.55it/s]\n",
      "Batches: 100%|██████████| 1/1 [00:00<00:00, 12.40it/s]\n",
      " 70%|███████   | 164/233 [13:21<06:57,  6.05s/it]"
     ]
    },
    {
     "name": "stdout",
     "output_type": "stream",
     "text": [
      "----------------------------------------------------------------------------------------------------\n",
      "can you find dji products with the highest ratings?\n"
     ]
    },
    {
     "name": "stderr",
     "output_type": "stream",
     "text": [
      "Batches: 100%|██████████| 1/1 [00:00<00:00, 24.42it/s]\n",
      "Batches: 100%|██████████| 1/1 [00:00<00:00, 43.92it/s]\n",
      "Batches: 100%|██████████| 1/1 [00:00<00:00,  2.86it/s]\n",
      " 71%|███████   | 165/233 [13:26<06:43,  5.93s/it]"
     ]
    },
    {
     "name": "stdout",
     "output_type": "stream",
     "text": [
      "----------------------------------------------------------------------------------------------------\n",
      "where can i find toys4u products with a 5-star rating?\n"
     ]
    },
    {
     "name": "stderr",
     "output_type": "stream",
     "text": [
      "Batches: 100%|██████████| 1/1 [00:00<00:00, 15.71it/s]\n",
      "Batches: 100%|██████████| 1/1 [00:00<00:00, 33.56it/s]\n",
      "Batches: 100%|██████████| 1/1 [00:00<00:00, 12.98it/s]\n",
      " 71%|███████   | 166/233 [13:30<06:02,  5.41s/it]"
     ]
    },
    {
     "name": "stdout",
     "output_type": "stream",
     "text": [
      "----------------------------------------------------------------------------------------------------\n",
      "looking for b-loony products with excellent reviews.\n"
     ]
    },
    {
     "name": "stderr",
     "output_type": "stream",
     "text": [
      "Batches: 100%|██████████| 1/1 [00:00<00:00, 35.39it/s]\n",
      "Batches: 100%|██████████| 1/1 [00:00<00:00, 40.84it/s]\n",
      "Batches: 100%|██████████| 1/1 [00:00<00:00,  2.67it/s]\n",
      " 72%|███████▏  | 167/233 [13:35<05:39,  5.14s/it]"
     ]
    },
    {
     "name": "stdout",
     "output_type": "stream",
     "text": [
      "----------------------------------------------------------------------------------------------------\n",
      "can i find top-rated bronco models products on your site?\n"
     ]
    },
    {
     "name": "stderr",
     "output_type": "stream",
     "text": [
      "Batches: 100%|██████████| 1/1 [00:00<00:00, 26.58it/s]\n",
      "Batches: 100%|██████████| 1/1 [00:00<00:00, 30.69it/s]\n",
      "Batches: 100%|██████████| 1/1 [00:00<00:00,  2.44it/s]\n",
      " 72%|███████▏  | 168/233 [13:41<05:52,  5.43s/it]"
     ]
    },
    {
     "name": "stdout",
     "output_type": "stream",
     "text": [
      "----------------------------------------------------------------------------------------------------\n",
      "are there any affordable novelty gifts for kids aged nearly 3 with good reviews?\n"
     ]
    },
    {
     "name": "stderr",
     "output_type": "stream",
     "text": [
      "Batches: 100%|██████████| 1/1 [00:00<00:00, 35.62it/s]\n",
      "Batches: 100%|██████████| 1/1 [00:00<00:00, 16.92it/s]\n",
      "Batches: 100%|██████████| 1/1 [00:00<00:00,  2.93it/s]\n",
      " 73%|███████▎  | 169/233 [13:47<06:04,  5.69s/it]"
     ]
    },
    {
     "name": "stdout",
     "output_type": "stream",
     "text": [
      "----------------------------------------------------------------------------------------------------\n",
      "is there a faller item available for $14.00 that has a perfect rating?\n"
     ]
    },
    {
     "name": "stderr",
     "output_type": "stream",
     "text": [
      "Batches: 100%|██████████| 1/1 [00:00<00:00, 18.09it/s]\n",
      "Batches: 100%|██████████| 1/1 [00:00<00:00, 31.77it/s]\n",
      "Batches: 100%|██████████| 1/1 [00:00<00:00,  2.82it/s]\n",
      " 73%|███████▎  | 170/233 [13:54<06:18,  6.01s/it]"
     ]
    },
    {
     "name": "stdout",
     "output_type": "stream",
     "text": [
      "----------------------------------------------------------------------------------------------------\n",
      "where can i buy a chess set for $3.0 with at least a 4.5 rating?\n"
     ]
    },
    {
     "name": "stderr",
     "output_type": "stream",
     "text": [
      "Batches: 100%|██████████| 1/1 [00:00<00:00, 10.12it/s]\n",
      "Batches: 100%|██████████| 1/1 [00:00<00:00, 25.69it/s]\n",
      "Batches: 100%|██████████| 1/1 [00:00<00:00, 14.72it/s]\n",
      " 73%|███████▎  | 171/233 [14:02<06:52,  6.65s/it]"
     ]
    },
    {
     "name": "stdout",
     "output_type": "stream",
     "text": [
      "----------------------------------------------------------------------------------------------------\n",
      "looking for qj products with a rating of 4.6 and a price of $3.00.\n"
     ]
    },
    {
     "name": "stderr",
     "output_type": "stream",
     "text": [
      "Batches: 100%|██████████| 1/1 [00:00<00:00, 30.88it/s]\n",
      "Batches: 100%|██████████| 1/1 [00:00<00:00, 43.38it/s]\n",
      "Batches: 100%|██████████| 1/1 [00:00<00:00, 14.24it/s]\n",
      " 74%|███████▍  | 172/233 [14:07<06:03,  5.97s/it]"
     ]
    },
    {
     "name": "stdout",
     "output_type": "stream",
     "text": [
      "----------------------------------------------------------------------------------------------------\n",
      "can i find toy story toys under $5 for my 4-year-old with high ratings?\n"
     ]
    },
    {
     "name": "stderr",
     "output_type": "stream",
     "text": [
      "Batches: 100%|██████████| 1/1 [00:00<00:00, 12.75it/s]\n",
      "Batches: 100%|██████████| 1/1 [00:00<00:00, 31.94it/s]\n",
      "Batches: 100%|██████████| 1/1 [00:00<00:00,  1.96it/s]\n",
      " 74%|███████▍  | 173/233 [14:11<05:35,  5.59s/it]"
     ]
    },
    {
     "name": "stdout",
     "output_type": "stream",
     "text": [
      "----------------------------------------------------------------------------------------------------\n",
      "which wacky wobbler products have the highest ratings?\n"
     ]
    },
    {
     "name": "stderr",
     "output_type": "stream",
     "text": [
      "Batches: 100%|██████████| 1/1 [00:00<00:00, 19.54it/s]\n",
      "Batches: 100%|██████████| 1/1 [00:00<00:00, 28.97it/s]\n",
      "Batches: 100%|██████████| 1/1 [00:00<00:00, 16.85it/s]\n",
      " 75%|███████▍  | 174/233 [14:16<05:08,  5.23s/it]"
     ]
    },
    {
     "name": "stdout",
     "output_type": "stream",
     "text": [
      "----------------------------------------------------------------------------------------------------\n",
      "can i get supreme models online that are highly rated and cost $14?\n"
     ]
    },
    {
     "name": "stderr",
     "output_type": "stream",
     "text": [
      "Batches: 100%|██████████| 1/1 [00:00<00:00, 16.85it/s]\n",
      "Batches: 100%|██████████| 1/1 [00:00<00:00, 44.07it/s]\n"
     ]
    },
    {
     "name": "stdout",
     "output_type": "stream",
     "text": [
      "Sorry, the brand you are looking for is not available!\n"
     ]
    },
    {
     "name": "stderr",
     "output_type": "stream",
     "text": [
      "Batches: 100%|██████████| 1/1 [00:00<00:00, 14.76it/s]\n",
      " 75%|███████▌  | 175/233 [14:20<04:44,  4.90s/it]"
     ]
    },
    {
     "name": "stdout",
     "output_type": "stream",
     "text": [
      "----------------------------------------------------------------------------------------------------\n",
      "looking for a highly rated rittenhouse product, any suggestions?\n"
     ]
    },
    {
     "name": "stderr",
     "output_type": "stream",
     "text": [
      "Batches: 100%|██████████| 1/1 [00:00<00:00, 19.03it/s]\n",
      "Batches: 100%|██████████| 1/1 [00:00<00:00, 44.09it/s]\n",
      "Batches: 100%|██████████| 1/1 [00:00<00:00,  3.06it/s]\n",
      " 76%|███████▌  | 176/233 [14:25<04:42,  4.96s/it]"
     ]
    },
    {
     "name": "stdout",
     "output_type": "stream",
     "text": [
      "----------------------------------------------------------------------------------------------------\n",
      "show me the best-rated andy's products available.\n"
     ]
    },
    {
     "name": "stderr",
     "output_type": "stream",
     "text": [
      "Batches: 100%|██████████| 1/1 [00:00<00:00, 35.31it/s]\n",
      "Batches: 100%|██████████| 1/1 [00:00<00:00, 48.26it/s]\n",
      "Batches: 100%|██████████| 1/1 [00:00<00:00, 16.19it/s]\n",
      " 76%|███████▌  | 177/233 [14:29<04:19,  4.63s/it]"
     ]
    },
    {
     "name": "stdout",
     "output_type": "stream",
     "text": [
      "----------------------------------------------------------------------------------------------------\n",
      "can i find warlord games items for around $14?\n"
     ]
    },
    {
     "name": "stderr",
     "output_type": "stream",
     "text": [
      "Batches: 100%|██████████| 1/1 [00:00<00:00, 20.27it/s]\n",
      "Batches: 100%|██████████| 1/1 [00:00<00:00, 39.89it/s]\n",
      "Batches: 100%|██████████| 1/1 [00:00<00:00, 16.01it/s]\n",
      " 76%|███████▋  | 178/233 [14:33<04:07,  4.50s/it]"
     ]
    },
    {
     "name": "stdout",
     "output_type": "stream",
     "text": [
      "----------------------------------------------------------------------------------------------------\n",
      "are there any highly rated qj products available for $3.00?\n"
     ]
    },
    {
     "name": "stderr",
     "output_type": "stream",
     "text": [
      "Batches: 100%|██████████| 1/1 [00:00<00:00, 31.41it/s]\n",
      "Batches: 100%|██████████| 1/1 [00:00<00:00, 43.21it/s]\n",
      "Batches: 100%|██████████| 1/1 [00:00<00:00,  8.24it/s]\n",
      " 77%|███████▋  | 179/233 [14:38<04:05,  4.55s/it]"
     ]
    },
    {
     "name": "stdout",
     "output_type": "stream",
     "text": [
      "----------------------------------------------------------------------------------------------------\n",
      "can i find the star wars episodes i to vi movies for around $36?\n"
     ]
    },
    {
     "name": "stderr",
     "output_type": "stream",
     "text": [
      "Batches: 100%|██████████| 1/1 [00:00<00:00,  5.72it/s]\n",
      "Batches: 100%|██████████| 1/1 [00:00<00:00, 33.72it/s]\n",
      "Batches: 100%|██████████| 1/1 [00:00<00:00,  7.35it/s]\n",
      " 77%|███████▋  | 180/233 [14:43<04:09,  4.70s/it]"
     ]
    },
    {
     "name": "stdout",
     "output_type": "stream",
     "text": [
      "----------------------------------------------------------------------------------------------------\n",
      "where can i find ultra-pro protective card sleeves for around $12?\n"
     ]
    },
    {
     "name": "stderr",
     "output_type": "stream",
     "text": [
      "Batches: 100%|██████████| 1/1 [00:00<00:00, 20.28it/s]\n",
      "Batches: 100%|██████████| 1/1 [00:00<00:00, 44.29it/s]\n"
     ]
    },
    {
     "name": "stdout",
     "output_type": "stream",
     "text": [
      "Sorry, the brand you are looking for is not available!\n"
     ]
    },
    {
     "name": "stderr",
     "output_type": "stream",
     "text": [
      "Batches: 100%|██████████| 1/1 [00:00<00:00, 20.83it/s]\n",
      " 78%|███████▊  | 181/233 [14:47<03:58,  4.58s/it]"
     ]
    },
    {
     "name": "stdout",
     "output_type": "stream",
     "text": [
      "----------------------------------------------------------------------------------------------------\n",
      "what ducati items have a perfect 5-star rating?\n"
     ]
    },
    {
     "name": "stderr",
     "output_type": "stream",
     "text": [
      "Batches: 100%|██████████| 1/1 [00:00<00:00, 21.19it/s]\n",
      "Batches: 100%|██████████| 1/1 [00:00<00:00, 48.26it/s]\n",
      "Batches: 100%|██████████| 1/1 [00:00<00:00,  2.50it/s]\n",
      " 78%|███████▊  | 182/233 [14:52<03:59,  4.70s/it]"
     ]
    },
    {
     "name": "stdout",
     "output_type": "stream",
     "text": [
      "----------------------------------------------------------------------------------------------------\n",
      "can i find a product for a 10-year-old with a 5-star rating?\n"
     ]
    },
    {
     "name": "stderr",
     "output_type": "stream",
     "text": [
      "Batches: 100%|██████████| 1/1 [00:00<00:00, 10.72it/s]\n",
      "Batches: 100%|██████████| 1/1 [00:00<00:00, 31.58it/s]\n",
      "Batches: 100%|██████████| 1/1 [00:00<00:00,  3.84it/s]\n",
      " 79%|███████▊  | 183/233 [14:56<03:51,  4.63s/it]"
     ]
    },
    {
     "name": "stdout",
     "output_type": "stream",
     "text": [
      "----------------------------------------------------------------------------------------------------\n",
      "show me highly-rated huch & friends products.\n"
     ]
    },
    {
     "name": "stderr",
     "output_type": "stream",
     "text": [
      "Batches: 100%|██████████| 1/1 [00:00<00:00, 16.54it/s]\n",
      "Batches: 100%|██████████| 1/1 [00:00<00:00, 39.33it/s]\n",
      "Batches: 100%|██████████| 1/1 [00:00<00:00, 15.63it/s]\n",
      " 79%|███████▉  | 184/233 [15:01<03:46,  4.62s/it]"
     ]
    },
    {
     "name": "stdout",
     "output_type": "stream",
     "text": [
      "----------------------------------------------------------------------------------------------------\n",
      "looking for a 5-star rated smart games product for a 9-year-old.\n"
     ]
    },
    {
     "name": "stderr",
     "output_type": "stream",
     "text": [
      "Batches: 100%|██████████| 1/1 [00:00<00:00, 22.39it/s]\n",
      "Batches: 100%|██████████| 1/1 [00:00<00:00, 46.05it/s]\n"
     ]
    },
    {
     "name": "stdout",
     "output_type": "stream",
     "text": [
      "Sorry, no relevant results!\n"
     ]
    },
    {
     "name": "stderr",
     "output_type": "stream",
     "text": [
      "Batches: 100%|██████████| 1/1 [00:00<00:00,  8.60it/s]\n",
      " 79%|███████▉  | 185/233 [15:06<03:53,  4.86s/it]"
     ]
    },
    {
     "name": "stdout",
     "output_type": "stream",
     "text": [
      "----------------------------------------------------------------------------------------------------\n",
      "is there a wildgoose education product for around $7 suitable for a 14-year-old?\n"
     ]
    },
    {
     "name": "stderr",
     "output_type": "stream",
     "text": [
      "Batches: 100%|██████████| 1/1 [00:00<00:00, 30.33it/s]\n",
      "Batches: 100%|██████████| 1/1 [00:00<00:00, 45.94it/s]\n"
     ]
    },
    {
     "name": "stdout",
     "output_type": "stream",
     "text": [
      "Sorry, the brand you are looking for is not available!\n"
     ]
    },
    {
     "name": "stderr",
     "output_type": "stream",
     "text": [
      "Batches: 100%|██████████| 1/1 [00:00<00:00,  2.93it/s]\n",
      " 80%|███████▉  | 186/233 [15:12<03:55,  5.01s/it]"
     ]
    },
    {
     "name": "stdout",
     "output_type": "stream",
     "text": [
      "----------------------------------------------------------------------------------------------------\n",
      "can i find products from gladiator foam that have excellent reviews?\n"
     ]
    },
    {
     "name": "stderr",
     "output_type": "stream",
     "text": [
      "Batches: 100%|██████████| 1/1 [00:00<00:00, 18.99it/s]\n",
      "Batches: 100%|██████████| 1/1 [00:00<00:00, 46.90it/s]\n",
      "Batches: 100%|██████████| 1/1 [00:00<00:00,  3.21it/s]\n",
      " 80%|████████  | 187/233 [15:17<03:47,  4.96s/it]"
     ]
    },
    {
     "name": "stdout",
     "output_type": "stream",
     "text": [
      "----------------------------------------------------------------------------------------------------\n",
      "any affordable paul lamond toys for 6-year-olds with top ratings?\n"
     ]
    },
    {
     "name": "stderr",
     "output_type": "stream",
     "text": [
      "Batches: 100%|██████████| 1/1 [00:00<00:00, 29.89it/s]\n",
      "Batches: 100%|██████████| 1/1 [00:00<00:00, 43.75it/s]\n",
      "Batches: 100%|██████████| 1/1 [00:00<00:00, 13.72it/s]\n",
      " 81%|████████  | 188/233 [15:21<03:31,  4.70s/it]"
     ]
    },
    {
     "name": "stdout",
     "output_type": "stream",
     "text": [
      "----------------------------------------------------------------------------------------------------\n",
      "where can i find jojo's costumes for $4.0?\n"
     ]
    },
    {
     "name": "stderr",
     "output_type": "stream",
     "text": [
      "Batches: 100%|██████████| 1/1 [00:00<00:00, 33.96it/s]\n",
      "Batches: 100%|██████████| 1/1 [00:00<00:00, 47.86it/s]\n"
     ]
    },
    {
     "name": "stdout",
     "output_type": "stream",
     "text": [
      "Sorry, the brand you are looking for is not available!\n"
     ]
    },
    {
     "name": "stderr",
     "output_type": "stream",
     "text": [
      "Batches: 100%|██████████| 1/1 [00:00<00:00,  2.17it/s]\n",
      " 81%|████████  | 189/233 [15:26<03:30,  4.79s/it]"
     ]
    },
    {
     "name": "stdout",
     "output_type": "stream",
     "text": [
      "----------------------------------------------------------------------------------------------------\n",
      "i'm searching for something from schmidt for around $5.0 with a 4.5 rating. what do you recommend?\n"
     ]
    },
    {
     "name": "stderr",
     "output_type": "stream",
     "text": [
      "Batches: 100%|██████████| 1/1 [00:00<00:00,  5.09it/s]\n",
      "Batches: 100%|██████████| 1/1 [00:00<00:00, 33.20it/s]\n",
      "Batches: 100%|██████████| 1/1 [00:00<00:00,  5.06it/s]\n",
      " 82%|████████▏ | 190/233 [15:30<03:21,  4.70s/it]"
     ]
    },
    {
     "name": "stdout",
     "output_type": "stream",
     "text": [
      "----------------------------------------------------------------------------------------------------\n",
      "what’s the rating for the star wars episodes i to vi series?\n"
     ]
    },
    {
     "name": "stderr",
     "output_type": "stream",
     "text": [
      "Batches: 100%|██████████| 1/1 [00:00<00:00, 34.77it/s]\n",
      "Batches: 100%|██████████| 1/1 [00:00<00:00, 46.38it/s]\n",
      "Batches: 100%|██████████| 1/1 [00:00<00:00, 10.49it/s]\n",
      " 82%|████████▏ | 191/233 [15:34<03:05,  4.43s/it]"
     ]
    },
    {
     "name": "stdout",
     "output_type": "stream",
     "text": [
      "----------------------------------------------------------------------------------------------------\n",
      "what are some top-rated novelty gifts for toddlers around 3 years old?\n"
     ]
    },
    {
     "name": "stderr",
     "output_type": "stream",
     "text": [
      "Batches: 100%|██████████| 1/1 [00:00<00:00, 30.21it/s]\n",
      "Batches: 100%|██████████| 1/1 [00:00<00:00, 46.13it/s]\n",
      "Batches: 100%|██████████| 1/1 [00:00<00:00,  2.67it/s]\n",
      " 82%|████████▏ | 192/233 [15:39<03:05,  4.51s/it]"
     ]
    },
    {
     "name": "stdout",
     "output_type": "stream",
     "text": [
      "----------------------------------------------------------------------------------------------------\n",
      "looking for top-rated products by unbekannt, preferably with a 4.5 rating.\n"
     ]
    },
    {
     "name": "stderr",
     "output_type": "stream",
     "text": [
      "Batches: 100%|██████████| 1/1 [00:00<00:00, 21.03it/s]\n",
      "Batches: 100%|██████████| 1/1 [00:00<00:00, 22.73it/s]\n",
      "Batches: 100%|██████████| 1/1 [00:00<00:00,  2.75it/s]\n",
      " 83%|████████▎ | 193/233 [15:45<03:16,  4.91s/it]"
     ]
    },
    {
     "name": "stdout",
     "output_type": "stream",
     "text": [
      "----------------------------------------------------------------------------------------------------\n",
      "which dji products have the best customer reviews?\n"
     ]
    },
    {
     "name": "stderr",
     "output_type": "stream",
     "text": [
      "Batches: 100%|██████████| 1/1 [00:00<00:00, 15.96it/s]\n",
      "Batches: 100%|██████████| 1/1 [00:00<00:00, 34.40it/s]\n",
      "Batches: 100%|██████████| 1/1 [00:00<00:00,  5.69it/s]\n",
      " 83%|████████▎ | 194/233 [15:53<03:56,  6.07s/it]"
     ]
    },
    {
     "name": "stdout",
     "output_type": "stream",
     "text": [
      "----------------------------------------------------------------------------------------------------\n",
      "what's the rating for cd fundraising products?\n"
     ]
    },
    {
     "name": "stderr",
     "output_type": "stream",
     "text": [
      "Batches: 100%|██████████| 1/1 [00:00<00:00, 12.70it/s]\n",
      "Batches: 100%|██████████| 1/1 [00:00<00:00, 21.52it/s]\n"
     ]
    },
    {
     "name": "stdout",
     "output_type": "stream",
     "text": [
      "Sorry, the brand you are looking for is not available!\n"
     ]
    },
    {
     "name": "stderr",
     "output_type": "stream",
     "text": [
      "Batches: 100%|██████████| 1/1 [00:00<00:00, 12.32it/s]\n",
      " 84%|████████▎ | 195/233 [15:59<03:50,  6.06s/it]"
     ]
    },
    {
     "name": "stdout",
     "output_type": "stream",
     "text": [
      "----------------------------------------------------------------------------------------------------\n",
      "can i find a chess set from lion chess with a perfect rating?\n"
     ]
    },
    {
     "name": "stderr",
     "output_type": "stream",
     "text": [
      "Batches: 100%|██████████| 1/1 [00:00<00:00, 20.25it/s]\n",
      "Batches: 100%|██████████| 1/1 [00:00<00:00, 48.61it/s]\n",
      "Batches: 100%|██████████| 1/1 [00:00<00:00, 14.23it/s]\n",
      " 84%|████████▍ | 196/233 [16:03<03:20,  5.42s/it]"
     ]
    },
    {
     "name": "stdout",
     "output_type": "stream",
     "text": [
      "----------------------------------------------------------------------------------------------------\n",
      "what's the best price for think fun games for kids around age 9?\n"
     ]
    },
    {
     "name": "stderr",
     "output_type": "stream",
     "text": [
      "Batches: 100%|██████████| 1/1 [00:00<00:00, 26.40it/s]\n",
      "Batches: 100%|██████████| 1/1 [00:00<00:00, 48.63it/s]\n"
     ]
    },
    {
     "name": "stdout",
     "output_type": "stream",
     "text": [
      "Sorry, no relevant results!\n"
     ]
    },
    {
     "name": "stderr",
     "output_type": "stream",
     "text": [
      "Batches: 100%|██████████| 1/1 [00:00<00:00, 16.98it/s]\n",
      " 85%|████████▍ | 197/233 [16:09<03:17,  5.48s/it]"
     ]
    },
    {
     "name": "stdout",
     "output_type": "stream",
     "text": [
      "----------------------------------------------------------------------------------------------------\n",
      "can i find a highly-rated micro chargers product?\n"
     ]
    },
    {
     "name": "stderr",
     "output_type": "stream",
     "text": [
      "Batches: 100%|██████████| 1/1 [00:00<00:00, 23.01it/s]\n",
      "Batches: 100%|██████████| 1/1 [00:00<00:00, 39.68it/s]\n",
      "Batches: 100%|██████████| 1/1 [00:00<00:00,  2.80it/s]\n",
      " 85%|████████▍ | 198/233 [16:14<03:10,  5.45s/it]"
     ]
    },
    {
     "name": "stdout",
     "output_type": "stream",
     "text": [
      "----------------------------------------------------------------------------------------------------\n",
      "are there any products from unbekannt that have received a 4.5-star rating?\n"
     ]
    },
    {
     "name": "stderr",
     "output_type": "stream",
     "text": [
      "Batches: 100%|██████████| 1/1 [00:00<00:00, 18.02it/s]\n",
      "Batches: 100%|██████████| 1/1 [00:00<00:00, 44.24it/s]\n",
      "Batches: 100%|██████████| 1/1 [00:00<00:00, 12.15it/s]\n",
      " 85%|████████▌ | 199/233 [16:18<02:48,  4.95s/it]"
     ]
    },
    {
     "name": "stdout",
     "output_type": "stream",
     "text": [
      "----------------------------------------------------------------------------------------------------\n",
      "is the model kasten from the brand available for a 10-year-old?\n"
     ]
    },
    {
     "name": "stderr",
     "output_type": "stream",
     "text": [
      "Batches: 100%|██████████| 1/1 [00:00<00:00, 14.18it/s]\n",
      "Batches: 100%|██████████| 1/1 [00:00<00:00, 45.96it/s]\n"
     ]
    },
    {
     "name": "stdout",
     "output_type": "stream",
     "text": [
      "Sorry, the brand you are looking for is not available!\n"
     ]
    },
    {
     "name": "stderr",
     "output_type": "stream",
     "text": [
      "Batches: 100%|██████████| 1/1 [00:00<00:00, 16.16it/s]\n",
      " 86%|████████▌ | 200/233 [16:23<02:38,  4.81s/it]"
     ]
    },
    {
     "name": "stdout",
     "output_type": "stream",
     "text": [
      "----------------------------------------------------------------------------------------------------\n",
      "looking for a highly-rated freeing product for about $12. any recommendations?\n"
     ]
    },
    {
     "name": "stderr",
     "output_type": "stream",
     "text": [
      "Batches: 100%|██████████| 1/1 [00:00<00:00, 20.35it/s]\n",
      "Batches: 100%|██████████| 1/1 [00:00<00:00, 22.87it/s]\n",
      "Batches: 100%|██████████| 1/1 [00:00<00:00, 14.23it/s]\n",
      " 86%|████████▋ | 201/233 [16:27<02:29,  4.67s/it]"
     ]
    },
    {
     "name": "stdout",
     "output_type": "stream",
     "text": [
      "----------------------------------------------------------------------------------------------------\n",
      "best gears of war gear with top ratings for a few bucks?\n"
     ]
    },
    {
     "name": "stderr",
     "output_type": "stream",
     "text": [
      "Batches: 100%|██████████| 1/1 [00:00<00:00, 22.73it/s]\n",
      "Batches: 100%|██████████| 1/1 [00:00<00:00, 48.46it/s]\n",
      "Batches: 100%|██████████| 1/1 [00:00<00:00,  2.60it/s]\n",
      " 87%|████████▋ | 202/233 [16:33<02:35,  5.01s/it]"
     ]
    },
    {
     "name": "stdout",
     "output_type": "stream",
     "text": [
      "----------------------------------------------------------------------------------------------------\n",
      "can i find qj products around $3.00 with good ratings?\n"
     ]
    },
    {
     "name": "stderr",
     "output_type": "stream",
     "text": [
      "Batches: 100%|██████████| 1/1 [00:00<00:00, 13.65it/s]\n",
      "Batches: 100%|██████████| 1/1 [00:00<00:00, 38.30it/s]\n",
      "Batches: 100%|██████████| 1/1 [00:00<00:00, 12.18it/s]\n",
      " 87%|████████▋ | 203/233 [16:38<02:27,  4.93s/it]"
     ]
    },
    {
     "name": "stdout",
     "output_type": "stream",
     "text": [
      "----------------------------------------------------------------------------------------------------\n",
      "are there any how to train your dragon products with a rating above 4 stars?\n"
     ]
    },
    {
     "name": "stderr",
     "output_type": "stream",
     "text": [
      "Batches: 100%|██████████| 1/1 [00:00<00:00,  6.84it/s]\n",
      "Batches: 100%|██████████| 1/1 [00:00<00:00, 16.81it/s]\n",
      "Batches: 100%|██████████| 1/1 [00:00<00:00,  2.44it/s]\n",
      " 88%|████████▊ | 204/233 [16:45<02:48,  5.82s/it]"
     ]
    },
    {
     "name": "stdout",
     "output_type": "stream",
     "text": [
      "----------------------------------------------------------------------------------------------------\n",
      "what's the price of the releaserain product with a perfect 5-star rating?\n"
     ]
    },
    {
     "name": "stderr",
     "output_type": "stream",
     "text": [
      "Batches: 100%|██████████| 1/1 [00:00<00:00,  8.31it/s]\n",
      "Batches: 100%|██████████| 1/1 [00:00<00:00, 17.11it/s]\n",
      "Batches: 100%|██████████| 1/1 [00:00<00:00,  2.06it/s]\n",
      " 88%|████████▊ | 205/233 [16:50<02:35,  5.55s/it]"
     ]
    },
    {
     "name": "stdout",
     "output_type": "stream",
     "text": [
      "----------------------------------------------------------------------------------------------------\n",
      "are there any ducati products available for around $14?\n"
     ]
    },
    {
     "name": "stderr",
     "output_type": "stream",
     "text": [
      "Batches: 100%|██████████| 1/1 [00:00<00:00,  7.09it/s]\n",
      "Batches: 100%|██████████| 1/1 [00:00<00:00, 22.55it/s]\n",
      "Batches: 100%|██████████| 1/1 [00:00<00:00,  2.11it/s]\n",
      " 88%|████████▊ | 206/233 [16:55<02:22,  5.28s/it]"
     ]
    },
    {
     "name": "stdout",
     "output_type": "stream",
     "text": [
      "----------------------------------------------------------------------------------------------------\n",
      "are there any huntgold products available for around $3?\n"
     ]
    },
    {
     "name": "stderr",
     "output_type": "stream",
     "text": [
      "Batches: 100%|██████████| 1/1 [00:00<00:00, 24.51it/s]\n",
      "Batches: 100%|██████████| 1/1 [00:00<00:00, 34.65it/s]\n",
      "Batches: 100%|██████████| 1/1 [00:00<00:00,  8.17it/s]\n",
      " 89%|████████▉ | 207/233 [16:59<02:11,  5.05s/it]"
     ]
    },
    {
     "name": "stdout",
     "output_type": "stream",
     "text": [
      "----------------------------------------------------------------------------------------------------\n",
      "what are some top-rated precious petzzz items?\n"
     ]
    },
    {
     "name": "stderr",
     "output_type": "stream",
     "text": [
      "Batches: 100%|██████████| 1/1 [00:00<00:00, 43.70it/s]\n",
      "Batches: 100%|██████████| 1/1 [00:00<00:00, 47.85it/s]\n",
      "Batches: 100%|██████████| 1/1 [00:00<00:00,  2.22it/s]\n",
      " 89%|████████▉ | 208/233 [17:05<02:07,  5.09s/it]"
     ]
    },
    {
     "name": "stdout",
     "output_type": "stream",
     "text": [
      "----------------------------------------------------------------------------------------------------\n",
      "where can i buy illoom balloons purple - pack of 5 for $3.0?\n"
     ]
    },
    {
     "name": "stderr",
     "output_type": "stream",
     "text": [
      "Batches: 100%|██████████| 1/1 [00:00<00:00, 18.02it/s]\n",
      "Batches: 100%|██████████| 1/1 [00:00<00:00, 45.17it/s]\n"
     ]
    },
    {
     "name": "stdout",
     "output_type": "stream",
     "text": [
      "Sorry, the brand you are looking for is not available!\n"
     ]
    },
    {
     "name": "stderr",
     "output_type": "stream",
     "text": [
      "Batches: 100%|██████████| 1/1 [00:00<00:00, 12.91it/s]\n",
      " 90%|████████▉ | 209/233 [17:09<01:58,  4.96s/it]"
     ]
    },
    {
     "name": "stdout",
     "output_type": "stream",
     "text": [
      "----------------------------------------------------------------------------------------------------\n",
      "show me amdxd items that are highly rated.\n"
     ]
    },
    {
     "name": "stderr",
     "output_type": "stream",
     "text": [
      "Batches: 100%|██████████| 1/1 [00:00<00:00, 36.06it/s]\n",
      "Batches: 100%|██████████| 1/1 [00:00<00:00, 19.87it/s]\n",
      "Batches: 100%|██████████| 1/1 [00:00<00:00,  2.14it/s]\n",
      " 90%|█████████ | 210/233 [17:14<01:54,  5.00s/it]"
     ]
    },
    {
     "name": "stdout",
     "output_type": "stream",
     "text": [
      "----------------------------------------------------------------------------------------------------\n",
      "looking for highly-rated pst items for a 5-year-old, any suggestions?\n"
     ]
    },
    {
     "name": "stderr",
     "output_type": "stream",
     "text": [
      "Batches: 100%|██████████| 1/1 [00:00<00:00,  8.80it/s]\n",
      "Batches: 100%|██████████| 1/1 [00:00<00:00, 40.18it/s]\n",
      "Batches: 100%|██████████| 1/1 [00:00<00:00,  4.72it/s]\n",
      " 91%|█████████ | 211/233 [17:20<01:50,  5.03s/it]"
     ]
    },
    {
     "name": "stdout",
     "output_type": "stream",
     "text": [
      "----------------------------------------------------------------------------------------------------\n",
      "can i find playteachers items with a rating of at least 4 stars?\n"
     ]
    },
    {
     "name": "stderr",
     "output_type": "stream",
     "text": [
      "Batches: 100%|██████████| 1/1 [00:00<00:00, 27.34it/s]\n",
      "Batches: 100%|██████████| 1/1 [00:00<00:00, 46.04it/s]\n",
      "Batches: 100%|██████████| 1/1 [00:00<00:00, 11.67it/s]\n",
      " 91%|█████████ | 212/233 [17:24<01:40,  4.80s/it]"
     ]
    },
    {
     "name": "stdout",
     "output_type": "stream",
     "text": [
      "----------------------------------------------------------------------------------------------------\n",
      "show me mtg products with a 5-star rating.\n"
     ]
    },
    {
     "name": "stderr",
     "output_type": "stream",
     "text": [
      "Batches: 100%|██████████| 1/1 [00:00<00:00, 29.14it/s]\n",
      "Batches: 100%|██████████| 1/1 [00:00<00:00, 46.94it/s]\n",
      "Batches: 100%|██████████| 1/1 [00:00<00:00, 15.73it/s]\n",
      " 91%|█████████▏| 213/233 [17:28<01:32,  4.63s/it]"
     ]
    },
    {
     "name": "stdout",
     "output_type": "stream",
     "text": [
      "----------------------------------------------------------------------------------------------------\n",
      "show me philos products with a 5-star rating.\n"
     ]
    },
    {
     "name": "stderr",
     "output_type": "stream",
     "text": [
      "Batches: 100%|██████████| 1/1 [00:00<00:00, 30.26it/s]\n",
      "Batches: 100%|██████████| 1/1 [00:00<00:00, 48.09it/s]\n"
     ]
    },
    {
     "name": "stdout",
     "output_type": "stream",
     "text": [
      "Sorry, the brand you are looking for is not available!\n"
     ]
    },
    {
     "name": "stderr",
     "output_type": "stream",
     "text": [
      "Batches: 100%|██████████| 1/1 [00:00<00:00, 11.13it/s]\n",
      " 92%|█████████▏| 214/233 [17:33<01:29,  4.70s/it]"
     ]
    },
    {
     "name": "stdout",
     "output_type": "stream",
     "text": [
      "----------------------------------------------------------------------------------------------------\n",
      "are there any huch & friends products with a perfect 5.0 rating?\n"
     ]
    },
    {
     "name": "stderr",
     "output_type": "stream",
     "text": [
      "Batches: 100%|██████████| 1/1 [00:00<00:00, 27.76it/s]\n",
      "Batches: 100%|██████████| 1/1 [00:00<00:00, 44.67it/s]\n",
      "Batches: 100%|██████████| 1/1 [00:00<00:00, 12.88it/s]\n",
      " 92%|█████████▏| 215/233 [17:37<01:22,  4.61s/it]"
     ]
    },
    {
     "name": "stdout",
     "output_type": "stream",
     "text": [
      "----------------------------------------------------------------------------------------------------\n",
      "are there any highly rated items from the expression factory?\n"
     ]
    },
    {
     "name": "stderr",
     "output_type": "stream",
     "text": [
      "Batches: 100%|██████████| 1/1 [00:00<00:00, 23.60it/s]\n",
      "Batches: 100%|██████████| 1/1 [00:00<00:00, 27.95it/s]\n",
      "Batches: 100%|██████████| 1/1 [00:00<00:00,  3.03it/s]\n",
      " 93%|█████████▎| 216/233 [17:42<01:19,  4.69s/it]"
     ]
    },
    {
     "name": "stdout",
     "output_type": "stream",
     "text": [
      "----------------------------------------------------------------------------------------------------\n",
      "what are the best playing cards from the united states playing card company for around $3?\n"
     ]
    },
    {
     "name": "stderr",
     "output_type": "stream",
     "text": [
      "Batches: 100%|██████████| 1/1 [00:00<00:00, 21.42it/s]\n",
      "Batches: 100%|██████████| 1/1 [00:00<00:00, 45.38it/s]\n"
     ]
    },
    {
     "name": "stdout",
     "output_type": "stream",
     "text": [
      "Sorry, the brand you are looking for is not available!\n"
     ]
    },
    {
     "name": "stderr",
     "output_type": "stream",
     "text": [
      "Batches: 100%|██████████| 1/1 [00:00<00:00, 11.88it/s]\n",
      " 93%|█████████▎| 217/233 [17:47<01:13,  4.61s/it]"
     ]
    },
    {
     "name": "stdout",
     "output_type": "stream",
     "text": [
      "----------------------------------------------------------------------------------------------------\n",
      "what freeing items are available for $12 and have a 5.0 rating?\n"
     ]
    },
    {
     "name": "stderr",
     "output_type": "stream",
     "text": [
      "Batches: 100%|██████████| 1/1 [00:00<00:00, 30.81it/s]\n",
      "Batches: 100%|██████████| 1/1 [00:00<00:00, 45.45it/s]\n",
      "Batches: 100%|██████████| 1/1 [00:00<00:00, 16.23it/s]\n",
      " 94%|█████████▎| 218/233 [17:51<01:06,  4.46s/it]"
     ]
    },
    {
     "name": "stdout",
     "output_type": "stream",
     "text": [
      "----------------------------------------------------------------------------------------------------\n",
      "are there any highly-rated products by theworks for around $5?\n"
     ]
    },
    {
     "name": "stderr",
     "output_type": "stream",
     "text": [
      "Batches: 100%|██████████| 1/1 [00:00<00:00, 17.08it/s]\n",
      "Batches: 100%|██████████| 1/1 [00:00<00:00, 20.97it/s]\n",
      "Batches: 100%|██████████| 1/1 [00:00<00:00, 13.84it/s]\n",
      " 94%|█████████▍| 219/233 [17:55<01:02,  4.48s/it]"
     ]
    },
    {
     "name": "stdout",
     "output_type": "stream",
     "text": [
      "----------------------------------------------------------------------------------------------------\n",
      "what can i find for around 3 dollars with a 5-star rating on partyfest.de?\n"
     ]
    },
    {
     "name": "stderr",
     "output_type": "stream",
     "text": [
      "Batches: 100%|██████████| 1/1 [00:00<00:00, 14.83it/s]\n",
      "Batches: 100%|██████████| 1/1 [00:00<00:00, 39.70it/s]\n",
      "Batches: 100%|██████████| 1/1 [00:00<00:00, 16.54it/s]\n",
      " 94%|█████████▍| 220/233 [17:59<00:56,  4.38s/it]"
     ]
    },
    {
     "name": "stdout",
     "output_type": "stream",
     "text": [
      "----------------------------------------------------------------------------------------------------\n",
      "best animewild products with a rating above 4 stars?\n"
     ]
    },
    {
     "name": "stderr",
     "output_type": "stream",
     "text": [
      "Batches: 100%|██████████| 1/1 [00:00<00:00, 27.01it/s]\n",
      "Batches: 100%|██████████| 1/1 [00:00<00:00, 48.42it/s]\n",
      "Batches: 100%|██████████| 1/1 [00:00<00:00,  3.26it/s]\n",
      " 95%|█████████▍| 221/233 [18:04<00:53,  4.45s/it]"
     ]
    },
    {
     "name": "stdout",
     "output_type": "stream",
     "text": [
      "----------------------------------------------------------------------------------------------------\n",
      "are there any top-rated kaleidoscope toys suitable for a 3-year-old?\n"
     ]
    },
    {
     "name": "stderr",
     "output_type": "stream",
     "text": [
      "Batches: 100%|██████████| 1/1 [00:00<00:00, 32.29it/s]\n",
      "Batches: 100%|██████████| 1/1 [00:00<00:00, 31.77it/s]\n",
      "Batches: 100%|██████████| 1/1 [00:00<00:00,  3.95it/s]\n",
      " 95%|█████████▌| 222/233 [18:10<00:54,  4.95s/it]"
     ]
    },
    {
     "name": "stdout",
     "output_type": "stream",
     "text": [
      "----------------------------------------------------------------------------------------------------\n",
      "can i find a freeing product priced at $12 with top ratings?\n"
     ]
    },
    {
     "name": "stderr",
     "output_type": "stream",
     "text": [
      "Batches: 100%|██████████| 1/1 [00:00<00:00,  6.37it/s]\n",
      "Batches: 100%|██████████| 1/1 [00:00<00:00, 19.46it/s]\n"
     ]
    },
    {
     "name": "stdout",
     "output_type": "stream",
     "text": [
      "Sorry, no relevant results!\n"
     ]
    },
    {
     "name": "stderr",
     "output_type": "stream",
     "text": [
      "Batches: 100%|██████████| 1/1 [00:00<00:00, 17.68it/s]\n",
      " 96%|█████████▌| 223/233 [18:15<00:49,  5.00s/it]"
     ]
    },
    {
     "name": "stdout",
     "output_type": "stream",
     "text": [
      "----------------------------------------------------------------------------------------------------\n",
      "show me dji products with a 5-star rating.\n"
     ]
    },
    {
     "name": "stderr",
     "output_type": "stream",
     "text": [
      "Batches: 100%|██████████| 1/1 [00:00<00:00, 20.93it/s]\n",
      "Batches: 100%|██████████| 1/1 [00:00<00:00, 47.14it/s]\n",
      "Batches: 100%|██████████| 1/1 [00:00<00:00,  8.36it/s]\n",
      " 96%|█████████▌| 224/233 [18:22<00:48,  5.41s/it]"
     ]
    },
    {
     "name": "stdout",
     "output_type": "stream",
     "text": [
      "----------------------------------------------------------------------------------------------------\n",
      "what cat construction products are available for $12 with a high rating?\n"
     ]
    },
    {
     "name": "stderr",
     "output_type": "stream",
     "text": [
      "Batches: 100%|██████████| 1/1 [00:00<00:00, 19.16it/s]\n",
      "Batches: 100%|██████████| 1/1 [00:00<00:00, 28.60it/s]\n"
     ]
    },
    {
     "name": "stdout",
     "output_type": "stream",
     "text": [
      "Sorry, the brand you are looking for is not available!\n"
     ]
    },
    {
     "name": "stderr",
     "output_type": "stream",
     "text": [
      "Batches: 100%|██████████| 1/1 [00:00<00:00,  2.85it/s]\n",
      " 97%|█████████▋| 225/233 [18:28<00:45,  5.72s/it]"
     ]
    },
    {
     "name": "stdout",
     "output_type": "stream",
     "text": [
      "----------------------------------------------------------------------------------------------------\n",
      "are there any scrunch buckets with a 5-star rating available?\n"
     ]
    },
    {
     "name": "stderr",
     "output_type": "stream",
     "text": [
      "Batches: 100%|██████████| 1/1 [00:00<00:00, 15.85it/s]\n",
      "Batches: 100%|██████████| 1/1 [00:00<00:00, 44.42it/s]\n"
     ]
    },
    {
     "name": "stdout",
     "output_type": "stream",
     "text": [
      "Sorry, the brand you are looking for is not available!\n"
     ]
    },
    {
     "name": "stderr",
     "output_type": "stream",
     "text": [
      "Batches: 100%|██████████| 1/1 [00:00<00:00,  2.73it/s]\n",
      " 97%|█████████▋| 226/233 [18:35<00:42,  6.03s/it]"
     ]
    },
    {
     "name": "stdout",
     "output_type": "stream",
     "text": [
      "----------------------------------------------------------------------------------------------------\n",
      "are there any bigmouthinc. items with a 5-star rating?\n"
     ]
    },
    {
     "name": "stderr",
     "output_type": "stream",
     "text": [
      "Batches: 100%|██████████| 1/1 [00:00<00:00, 27.65it/s]\n",
      "Batches: 100%|██████████| 1/1 [00:00<00:00, 32.44it/s]\n",
      "Batches: 100%|██████████| 1/1 [00:00<00:00,  3.73it/s]\n",
      " 97%|█████████▋| 227/233 [18:39<00:33,  5.56s/it]"
     ]
    },
    {
     "name": "stdout",
     "output_type": "stream",
     "text": [
      "----------------------------------------------------------------------------------------------------\n",
      "can i find playing cards from the united states playing card company with a 4.5-star rating for $3?\n"
     ]
    },
    {
     "name": "stderr",
     "output_type": "stream",
     "text": [
      "Batches: 100%|██████████| 1/1 [00:00<00:00,  7.19it/s]\n",
      "Batches: 100%|██████████| 1/1 [00:00<00:00,  4.40it/s]\n"
     ]
    },
    {
     "name": "stdout",
     "output_type": "stream",
     "text": [
      "Sorry, the brand you are looking for is not available!\n"
     ]
    },
    {
     "name": "stderr",
     "output_type": "stream",
     "text": [
      "Batches: 100%|██████████| 1/1 [00:00<00:00,  2.83it/s]\n",
      " 98%|█████████▊| 228/233 [18:45<00:28,  5.74s/it]"
     ]
    },
    {
     "name": "stdout",
     "output_type": "stream",
     "text": [
      "----------------------------------------------------------------------------------------------------\n",
      "show me toy zany toys that cost $3.00 and have top ratings.\n"
     ]
    },
    {
     "name": "stderr",
     "output_type": "stream",
     "text": [
      "Batches: 100%|██████████| 1/1 [00:00<00:00, 19.76it/s]\n",
      "Batches: 100%|██████████| 1/1 [00:00<00:00, 45.99it/s]\n"
     ]
    },
    {
     "name": "stdout",
     "output_type": "stream",
     "text": [
      "Sorry, the brand you are looking for is not available!\n"
     ]
    },
    {
     "name": "stderr",
     "output_type": "stream",
     "text": [
      "Batches: 100%|██████████| 1/1 [00:00<00:00,  6.77it/s]\n",
      " 98%|█████████▊| 229/233 [18:50<00:21,  5.39s/it]"
     ]
    },
    {
     "name": "stdout",
     "output_type": "stream",
     "text": [
      "----------------------------------------------------------------------------------------------------\n",
      "where can i find cuddlekins products with a 5-star rating?\n"
     ]
    },
    {
     "name": "stderr",
     "output_type": "stream",
     "text": [
      "Batches: 100%|██████████| 1/1 [00:00<00:00, 24.30it/s]\n",
      "Batches: 100%|██████████| 1/1 [00:00<00:00, 44.29it/s]\n",
      "Batches: 100%|██████████| 1/1 [00:00<00:00,  2.49it/s]\n",
      " 99%|█████████▊| 230/233 [18:55<00:15,  5.26s/it]"
     ]
    },
    {
     "name": "stdout",
     "output_type": "stream",
     "text": [
      "----------------------------------------------------------------------------------------------------\n",
      "where can i buy a $14 ice cream with a 5-star rating for a 14-year-old?\n"
     ]
    },
    {
     "name": "stderr",
     "output_type": "stream",
     "text": [
      "Batches: 100%|██████████| 1/1 [00:00<00:00,  9.66it/s]\n",
      "Batches: 100%|██████████| 1/1 [00:00<00:00, 19.12it/s]\n",
      "Batches: 100%|██████████| 1/1 [00:00<00:00,  2.11it/s]\n",
      " 99%|█████████▉| 231/233 [19:00<00:10,  5.12s/it]"
     ]
    },
    {
     "name": "stdout",
     "output_type": "stream",
     "text": [
      "----------------------------------------------------------------------------------------------------\n",
      "what's the rating for products from ultrabyeasypeasystore?\n"
     ]
    },
    {
     "name": "stderr",
     "output_type": "stream",
     "text": [
      "Batches: 100%|██████████| 1/1 [00:00<00:00, 20.63it/s]\n",
      "Batches: 100%|██████████| 1/1 [00:00<00:00, 32.66it/s]\n",
      "Batches: 100%|██████████| 1/1 [00:00<00:00,  2.64it/s]\n",
      "100%|█████████▉| 232/233 [19:08<00:05,  5.97s/it]"
     ]
    },
    {
     "name": "stdout",
     "output_type": "stream",
     "text": [
      "----------------------------------------------------------------------------------------------------\n",
      "looking for a 5-star rated item from footprintdirect.co.uk that's affordable?\n"
     ]
    },
    {
     "name": "stderr",
     "output_type": "stream",
     "text": [
      "Batches: 100%|██████████| 1/1 [00:00<00:00, 10.06it/s]\n",
      "Batches: 100%|██████████| 1/1 [00:00<00:00, 20.53it/s]\n",
      "Batches: 100%|██████████| 1/1 [00:00<00:00,  2.78it/s]\n",
      "100%|██████████| 233/233 [19:13<00:00,  4.95s/it]"
     ]
    },
    {
     "name": "stdout",
     "output_type": "stream",
     "text": [
      "----------------------------------------------------------------------------------------------------\n"
     ]
    },
    {
     "name": "stderr",
     "output_type": "stream",
     "text": [
      "\n"
     ]
    }
   ],
   "source": [
    "from tqdm import tqdm\n",
    "res = []\n",
    "for query in tqdm(queries):\n",
    "    print(query)\n",
    "    biencoder_hits = search_reviews(query, corpus_embeddings_dict, embedder, 10)\n",
    "    biencoder_results = get_results(biencoder_hits, top_n=10)\n",
    "\n",
    "    cross_encoder_hits = cross_encoder_search(query, corpus_embeddings_dict, embedder, cross_encoder, top_k=10, top_n=10)\n",
    "    cross_encoder_results = get_results(cross_encoder_hits, top_n=10)\n",
    "\n",
    "    keyword_results = bm25_search_reviews(query, corpus_processed, top_n=10)\n",
    "    keyword_results = get_results(keyword_results, top_n=10)\n",
    "    \n",
    "    response, matched = hybrid_search(query, df, corpus_embeddings_dict, llm_client=llm_client, embedder=embedder, cross_encoder=cross_encoder, top_k=10, top_n=10);\n",
    "    hybrid_search_results = get_results(response, top_n=10)\n",
    "    # print(response)\n",
    "    if len(hybrid_search_results) != 0:\n",
    "        res.append({\n",
    "            \"query\": query,\n",
    "            \"cross_encoder_search_results\": cross_encoder_results,\n",
    "            \"biencoder_search_results\": biencoder_results,\n",
    "            \"keyword_search_results\": keyword_results,\n",
    "            \"hybrid_search_results\": hybrid_search_results,\n",
    "        })\n",
    "    print(\"-\"*100)"
   ]
  },
  {
   "cell_type": "code",
   "execution_count": 20,
   "metadata": {},
   "outputs": [],
   "source": [
    "import json\n",
    "with open('eval.json', 'w') as f:\n",
    "    json.dump(res, f, indent=4)"
   ]
  },
  {
   "cell_type": "code",
   "execution_count": null,
   "metadata": {},
   "outputs": [],
   "source": []
  }
 ],
 "metadata": {
  "kernelspec": {
   "display_name": "venv",
   "language": "python",
   "name": "python3"
  },
  "language_info": {
   "codemirror_mode": {
    "name": "ipython",
    "version": 3
   },
   "file_extension": ".py",
   "mimetype": "text/x-python",
   "name": "python",
   "nbconvert_exporter": "python",
   "pygments_lexer": "ipython3",
   "version": "3.10.15"
  }
 },
 "nbformat": 4,
 "nbformat_minor": 2
}
