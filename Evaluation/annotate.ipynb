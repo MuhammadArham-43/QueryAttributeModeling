{
 "cells": [
  {
   "cell_type": "code",
   "execution_count": 1,
   "metadata": {},
   "outputs": [],
   "source": [
    "import json\n",
    "\n",
    "with open('eval.json', 'r') as f:\n",
    "    data = json.load(f)"
   ]
  },
  {
   "cell_type": "code",
   "execution_count": 2,
   "metadata": {},
   "outputs": [
    {
     "data": {
      "text/plain": [
       "233"
      ]
     },
     "execution_count": 2,
     "metadata": {},
     "output_type": "execute_result"
    }
   ],
   "source": [
    "len(data)"
   ]
  },
  {
   "cell_type": "code",
   "execution_count": 3,
   "metadata": {},
   "outputs": [],
   "source": [
    "point = data[0]"
   ]
  },
  {
   "cell_type": "code",
   "execution_count": 4,
   "metadata": {},
   "outputs": [],
   "source": [
    "query = point['query']\n",
    "biencoder_results = point['biencoder_search_results']\n",
    "cross_encoder_results = point['cross_encoder_search_results']\n",
    "keyword_results = point['keyword_search_results']\n",
    "hybrid_search_results = point['hybrid_search_results']"
   ]
  },
  {
   "cell_type": "code",
   "execution_count": 5,
   "metadata": {},
   "outputs": [
    {
     "data": {
      "text/plain": [
       "'can i get a 5-star rated ban dai toy for my almost 4-year-old?'"
      ]
     },
     "execution_count": 5,
     "metadata": {},
     "output_type": "execute_result"
    }
   ],
   "source": [
    "query"
   ]
  },
  {
   "cell_type": "code",
   "execution_count": 6,
   "metadata": {},
   "outputs": [],
   "source": [
    "def format_results(result_dict):\n",
    "    result = \"\"\"Product: {product_name}\n",
    "Manufacturer: {manufacturer}\n",
    "Price: {price}\n",
    "Preferred Age: {preferred_age}\n",
    "Rating: {rating}\n",
    "Reviews: {reviews}\n",
    "    \"\"\"\n",
    "    return result.format(**result_dict)"
   ]
  },
  {
   "cell_type": "code",
   "execution_count": 7,
   "metadata": {},
   "outputs": [
    {
     "name": "stdout",
     "output_type": "stream",
     "text": [
      "Product: Teen Titans Shape-Shifting Beast Boy 5\" inch Faigure By Ban Dai in 2003 - The packet is not in mint condition\n",
      "Manufacturer: ban dai\n",
      "Price: 36.89\n",
      "Preferred Age: 4.0\n",
      "Rating: 5.0\n",
      "Reviews: ['Five Stars', 'delighted with this item']\n",
      "    \n"
     ]
    }
   ],
   "source": [
    "# hybrid_search_results[0]\n",
    "print(format_results(hybrid_search_results[0]))"
   ]
  },
  {
   "cell_type": "code",
   "execution_count": 8,
   "metadata": {},
   "outputs": [],
   "source": [
    "LLM_PROMPT = \"\"\"\n",
    "You are a judge for an information retrieval system. \n",
    "You will be given a query and a list of results. You need to annotate the results based on the query.\n",
    "Return a binary answer, where 1 means the result is relevant to the query and 0 means it is not.\n",
    "The query will be a human-language input to search for a product.\n",
    "The results will a product description returned by our system.\n",
    "\n",
    "The result is relevant if it follows the query.\n",
    "If the query mentions a manufacturer or brand, the result is relevant if it is made by that manufacturer or brand.\n",
    "If the query mentions a product category, the result is relevant if it is in that category.\n",
    "If the query mentions a price, the returned result should be within 20 percent of the price.\n",
    "If the query mentions a preferred age, the returned result should be within the range of the preferred age.\n",
    "Keep in mind, the query may contain subjective information, so the result should be relevant if they are similar to the query.\n",
    "\n",
    "Return a binary value, where 1 means the result is relevant to the query and 0 means it is not.\n",
    "Query: {query}\n",
    "Results: {search_results}\n",
    "\n",
    "Make sure to return a binary value, where 1 means the result is relevant to the query and 0 means it is not.\n",
    "Output the result in JSON format, within ```json and ``` tags.\n",
    "The JSON should have two keys, explanation and answer.\n",
    "explanation should be a short explanation of why the result is relevant or not.\n",
    "answer should be a binary value, where 1 means the result is relevant to the query and 0 means it is not.\n",
    "\"\"\"\n"
   ]
  },
  {
   "cell_type": "code",
   "execution_count": 9,
   "metadata": {},
   "outputs": [],
   "source": [
    "from openai import AzureOpenAI\n",
    "llm_client = AzureOpenAI(\n",
    "    api_key=\"\",\n",
    "    api_version=\"2024-02-15-preview\",\n",
    "    azure_endpoint=\"\",\n",
    "    azure_deployment=\"gpt-4o-large\"\n",
    ")"
   ]
  },
  {
   "cell_type": "code",
   "execution_count": 10,
   "metadata": {},
   "outputs": [
    {
     "name": "stdout",
     "output_type": "stream",
     "text": [
      "can i get a 5-star rated ban dai toy for my almost 4-year-old?\n"
     ]
    }
   ],
   "source": [
    "print(query)"
   ]
  },
  {
   "cell_type": "code",
   "execution_count": 11,
   "metadata": {},
   "outputs": [
    {
     "name": "stdout",
     "output_type": "stream",
     "text": [
      "Product: Schleich Dragon Knight King on Horse Action Figure\n",
      "Manufacturer: schleich\n",
      "Price: 15.98\n",
      "Preferred Age: 3.0\n",
      "Rating: 4.7\n",
      "Reviews: ['Great toy - my 4 year old son and his cousin had lots of fun over Christmas.  Five Stars']\n",
      "    \n",
      "Product: Schleich Dragon Knight King on Horse Action Figure\n",
      "Manufacturer: schleich\n",
      "Price: 15.98\n",
      "Preferred Age: 3.0\n",
      "Rating: 4.7\n",
      "Reviews: ['Great toy - my 4 year old son and his cousin had lots of fun over Christmas.  Five Stars']\n",
      "    \n",
      "Product: Teen Titans Shape-Shifting Beast Boy 5\" inch Faigure By Ban Dai in 2003 - The packet is not in mint condition\n",
      "Manufacturer: ban dai\n",
      "Price: 36.89\n",
      "Preferred Age: 4.0\n",
      "Rating: 5.0\n",
      "Reviews: ['Five Stars', 'delighted with this item']\n",
      "    \n",
      "Product: Teen Titans Shape-Shifting Beast Boy 5\" inch Faigure By Ban Dai in 2003 - The packet is not in mint condition\n",
      "Manufacturer: ban dai\n",
      "Price: 36.89\n",
      "Preferred Age: 4.0\n",
      "Rating: 5.0\n",
      "Reviews: ['Five Stars', 'delighted with this item']\n",
      "    \n"
     ]
    }
   ],
   "source": [
    "print(format_results(biencoder_results[0]))\n",
    "print(format_results(cross_encoder_results[0]))\n",
    "print(format_results(keyword_results[0]))\n",
    "print(format_results(hybrid_search_results[0]))"
   ]
  },
  {
   "cell_type": "code",
   "execution_count": null,
   "metadata": {},
   "outputs": [],
   "source": []
  },
  {
   "cell_type": "code",
   "execution_count": 12,
   "metadata": {},
   "outputs": [],
   "source": [
    "response = llm_client.chat.completions.create(\n",
    "    model=\"gpt-4o-large\",\n",
    "    messages=[{\"role\": \"user\", \"content\": LLM_PROMPT.format(query=query, search_results=format_results(biencoder_results[0]))}],\n",
    "    temperature=0,\n",
    "    max_tokens=1000,\n",
    ")\n",
    "response = response.choices[0].message.content"
   ]
  },
  {
   "cell_type": "code",
   "execution_count": 13,
   "metadata": {},
   "outputs": [],
   "source": [
    "import re\n",
    "def parse_results(response):\n",
    "    result = re.search(r'```json\\s*([\\s\\S]*?)\\s*```', response) \n",
    "    result = result.group(1)\n",
    "    result = json.loads(result)\n",
    "    return result['answer'], result['explanation']\n"
   ]
  },
  {
   "cell_type": "code",
   "execution_count": 14,
   "metadata": {},
   "outputs": [
    {
     "data": {
      "text/plain": [
       "{'explanation': 'The result is not relevant because the manufacturer is Schleich, not Ban Dai, which was specifically mentioned in the query.',\n",
       " 'answer': 0}"
      ]
     },
     "execution_count": 14,
     "metadata": {},
     "output_type": "execute_result"
    }
   ],
   "source": [
    "import re\n",
    "result = re.search(r'```json\\s*([\\s\\S]*?)\\s*```', response)\n",
    "result = result.group(1)\n",
    "result = json.loads(result)\n",
    "result\n",
    "\n"
   ]
  },
  {
   "cell_type": "code",
   "execution_count": 15,
   "metadata": {},
   "outputs": [
    {
     "name": "stderr",
     "output_type": "stream",
     "text": [
      "100%|██████████| 233/233 [29:41<00:00,  7.65s/it]\n"
     ]
    }
   ],
   "source": [
    "from tqdm import tqdm\n",
    "res = []\n",
    "for item in tqdm(data):\n",
    "    query = item['query']\n",
    "    biencoder_results = item['keyword_search_results']\n",
    "    query_results = []\n",
    "    for result in biencoder_results:\n",
    "        retries = 3\n",
    "        result = format_results(result)\n",
    "        while retries > 0:\n",
    "            try:\n",
    "                response = llm_client.chat.completions.create(\n",
    "                    model=\"gpt-4o-large\",\n",
    "                    messages=[{\"role\": \"user\", \"content\": LLM_PROMPT.format(query=query, search_results=result)}],\n",
    "                    temperature=0,\n",
    "                    max_tokens=1000,\n",
    "                )\n",
    "                answer, explanation = parse_results(response.choices[0].message.content)\n",
    "                query_results.append({\"result\": result, \"answer\": answer, \"explanation\": explanation})\n",
    "                break\n",
    "            except Exception as e:\n",
    "                print(e)\n",
    "                retries -= 1\n",
    "    res.append({\"query\": query, \"results\": query_results})\n",
    "\n",
    "with open('keyword_results_annotated.json', 'w') as f:\n",
    "    json.dump(res, f, indent=4)\n"
   ]
  },
  {
   "cell_type": "code",
   "execution_count": 16,
   "metadata": {},
   "outputs": [
    {
     "data": {
      "text/plain": [
       "['query', 'results']"
      ]
     },
     "execution_count": 16,
     "metadata": {},
     "output_type": "execute_result"
    }
   ],
   "source": [
    "list(res[0])"
   ]
  },
  {
   "cell_type": "code",
   "execution_count": null,
   "metadata": {},
   "outputs": [],
   "source": []
  }
 ],
 "metadata": {
  "kernelspec": {
   "display_name": "venv",
   "language": "python",
   "name": "python3"
  },
  "language_info": {
   "codemirror_mode": {
    "name": "ipython",
    "version": 3
   },
   "file_extension": ".py",
   "mimetype": "text/x-python",
   "name": "python",
   "nbconvert_exporter": "python",
   "pygments_lexer": "ipython3",
   "version": "3.10.15"
  }
 },
 "nbformat": 4,
 "nbformat_minor": 2
}
