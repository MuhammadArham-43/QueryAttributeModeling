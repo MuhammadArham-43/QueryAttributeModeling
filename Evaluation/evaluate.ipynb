{
 "cells": [
  {
   "cell_type": "code",
   "execution_count": 1,
   "metadata": {},
   "outputs": [],
   "source": [
    "from typing import List\n",
    "import json"
   ]
  },
  {
   "cell_type": "code",
   "execution_count": 2,
   "metadata": {},
   "outputs": [],
   "source": [
    "def precision_at_k(results, k=5):\n",
    "    results = results[:k]\n",
    "    return sum(results) / len(results)"
   ]
  },
  {
   "cell_type": "code",
   "execution_count": 3,
   "metadata": {},
   "outputs": [],
   "source": [
    "def mean_precision_at_k(results, k=5):\n",
    "    precisions_at_k = []\n",
    "    for result in results:\n",
    "        precisions_at_k.append(precision_at_k(result, k))\n",
    "    return sum(precisions_at_k) / len(precisions_at_k)"
   ]
  },
  {
   "cell_type": "code",
   "execution_count": 4,
   "metadata": {},
   "outputs": [],
   "source": [
    "def average_precision_at_k(results, k=5):\n",
    "    results = results[:k]\n",
    "    total_relevant = 0\n",
    "    sum_ = 0\n",
    "    for i, val in enumerate(results):\n",
    "        if val == 1:\n",
    "            total_relevant += 1\n",
    "            p_at_k = total_relevant / (i + 1)\n",
    "            # print(p_at_k)\n",
    "            sum_ += p_at_k\n",
    "            # print(sum_)\n",
    "    if total_relevant == 0:\n",
    "        return 0\n",
    "    return sum_ / total_relevant"
   ]
  },
  {
   "cell_type": "code",
   "execution_count": 5,
   "metadata": {},
   "outputs": [],
   "source": [
    "def mean_average_precision_at_k(results: List[List[int]], k=5):\n",
    "    ap_at_k = []\n",
    "    for result in results:\n",
    "        ap_at_k.append(average_precision_at_k(result, k))\n",
    "    return sum(ap_at_k) / len(ap_at_k)"
   ]
  },
  {
   "cell_type": "code",
   "execution_count": 6,
   "metadata": {},
   "outputs": [
    {
     "name": "stdout",
     "output_type": "stream",
     "text": [
      "0.6666666666666666\n"
     ]
    }
   ],
   "source": [
    "test = [1, 0, 1, 0, 1]\n",
    "print(precision_at_k(test, 3))"
   ]
  },
  {
   "cell_type": "code",
   "execution_count": 7,
   "metadata": {},
   "outputs": [
    {
     "name": "stdout",
     "output_type": "stream",
     "text": [
      "0.5\n"
     ]
    }
   ],
   "source": [
    "test = [1,0,0,1,1,0]\n",
    "test = [0,1]\n",
    "print(average_precision_at_k(test, 6))"
   ]
  },
  {
   "cell_type": "code",
   "execution_count": 8,
   "metadata": {},
   "outputs": [
    {
     "name": "stdout",
     "output_type": "stream",
     "text": [
      "0.6000000000000001\n"
     ]
    }
   ],
   "source": [
    "test = [[1,0,0,1,1,0], [0,1]]\n",
    "print(mean_average_precision_at_k(test, 6))"
   ]
  },
  {
   "cell_type": "code",
   "execution_count": 9,
   "metadata": {},
   "outputs": [],
   "source": [
    "def get_results(file_name):\n",
    "    with open(file_name, \"r\") as f:\n",
    "        data = json.load(f)\n",
    "    results = []\n",
    "    for item in data:   \n",
    "        result = item[\"results\"]\n",
    "        result = list(map(lambda x: x['answer'], result))\n",
    "        results.append(result)\n",
    "    return results\n"
   ]
  },
  {
   "cell_type": "markdown",
   "metadata": {},
   "source": [
    "## Mean Precision and MAP Scoring Functions"
   ]
  },
  {
   "cell_type": "code",
   "execution_count": 10,
   "metadata": {},
   "outputs": [],
   "source": [
    "def get_mean_precision_scores(results):\n",
    "    mp_at_1 = mean_precision_at_k(results, 1)\n",
    "    mp_at_3 = mean_precision_at_k(results, 3)\n",
    "    mp_at_5 = mean_precision_at_k(results, 5)\n",
    "    mp_at_10 = mean_precision_at_k(results, 10)\n",
    "    return mp_at_1, mp_at_3, mp_at_5, mp_at_10"
   ]
  },
  {
   "cell_type": "code",
   "execution_count": 11,
   "metadata": {},
   "outputs": [],
   "source": [
    "def get_map_scores(results):\n",
    "    map_at_1 = mean_average_precision_at_k(results, 1)\n",
    "    map_at_3 = mean_average_precision_at_k(results, 3)\n",
    "    map_at_5 = mean_average_precision_at_k(results, 5)\n",
    "    map_at_10 = mean_average_precision_at_k(results, 10)\n",
    "    return map_at_1, map_at_3, map_at_5, map_at_10\n"
   ]
  },
  {
   "cell_type": "markdown",
   "metadata": {},
   "source": [
    "## Scores for Bi-Encoder"
   ]
  },
  {
   "cell_type": "code",
   "execution_count": 12,
   "metadata": {},
   "outputs": [],
   "source": [
    "biencoder_results = get_results(\"biencoder_annotated.json\")"
   ]
  },
  {
   "cell_type": "code",
   "execution_count": 13,
   "metadata": {},
   "outputs": [
    {
     "name": "stdout",
     "output_type": "stream",
     "text": [
      "(0.5278969957081545, 0.3733905579399141, 0.31044349070100197, 0.2938909326248384)\n"
     ]
    }
   ],
   "source": [
    "print(get_mean_precision_scores(biencoder_results))"
   ]
  },
  {
   "cell_type": "code",
   "execution_count": 14,
   "metadata": {},
   "outputs": [
    {
     "name": "stdout",
     "output_type": "stream",
     "text": [
      "(0.5278969957081545, 0.5901287553648066, 0.5889008106819265, 0.588250525532101)\n"
     ]
    }
   ],
   "source": [
    "print(get_map_scores(biencoder_results))"
   ]
  },
  {
   "cell_type": "markdown",
   "metadata": {},
   "source": [
    "## Scores for Cross-Encoder"
   ]
  },
  {
   "cell_type": "code",
   "execution_count": 15,
   "metadata": {},
   "outputs": [],
   "source": [
    "cross_encoder_results = get_results(\"cross_encoder_annotated.json\")"
   ]
  },
  {
   "cell_type": "code",
   "execution_count": 16,
   "metadata": {},
   "outputs": [
    {
     "name": "stdout",
     "output_type": "stream",
     "text": [
      "(0.5708154506437768, 0.3862660944206007, 0.3169527896995713, 0.29447850671026665)\n"
     ]
    }
   ],
   "source": [
    "print(get_mean_precision_scores(cross_encoder_results))"
   ]
  },
  {
   "cell_type": "code",
   "execution_count": 17,
   "metadata": {},
   "outputs": [
    {
     "name": "stdout",
     "output_type": "stream",
     "text": [
      "(0.5708154506437768, 0.6155221745350499, 0.6112124463519313, 0.6105593936430078)\n"
     ]
    }
   ],
   "source": [
    "print(get_map_scores(cross_encoder_results))"
   ]
  },
  {
   "cell_type": "markdown",
   "metadata": {},
   "source": [
    "## Scores for BM25 Keyword Search"
   ]
  },
  {
   "cell_type": "code",
   "execution_count": 18,
   "metadata": {},
   "outputs": [],
   "source": [
    "keyword_results = get_results(\"keyword_results_annotated.json\")"
   ]
  },
  {
   "cell_type": "code",
   "execution_count": 19,
   "metadata": {},
   "outputs": [
    {
     "name": "stdout",
     "output_type": "stream",
     "text": [
      "(0.5536480686695279, 0.3447782546494992, 0.2786123032904153, 0.25883745486749793)\n"
     ]
    }
   ],
   "source": [
    "print(get_mean_precision_scores(keyword_results))"
   ]
  },
  {
   "cell_type": "code",
   "execution_count": 20,
   "metadata": {},
   "outputs": [
    {
     "name": "stdout",
     "output_type": "stream",
     "text": [
      "(0.5536480686695279, 0.590486409155937, 0.5890915593705291, 0.5827940790049926)\n"
     ]
    }
   ],
   "source": [
    "print(get_map_scores(keyword_results))"
   ]
  },
  {
   "cell_type": "markdown",
   "metadata": {},
   "source": [
    "## Scores for Hybrid Search"
   ]
  },
  {
   "cell_type": "code",
   "execution_count": 21,
   "metadata": {},
   "outputs": [],
   "source": [
    "hybrid_results = get_results(\"hybrid_search_results_annotated.json\")"
   ]
  },
  {
   "cell_type": "code",
   "execution_count": 22,
   "metadata": {},
   "outputs": [
    {
     "name": "stdout",
     "output_type": "stream",
     "text": [
      "(0.6952789699570815, 0.675250357653791, 0.6595851216022889, 0.6535969752707949)\n"
     ]
    }
   ],
   "source": [
    "print(get_mean_precision_scores(hybrid_results))"
   ]
  },
  {
   "cell_type": "code",
   "execution_count": 23,
   "metadata": {},
   "outputs": [
    {
     "name": "stdout",
     "output_type": "stream",
     "text": [
      "(0.6952789699570815, 0.7160228898426324, 0.7155460181211253, 0.7152829601082206)\n"
     ]
    }
   ],
   "source": [
    "print(get_map_scores(hybrid_results))"
   ]
  },
  {
   "cell_type": "code",
   "execution_count": null,
   "metadata": {},
   "outputs": [],
   "source": []
  }
 ],
 "metadata": {
  "kernelspec": {
   "display_name": "venv",
   "language": "python",
   "name": "python3"
  },
  "language_info": {
   "codemirror_mode": {
    "name": "ipython",
    "version": 3
   },
   "file_extension": ".py",
   "mimetype": "text/x-python",
   "name": "python",
   "nbconvert_exporter": "python",
   "pygments_lexer": "ipython3",
   "version": "3.10.15"
  }
 },
 "nbformat": 4,
 "nbformat_minor": 2
}
